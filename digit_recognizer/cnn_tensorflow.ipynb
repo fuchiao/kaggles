{
 "cells": [
  {
   "cell_type": "code",
   "execution_count": 1,
   "metadata": {},
   "outputs": [],
   "source": [
    "import numpy as np\n",
    "import pandas as pd\n",
    "import matplotlib.pyplot as plt\n",
    "%matplotlib inline"
   ]
  },
  {
   "cell_type": "code",
   "execution_count": 2,
   "metadata": {},
   "outputs": [
    {
     "name": "stdout",
     "output_type": "stream",
     "text": [
      "sample_submission.csv  test.csv  train.csv\r\n"
     ]
    }
   ],
   "source": [
    "%ls ~/.kaggle/competitions/digit-recognizer/"
   ]
  },
  {
   "cell_type": "code",
   "execution_count": 3,
   "metadata": {},
   "outputs": [
    {
     "data": {
      "text/html": [
       "<div>\n",
       "<style scoped>\n",
       "    .dataframe tbody tr th:only-of-type {\n",
       "        vertical-align: middle;\n",
       "    }\n",
       "\n",
       "    .dataframe tbody tr th {\n",
       "        vertical-align: top;\n",
       "    }\n",
       "\n",
       "    .dataframe thead th {\n",
       "        text-align: right;\n",
       "    }\n",
       "</style>\n",
       "<table border=\"1\" class=\"dataframe\">\n",
       "  <thead>\n",
       "    <tr style=\"text-align: right;\">\n",
       "      <th></th>\n",
       "      <th>label</th>\n",
       "      <th>pixel0</th>\n",
       "      <th>pixel1</th>\n",
       "      <th>pixel2</th>\n",
       "      <th>pixel3</th>\n",
       "      <th>pixel4</th>\n",
       "      <th>pixel5</th>\n",
       "      <th>pixel6</th>\n",
       "      <th>pixel7</th>\n",
       "      <th>pixel8</th>\n",
       "      <th>...</th>\n",
       "      <th>pixel774</th>\n",
       "      <th>pixel775</th>\n",
       "      <th>pixel776</th>\n",
       "      <th>pixel777</th>\n",
       "      <th>pixel778</th>\n",
       "      <th>pixel779</th>\n",
       "      <th>pixel780</th>\n",
       "      <th>pixel781</th>\n",
       "      <th>pixel782</th>\n",
       "      <th>pixel783</th>\n",
       "    </tr>\n",
       "  </thead>\n",
       "  <tbody>\n",
       "    <tr>\n",
       "      <th>0</th>\n",
       "      <td>1</td>\n",
       "      <td>0</td>\n",
       "      <td>0</td>\n",
       "      <td>0</td>\n",
       "      <td>0</td>\n",
       "      <td>0</td>\n",
       "      <td>0</td>\n",
       "      <td>0</td>\n",
       "      <td>0</td>\n",
       "      <td>0</td>\n",
       "      <td>...</td>\n",
       "      <td>0</td>\n",
       "      <td>0</td>\n",
       "      <td>0</td>\n",
       "      <td>0</td>\n",
       "      <td>0</td>\n",
       "      <td>0</td>\n",
       "      <td>0</td>\n",
       "      <td>0</td>\n",
       "      <td>0</td>\n",
       "      <td>0</td>\n",
       "    </tr>\n",
       "    <tr>\n",
       "      <th>1</th>\n",
       "      <td>0</td>\n",
       "      <td>0</td>\n",
       "      <td>0</td>\n",
       "      <td>0</td>\n",
       "      <td>0</td>\n",
       "      <td>0</td>\n",
       "      <td>0</td>\n",
       "      <td>0</td>\n",
       "      <td>0</td>\n",
       "      <td>0</td>\n",
       "      <td>...</td>\n",
       "      <td>0</td>\n",
       "      <td>0</td>\n",
       "      <td>0</td>\n",
       "      <td>0</td>\n",
       "      <td>0</td>\n",
       "      <td>0</td>\n",
       "      <td>0</td>\n",
       "      <td>0</td>\n",
       "      <td>0</td>\n",
       "      <td>0</td>\n",
       "    </tr>\n",
       "    <tr>\n",
       "      <th>2</th>\n",
       "      <td>1</td>\n",
       "      <td>0</td>\n",
       "      <td>0</td>\n",
       "      <td>0</td>\n",
       "      <td>0</td>\n",
       "      <td>0</td>\n",
       "      <td>0</td>\n",
       "      <td>0</td>\n",
       "      <td>0</td>\n",
       "      <td>0</td>\n",
       "      <td>...</td>\n",
       "      <td>0</td>\n",
       "      <td>0</td>\n",
       "      <td>0</td>\n",
       "      <td>0</td>\n",
       "      <td>0</td>\n",
       "      <td>0</td>\n",
       "      <td>0</td>\n",
       "      <td>0</td>\n",
       "      <td>0</td>\n",
       "      <td>0</td>\n",
       "    </tr>\n",
       "    <tr>\n",
       "      <th>3</th>\n",
       "      <td>4</td>\n",
       "      <td>0</td>\n",
       "      <td>0</td>\n",
       "      <td>0</td>\n",
       "      <td>0</td>\n",
       "      <td>0</td>\n",
       "      <td>0</td>\n",
       "      <td>0</td>\n",
       "      <td>0</td>\n",
       "      <td>0</td>\n",
       "      <td>...</td>\n",
       "      <td>0</td>\n",
       "      <td>0</td>\n",
       "      <td>0</td>\n",
       "      <td>0</td>\n",
       "      <td>0</td>\n",
       "      <td>0</td>\n",
       "      <td>0</td>\n",
       "      <td>0</td>\n",
       "      <td>0</td>\n",
       "      <td>0</td>\n",
       "    </tr>\n",
       "    <tr>\n",
       "      <th>4</th>\n",
       "      <td>0</td>\n",
       "      <td>0</td>\n",
       "      <td>0</td>\n",
       "      <td>0</td>\n",
       "      <td>0</td>\n",
       "      <td>0</td>\n",
       "      <td>0</td>\n",
       "      <td>0</td>\n",
       "      <td>0</td>\n",
       "      <td>0</td>\n",
       "      <td>...</td>\n",
       "      <td>0</td>\n",
       "      <td>0</td>\n",
       "      <td>0</td>\n",
       "      <td>0</td>\n",
       "      <td>0</td>\n",
       "      <td>0</td>\n",
       "      <td>0</td>\n",
       "      <td>0</td>\n",
       "      <td>0</td>\n",
       "      <td>0</td>\n",
       "    </tr>\n",
       "  </tbody>\n",
       "</table>\n",
       "<p>5 rows × 785 columns</p>\n",
       "</div>"
      ],
      "text/plain": [
       "   label  pixel0  pixel1  pixel2  pixel3  pixel4  pixel5  pixel6  pixel7  \\\n",
       "0      1       0       0       0       0       0       0       0       0   \n",
       "1      0       0       0       0       0       0       0       0       0   \n",
       "2      1       0       0       0       0       0       0       0       0   \n",
       "3      4       0       0       0       0       0       0       0       0   \n",
       "4      0       0       0       0       0       0       0       0       0   \n",
       "\n",
       "   pixel8    ...     pixel774  pixel775  pixel776  pixel777  pixel778  \\\n",
       "0       0    ...            0         0         0         0         0   \n",
       "1       0    ...            0         0         0         0         0   \n",
       "2       0    ...            0         0         0         0         0   \n",
       "3       0    ...            0         0         0         0         0   \n",
       "4       0    ...            0         0         0         0         0   \n",
       "\n",
       "   pixel779  pixel780  pixel781  pixel782  pixel783  \n",
       "0         0         0         0         0         0  \n",
       "1         0         0         0         0         0  \n",
       "2         0         0         0         0         0  \n",
       "3         0         0         0         0         0  \n",
       "4         0         0         0         0         0  \n",
       "\n",
       "[5 rows x 785 columns]"
      ]
     },
     "execution_count": 3,
     "metadata": {},
     "output_type": "execute_result"
    }
   ],
   "source": [
    "train = pd.read_csv('~/.kaggle/competitions/digit-recognizer/train.csv')\n",
    "train.head()"
   ]
  },
  {
   "cell_type": "code",
   "execution_count": 4,
   "metadata": {},
   "outputs": [
    {
     "data": {
      "text/html": [
       "<div>\n",
       "<style scoped>\n",
       "    .dataframe tbody tr th:only-of-type {\n",
       "        vertical-align: middle;\n",
       "    }\n",
       "\n",
       "    .dataframe tbody tr th {\n",
       "        vertical-align: top;\n",
       "    }\n",
       "\n",
       "    .dataframe thead th {\n",
       "        text-align: right;\n",
       "    }\n",
       "</style>\n",
       "<table border=\"1\" class=\"dataframe\">\n",
       "  <thead>\n",
       "    <tr style=\"text-align: right;\">\n",
       "      <th></th>\n",
       "      <th>pixel0</th>\n",
       "      <th>pixel1</th>\n",
       "      <th>pixel2</th>\n",
       "      <th>pixel3</th>\n",
       "      <th>pixel4</th>\n",
       "      <th>pixel5</th>\n",
       "      <th>pixel6</th>\n",
       "      <th>pixel7</th>\n",
       "      <th>pixel8</th>\n",
       "      <th>pixel9</th>\n",
       "      <th>...</th>\n",
       "      <th>pixel774</th>\n",
       "      <th>pixel775</th>\n",
       "      <th>pixel776</th>\n",
       "      <th>pixel777</th>\n",
       "      <th>pixel778</th>\n",
       "      <th>pixel779</th>\n",
       "      <th>pixel780</th>\n",
       "      <th>pixel781</th>\n",
       "      <th>pixel782</th>\n",
       "      <th>pixel783</th>\n",
       "    </tr>\n",
       "  </thead>\n",
       "  <tbody>\n",
       "    <tr>\n",
       "      <th>0</th>\n",
       "      <td>0</td>\n",
       "      <td>0</td>\n",
       "      <td>0</td>\n",
       "      <td>0</td>\n",
       "      <td>0</td>\n",
       "      <td>0</td>\n",
       "      <td>0</td>\n",
       "      <td>0</td>\n",
       "      <td>0</td>\n",
       "      <td>0</td>\n",
       "      <td>...</td>\n",
       "      <td>0</td>\n",
       "      <td>0</td>\n",
       "      <td>0</td>\n",
       "      <td>0</td>\n",
       "      <td>0</td>\n",
       "      <td>0</td>\n",
       "      <td>0</td>\n",
       "      <td>0</td>\n",
       "      <td>0</td>\n",
       "      <td>0</td>\n",
       "    </tr>\n",
       "    <tr>\n",
       "      <th>1</th>\n",
       "      <td>0</td>\n",
       "      <td>0</td>\n",
       "      <td>0</td>\n",
       "      <td>0</td>\n",
       "      <td>0</td>\n",
       "      <td>0</td>\n",
       "      <td>0</td>\n",
       "      <td>0</td>\n",
       "      <td>0</td>\n",
       "      <td>0</td>\n",
       "      <td>...</td>\n",
       "      <td>0</td>\n",
       "      <td>0</td>\n",
       "      <td>0</td>\n",
       "      <td>0</td>\n",
       "      <td>0</td>\n",
       "      <td>0</td>\n",
       "      <td>0</td>\n",
       "      <td>0</td>\n",
       "      <td>0</td>\n",
       "      <td>0</td>\n",
       "    </tr>\n",
       "    <tr>\n",
       "      <th>2</th>\n",
       "      <td>0</td>\n",
       "      <td>0</td>\n",
       "      <td>0</td>\n",
       "      <td>0</td>\n",
       "      <td>0</td>\n",
       "      <td>0</td>\n",
       "      <td>0</td>\n",
       "      <td>0</td>\n",
       "      <td>0</td>\n",
       "      <td>0</td>\n",
       "      <td>...</td>\n",
       "      <td>0</td>\n",
       "      <td>0</td>\n",
       "      <td>0</td>\n",
       "      <td>0</td>\n",
       "      <td>0</td>\n",
       "      <td>0</td>\n",
       "      <td>0</td>\n",
       "      <td>0</td>\n",
       "      <td>0</td>\n",
       "      <td>0</td>\n",
       "    </tr>\n",
       "    <tr>\n",
       "      <th>3</th>\n",
       "      <td>0</td>\n",
       "      <td>0</td>\n",
       "      <td>0</td>\n",
       "      <td>0</td>\n",
       "      <td>0</td>\n",
       "      <td>0</td>\n",
       "      <td>0</td>\n",
       "      <td>0</td>\n",
       "      <td>0</td>\n",
       "      <td>0</td>\n",
       "      <td>...</td>\n",
       "      <td>0</td>\n",
       "      <td>0</td>\n",
       "      <td>0</td>\n",
       "      <td>0</td>\n",
       "      <td>0</td>\n",
       "      <td>0</td>\n",
       "      <td>0</td>\n",
       "      <td>0</td>\n",
       "      <td>0</td>\n",
       "      <td>0</td>\n",
       "    </tr>\n",
       "    <tr>\n",
       "      <th>4</th>\n",
       "      <td>0</td>\n",
       "      <td>0</td>\n",
       "      <td>0</td>\n",
       "      <td>0</td>\n",
       "      <td>0</td>\n",
       "      <td>0</td>\n",
       "      <td>0</td>\n",
       "      <td>0</td>\n",
       "      <td>0</td>\n",
       "      <td>0</td>\n",
       "      <td>...</td>\n",
       "      <td>0</td>\n",
       "      <td>0</td>\n",
       "      <td>0</td>\n",
       "      <td>0</td>\n",
       "      <td>0</td>\n",
       "      <td>0</td>\n",
       "      <td>0</td>\n",
       "      <td>0</td>\n",
       "      <td>0</td>\n",
       "      <td>0</td>\n",
       "    </tr>\n",
       "  </tbody>\n",
       "</table>\n",
       "<p>5 rows × 784 columns</p>\n",
       "</div>"
      ],
      "text/plain": [
       "   pixel0  pixel1  pixel2  pixel3  pixel4  pixel5  pixel6  pixel7  pixel8  \\\n",
       "0       0       0       0       0       0       0       0       0       0   \n",
       "1       0       0       0       0       0       0       0       0       0   \n",
       "2       0       0       0       0       0       0       0       0       0   \n",
       "3       0       0       0       0       0       0       0       0       0   \n",
       "4       0       0       0       0       0       0       0       0       0   \n",
       "\n",
       "   pixel9    ...     pixel774  pixel775  pixel776  pixel777  pixel778  \\\n",
       "0       0    ...            0         0         0         0         0   \n",
       "1       0    ...            0         0         0         0         0   \n",
       "2       0    ...            0         0         0         0         0   \n",
       "3       0    ...            0         0         0         0         0   \n",
       "4       0    ...            0         0         0         0         0   \n",
       "\n",
       "   pixel779  pixel780  pixel781  pixel782  pixel783  \n",
       "0         0         0         0         0         0  \n",
       "1         0         0         0         0         0  \n",
       "2         0         0         0         0         0  \n",
       "3         0         0         0         0         0  \n",
       "4         0         0         0         0         0  \n",
       "\n",
       "[5 rows x 784 columns]"
      ]
     },
     "execution_count": 4,
     "metadata": {},
     "output_type": "execute_result"
    }
   ],
   "source": [
    "test = pd.read_csv('~/.kaggle/competitions/digit-recognizer/test.csv')\n",
    "test.head()"
   ]
  },
  {
   "cell_type": "code",
   "execution_count": 5,
   "metadata": {},
   "outputs": [
    {
     "data": {
      "text/plain": [
       "<matplotlib.axes._subplots.AxesSubplot at 0x7f1f099f6898>"
      ]
     },
     "execution_count": 5,
     "metadata": {},
     "output_type": "execute_result"
    },
    {
     "data": {
      "image/png": "[encoded data removed]",
      "text/plain": [
       "<matplotlib.figure.Figure at 0x7f1f099caef0>"
      ]
     },
     "metadata": {},
     "output_type": "display_data"
    }
   ],
   "source": [
    "train.pixel100.plot(kind='hist')"
   ]
  },
  {
   "cell_type": "code",
   "execution_count": 6,
   "metadata": {},
   "outputs": [
    {
     "data": {
      "text/plain": [
       "<matplotlib.axes._subplots.AxesSubplot at 0x7f1ed737dc18>"
      ]
     },
     "execution_count": 6,
     "metadata": {},
     "output_type": "execute_result"
    },
    {
     "data": {
      "image/png": "[encoded data removed]",
      "text/plain": [
       "<matplotlib.figure.Figure at 0x7f1f1e770828>"
      ]
     },
     "metadata": {},
     "output_type": "display_data"
    }
   ],
   "source": [
    "train.label.plot(kind='hist')"
   ]
  },
  {
   "cell_type": "code",
   "execution_count": 7,
   "metadata": {},
   "outputs": [
    {
     "data": {
      "text/plain": [
       "784"
      ]
     },
     "execution_count": 7,
     "metadata": {},
     "output_type": "execute_result"
    }
   ],
   "source": [
    "cols = test.columns.tolist()\n",
    "len(cols)"
   ]
  },
  {
   "cell_type": "code",
   "execution_count": 8,
   "metadata": {},
   "outputs": [],
   "source": [
    "X_train = train[cols].values\n",
    "y_train = train['label'].values\n",
    "X_test = test[cols].values"
   ]
  },
  {
   "cell_type": "code",
   "execution_count": 9,
   "metadata": {},
   "outputs": [
    {
     "data": {
      "text/plain": [
       "((42000, 784), (42000,))"
      ]
     },
     "execution_count": 9,
     "metadata": {},
     "output_type": "execute_result"
    }
   ],
   "source": [
    "X_train.shape, y_train.shape"
   ]
  },
  {
   "cell_type": "code",
   "execution_count": 10,
   "metadata": {},
   "outputs": [
    {
     "data": {
      "text/plain": [
       "<matplotlib.image.AxesImage at 0x7f1f09b91a20>"
      ]
     },
     "execution_count": 10,
     "metadata": {},
     "output_type": "execute_result"
    },
    {
     "data": {
      "image/png": "[encoded data removed]",
      "text/plain": [
       "<matplotlib.figure.Figure at 0x7f1f09c36630>"
      ]
     },
     "metadata": {},
     "output_type": "display_data"
    }
   ],
   "source": [
    "plt.imshow(X_train.reshape((-1, 28, 28))[0], cmap='gray')"
   ]
  },
  {
   "cell_type": "code",
   "execution_count": 11,
   "metadata": {},
   "outputs": [],
   "source": [
    "from sklearn.model_selection import train_test_split"
   ]
  },
  {
   "cell_type": "code",
   "execution_count": 12,
   "metadata": {},
   "outputs": [],
   "source": [
    "X_train, X_val, y_train, y_val = train_test_split(X_train, y_train, test_size=0.1, random_state=768)"
   ]
  },
  {
   "cell_type": "code",
   "execution_count": 13,
   "metadata": {},
   "outputs": [
    {
     "data": {
      "text/plain": [
       "((37800,), (4200,))"
      ]
     },
     "execution_count": 13,
     "metadata": {},
     "output_type": "execute_result"
    }
   ],
   "source": [
    "y_train.shape, y_val.shape"
   ]
  },
  {
   "cell_type": "code",
   "execution_count": 14,
   "metadata": {},
   "outputs": [
    {
     "data": {
      "text/plain": [
       "(array([3724, 4210, 3743, 3917, 3657, 3410, 3729, 3938, 3698, 3774]),\n",
       " array([408, 474, 434, 434, 415, 385, 408, 463, 365, 414]))"
      ]
     },
     "execution_count": 14,
     "metadata": {},
     "output_type": "execute_result"
    }
   ],
   "source": [
    "np.bincount(y_train), np.bincount(y_val)"
   ]
  },
  {
   "cell_type": "markdown",
   "metadata": {},
   "source": [
    "# Tensorflow DNN"
   ]
  },
  {
   "cell_type": "code",
   "execution_count": 15,
   "metadata": {},
   "outputs": [
    {
     "data": {
      "text/plain": [
       "array([6, 2, 0, 1, 6])"
      ]
     },
     "execution_count": 15,
     "metadata": {},
     "output_type": "execute_result"
    }
   ],
   "source": [
    "y_train[:5]"
   ]
  },
  {
   "cell_type": "code",
   "execution_count": 16,
   "metadata": {},
   "outputs": [
    {
     "name": "stderr",
     "output_type": "stream",
     "text": [
      "/home/zack/anaconda3/envs/dev/lib/python3.6/site-packages/h5py/__init__.py:36: FutureWarning: Conversion of the second argument of issubdtype from `float` to `np.floating` is deprecated. In future, it will be treated as `np.float64 == np.dtype(float).type`.\n",
      "  from ._conv import register_converters as _register_converters\n"
     ]
    }
   ],
   "source": [
    "import tensorflow as tf\n",
    "def reset_graph(seed=42):\n",
    "    tf.reset_default_graph()\n",
    "    tf.set_random_seed(seed)\n",
    "    np.random.seed(seed)"
   ]
  },
  {
   "cell_type": "markdown",
   "metadata": {},
   "source": [
    "## tf.layers.dense()"
   ]
  },
  {
   "cell_type": "code",
   "execution_count": 45,
   "metadata": {},
   "outputs": [],
   "source": [
    "n_inputs = 28*28  # MNIST\n",
    "n_hidden1 = 512\n",
    "n_hidden2 = 128\n",
    "n_outputs = 10\n",
    "reset_graph()\n",
    "\n",
    "X = tf.placeholder(tf.float32, shape=(None, n_inputs), name=\"X\")\n",
    "y = tf.placeholder(tf.int64, shape=(None), name=\"y\")\n",
    "training = tf.placeholder_with_default(False, shape=(), name='training')\n",
    "\n",
    "he_init = tf.contrib.layers.variance_scaling_initializer(mode=\"FAN_AVG\")\n",
    "with tf.name_scope(\"cnn\"):\n",
    "    X_reshaped = tf.reshape(X, [-1, 28, 28, 1])\n",
    "    bn1 = tf.layers.batch_normalization(X_reshaped, axis=-1, training=training)\n",
    "    conv1 = tf.layers.conv2d(bn1, filters=32, kernel_size=3, activation=tf.nn.leaky_relu)\n",
    "    conv1 = tf.layers.conv2d(conv1, filters=32, kernel_size=3, activation=tf.nn.leaky_relu)\n",
    "    conv1 = tf.layers.batch_normalization(conv1, axis=-1, training=training)\n",
    "    conv1 = tf.layers.max_pooling2d(conv1, 2, 2)\n",
    "    conv1 = tf.layers.dropout(conv1, 0.25, training=training)\n",
    "    conv2 = tf.layers.conv2d(conv1, filters=64, kernel_size=3, activation=tf.nn.leaky_relu)\n",
    "    conv2 = tf.layers.conv2d(conv2, filters=64, kernel_size=3, activation=tf.nn.leaky_relu)\n",
    "    conv2 = tf.layers.batch_normalization(conv2, axis=-1, training=training)\n",
    "    conv2 = tf.layers.max_pooling2d(conv2, 2, 2)\n",
    "    conv2 = tf.layers.dropout(conv2, 0.25, training=training)\n",
    "    flatten = tf.contrib.layers.flatten(conv2)\n",
    "    hidden1 = tf.layers.dense(flatten, n_hidden1, name=\"hidden1\", activation=tf.nn.leaky_relu,\n",
    "                              kernel_initializer=he_init, kernel_regularizer=tf.contrib.layers.l2_regularizer(0.005))\n",
    "    hidden1 = tf.layers.dropout(hidden1, 0.5, training=training)\n",
    "    hidden2 = tf.layers.dense(hidden1, n_hidden2, name=\"hidden2\", activation=tf.nn.leaky_relu,\n",
    "                              kernel_initializer=he_init, kernel_regularizer=tf.contrib.layers.l2_regularizer(0.005))\n",
    "    hidden2 = tf.layers.dropout(hidden2, 0.5, training=training)\n",
    "    logits = tf.layers.dense(hidden2, n_outputs, name=\"outputs\")\n",
    "\n",
    "with tf.name_scope('loss'):\n",
    "    xentropy = tf.nn.sparse_softmax_cross_entropy_with_logits(labels=y, logits=logits)\n",
    "    loss = tf.reduce_mean(xentropy, name='loss')\n",
    "\n",
    "with tf.name_scope('train'):\n",
    "    global_step = tf.Variable(0, trainable=False)\n",
    "    learning_rate = tf.train.exponential_decay(0.001, global_step=global_step,\n",
    "                                               decay_steps=2000, decay_rate=0.9, staircase=True)\n",
    "    optimizer = tf.train.AdamOptimizer(learning_rate)\n",
    "    extra_update_ops = tf.get_collection(tf.GraphKeys.UPDATE_OPS)\n",
    "    with tf.control_dependencies(extra_update_ops):\n",
    "        training_op = optimizer.minimize(loss, global_step=global_step)\n",
    "    \n",
    "with tf.name_scope('eval'):\n",
    "    correct = tf.nn.in_top_k(logits, y, 1)\n",
    "    accuracy = tf.reduce_mean(tf.cast(correct, tf.float32))"
   ]
  },
  {
   "cell_type": "code",
   "execution_count": 46,
   "metadata": {},
   "outputs": [
    {
     "name": "stdout",
     "output_type": "stream",
     "text": [
      "0 train_acc:0.8557142615318298 val_acc:0.863095223903656\n",
      "1 train_acc:0.967380940914154 val_acc:0.9685714244842529\n",
      "2 train_acc:0.9871428608894348 val_acc:0.9819047451019287\n",
      "3 train_acc:0.9900000095367432 val_acc:0.9850000143051147\n",
      "4 train_acc:0.9926190376281738 val_acc:0.9866666793823242\n",
      "5 train_acc:0.9942857027053833 val_acc:0.989047646522522\n",
      "6 train_acc:0.9940476417541504 val_acc:0.9897618889808655\n",
      "7 train_acc:0.9930952191352844 val_acc:0.9878571629524231\n",
      "8 train_acc:0.9928571581840515 val_acc:0.989047646522522\n",
      "9 train_acc:0.9921428561210632 val_acc:0.9892857074737549\n",
      "10 train_acc:0.9940476417541504 val_acc:0.9900000095367432\n",
      "11 train_acc:0.994523823261261 val_acc:0.9900000095367432\n",
      "12 train_acc:0.9947618842124939 val_acc:0.9895238280296326\n",
      "13 train_acc:0.9954761862754822 val_acc:0.9897618889808655\n",
      "14 train_acc:0.994523823261261 val_acc:0.989047646522522\n",
      "15 train_acc:0.9959523677825928 val_acc:0.988095223903656\n",
      "16 train_acc:0.9930952191352844 val_acc:0.989047646522522\n",
      "17 train_acc:0.996666669845581 val_acc:0.9888095259666443\n",
      "18 train_acc:0.9973809719085693 val_acc:0.9909523725509644\n",
      "19 train_acc:0.9952380657196045 val_acc:0.9888095259666443\n",
      "20 train_acc:0.9973809719085693 val_acc:0.9900000095367432\n",
      "21 train_acc:0.9971428513526917 val_acc:0.991190493106842\n",
      "22 train_acc:0.9969047904014587 val_acc:0.991428554058075\n",
      "23 train_acc:0.9969047904014587 val_acc:0.9926190376281738\n",
      "24 train_acc:0.9971428513526917 val_acc:0.9921428561210632\n",
      "25 train_acc:0.9942857027053833 val_acc:0.9892857074737549\n",
      "26 train_acc:0.9988095164299011 val_acc:0.991190493106842\n",
      "27 train_acc:0.9983333349227905 val_acc:0.994523823261261\n",
      "28 train_acc:0.9969047904014587 val_acc:0.9923809766769409\n",
      "29 train_acc:0.9959523677825928 val_acc:0.9883333444595337\n",
      "30 train_acc:0.9980952143669128 val_acc:0.9919047355651855\n",
      "31 train_acc:0.9988095164299011 val_acc:0.991428554058075\n",
      "32 train_acc:0.9980952143669128 val_acc:0.9923809766769409\n",
      "33 train_acc:0.9980952143669128 val_acc:0.9916666746139526\n",
      "34 train_acc:0.9995238184928894 val_acc:0.9933333396911621\n",
      "35 train_acc:0.9985714554786682 val_acc:0.9919047355651855\n",
      "36 train_acc:0.9995238184928894 val_acc:0.9928571581840515\n",
      "37 train_acc:0.9997618794441223 val_acc:0.9926190376281738\n",
      "38 train_acc:0.9997618794441223 val_acc:0.9940476417541504\n",
      "39 train_acc:0.9990476369857788 val_acc:0.9921428561210632\n",
      "40 train_acc:0.9997618794441223 val_acc:0.9933333396911621\n",
      "41 train_acc:0.9995238184928894 val_acc:0.9909523725509644\n",
      "42 train_acc:0.9997618794441223 val_acc:0.9926190376281738\n",
      "43 train_acc:0.9992856979370117 val_acc:0.9928571581840515\n",
      "44 train_acc:0.9997618794441223 val_acc:0.9926190376281738\n",
      "45 train_acc:0.9985714554786682 val_acc:0.9902380704879761\n",
      "46 train_acc:0.9992856979370117 val_acc:0.9940476417541504\n",
      "47 train_acc:0.9997618794441223 val_acc:0.9928571581840515\n",
      "48 train_acc:0.9995238184928894 val_acc:0.991428554058075\n",
      "49 train_acc:0.9995238184928894 val_acc:0.9926190376281738\n",
      "50 train_acc:1.0 val_acc:0.9928571581840515\n",
      "51 train_acc:0.9995238184928894 val_acc:0.9921428561210632\n",
      "52 train_acc:0.9992856979370117 val_acc:0.9921428561210632\n",
      "53 train_acc:0.9995238184928894 val_acc:0.993571400642395\n",
      "54 train_acc:0.9997618794441223 val_acc:0.9921428561210632\n",
      "55 train_acc:0.9990476369857788 val_acc:0.9919047355651855\n",
      "56 train_acc:0.9997618794441223 val_acc:0.993571400642395\n",
      "57 train_acc:1.0 val_acc:0.9940476417541504\n",
      "58 train_acc:0.9995238184928894 val_acc:0.9938095211982727\n",
      "59 train_acc:1.0 val_acc:0.9942857027053833\n",
      "60 train_acc:0.9997618794441223 val_acc:0.991428554058075\n",
      "61 train_acc:0.9997618794441223 val_acc:0.9930952191352844\n",
      "62 train_acc:0.9997618794441223 val_acc:0.9933333396911621\n",
      "63 train_acc:0.9995238184928894 val_acc:0.9933333396911621\n",
      "64 train_acc:0.9997618794441223 val_acc:0.9933333396911621\n",
      "65 train_acc:1.0 val_acc:0.993571400642395\n",
      "66 train_acc:0.9995238184928894 val_acc:0.9928571581840515\n",
      "67 train_acc:1.0 val_acc:0.9940476417541504\n",
      "68 train_acc:1.0 val_acc:0.9923809766769409\n",
      "69 train_acc:0.9997618794441223 val_acc:0.9938095211982727\n",
      "70 train_acc:1.0 val_acc:0.993571400642395\n",
      "71 train_acc:0.9997618794441223 val_acc:0.9938095211982727\n",
      "72 train_acc:1.0 val_acc:0.9923809766769409\n",
      "73 train_acc:0.9995238184928894 val_acc:0.9926190376281738\n",
      "74 train_acc:1.0 val_acc:0.9938095211982727\n",
      "75 train_acc:0.9995238184928894 val_acc:0.9930952191352844\n",
      "76 train_acc:1.0 val_acc:0.9938095211982727\n",
      "77 train_acc:0.9997618794441223 val_acc:0.993571400642395\n",
      "78 train_acc:1.0 val_acc:0.9930952191352844\n",
      "79 train_acc:1.0 val_acc:0.9928571581840515\n",
      "80 train_acc:1.0 val_acc:0.993571400642395\n",
      "81 train_acc:0.9995238184928894 val_acc:0.993571400642395\n",
      "82 train_acc:0.9997618794441223 val_acc:0.9933333396911621\n",
      "83 train_acc:0.9997618794441223 val_acc:0.9930952191352844\n",
      "84 train_acc:1.0 val_acc:0.9938095211982727\n",
      "85 train_acc:1.0 val_acc:0.9938095211982727\n",
      "86 train_acc:0.9997618794441223 val_acc:0.9928571581840515\n",
      "87 train_acc:1.0 val_acc:0.9938095211982727\n",
      "88 train_acc:1.0 val_acc:0.9933333396911621\n",
      "89 train_acc:1.0 val_acc:0.9933333396911621\n",
      "90 train_acc:1.0 val_acc:0.9928571581840515\n",
      "91 train_acc:1.0 val_acc:0.9938095211982727\n",
      "92 train_acc:1.0 val_acc:0.993571400642395\n",
      "93 train_acc:1.0 val_acc:0.9926190376281738\n",
      "94 train_acc:1.0 val_acc:0.9930952191352844\n",
      "95 train_acc:1.0 val_acc:0.9933333396911621\n",
      "96 train_acc:1.0 val_acc:0.993571400642395\n",
      "97 train_acc:1.0 val_acc:0.9928571581840515\n",
      "98 train_acc:1.0 val_acc:0.9930952191352844\n",
      "99 train_acc:1.0 val_acc:0.9923809766769409\n"
     ]
    }
   ],
   "source": [
    "init = tf.global_variables_initializer()\n",
    "saver = tf.train.Saver()\n",
    "n_epochs = 100\n",
    "batch_size = 128\n",
    "config = tf.ConfigProto()\n",
    "config.gpu_options.allow_growth = True\n",
    "with tf.Session(config=config) as sess:\n",
    "    init.run()\n",
    "    for epoch in range(n_epochs):\n",
    "        indices = np.arange(X_train.shape[0])\n",
    "        np.random.shuffle(indices)\n",
    "        for i in range(X_train.shape[0]//batch_size):\n",
    "            feed_dict = {X:X_train[indices[batch_size*i:batch_size*(i+1), ]], \n",
    "                         y:y_train[indices[batch_size*i:batch_size*(i+1), ]],\n",
    "                         training:True}\n",
    "            sess.run(training_op, feed_dict=feed_dict)\n",
    "        acc_train = accuracy.eval(feed_dict={X:X_train[indices[:4200]], y:y_train[indices[:4200]]})\n",
    "        acc_val = accuracy.eval(feed_dict={X:X_val, y:y_val})\n",
    "        print('{} train_acc:{} val_acc:{}'.format(epoch, acc_train, acc_val))\n",
    "    save_path = saver.save(sess, \"./my_model_final.ckpt\")"
   ]
  },
  {
   "cell_type": "code",
   "execution_count": 47,
   "metadata": {},
   "outputs": [
    {
     "name": "stdout",
     "output_type": "stream",
     "text": [
      "INFO:tensorflow:Restoring parameters from ./my_model_final.ckpt\n"
     ]
    },
    {
     "data": {
      "text/plain": [
       "(array([6, 3, 1, 3, 1, 5, 1, 5, 9, 0, 1, 5, 8, 2, 1, 9, 9, 6, 3, 4]),\n",
       " array([6, 3, 1, 3, 1, 5, 1, 5, 9, 0, 1, 5, 8, 2, 1, 9, 9, 6, 3, 4]))"
      ]
     },
     "execution_count": 47,
     "metadata": {},
     "output_type": "execute_result"
    }
   ],
   "source": [
    "with tf.Session() as sess:\n",
    "    saver.restore(sess, \"./my_model_final.ckpt\")\n",
    "    Z = logits.eval(feed_dict={X:X_val})\n",
    "    y_pred = np.argmax(Z, axis=1)\n",
    "y_pred[:20], y_val[:20]"
   ]
  },
  {
   "cell_type": "code",
   "execution_count": 48,
   "metadata": {},
   "outputs": [
    {
     "name": "stdout",
     "output_type": "stream",
     "text": [
      "INFO:tensorflow:Restoring parameters from ./my_model_final.ckpt\n"
     ]
    }
   ],
   "source": [
    "y_pred = []\n",
    "with tf.Session() as sess:\n",
    "    saver.restore(sess, \"./my_model_final.ckpt\")\n",
    "    for X_test_batch in np.split(X_test, 10):\n",
    "        Z = logits.eval(feed_dict={X:X_test_batch})\n",
    "        y_pred.append(np.argmax(Z, axis=1))\n",
    "y_pred = np.hstack(y_pred)"
   ]
  },
  {
   "cell_type": "code",
   "execution_count": 49,
   "metadata": {},
   "outputs": [],
   "source": [
    "df_submit = pd.DataFrame(y_pred, columns=['Label'])\n",
    "df_submit.index += 1\n",
    "df_submit.index.name = 'ImageId'\n",
    "df_submit.to_csv('~/projects/kaggle/digit_recognizer/submit.csv', index=True)"
   ]
  },
  {
   "cell_type": "code",
   "execution_count": null,
   "metadata": {},
   "outputs": [],
   "source": []
  },
  {
   "cell_type": "code",
   "execution_count": null,
   "metadata": {},
   "outputs": [],
   "source": []
  }
 ],
 "metadata": {
  "kernelspec": {
   "display_name": "Python 3",
   "language": "python",
   "name": "python3"
  },
  "language_info": {
   "codemirror_mode": {
    "name": "ipython",
    "version": 3
   },
   "file_extension": ".py",
   "mimetype": "text/x-python",
   "name": "python",
   "nbconvert_exporter": "python",
   "pygments_lexer": "ipython3",
   "version": "3.6.4"
  }
 },
 "nbformat": 4,
 "nbformat_minor": 2
}
