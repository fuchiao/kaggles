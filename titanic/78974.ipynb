{
 "cells": [
  {
   "cell_type": "code",
   "execution_count": 1,
   "metadata": {},
   "outputs": [],
   "source": [
    "import pandas as pd\n",
    "import numpy as np\n",
    "import re\n",
    "import matplotlib.pyplot as plt\n",
    "%matplotlib inline"
   ]
  },
  {
   "cell_type": "code",
   "execution_count": 2,
   "metadata": {},
   "outputs": [],
   "source": [
    "df_train = pd.read_csv('train.csv')"
   ]
  },
  {
   "cell_type": "code",
   "execution_count": 3,
   "metadata": {},
   "outputs": [
    {
     "name": "stdout",
     "output_type": "stream",
     "text": [
      "<class 'pandas.core.frame.DataFrame'>\n",
      "RangeIndex: 891 entries, 0 to 890\n",
      "Data columns (total 12 columns):\n",
      "PassengerId    891 non-null int64\n",
      "Survived       891 non-null int64\n",
      "Pclass         891 non-null int64\n",
      "Name           891 non-null object\n",
      "Sex            891 non-null object\n",
      "Age            714 non-null float64\n",
      "SibSp          891 non-null int64\n",
      "Parch          891 non-null int64\n",
      "Ticket         891 non-null object\n",
      "Fare           891 non-null float64\n",
      "Cabin          204 non-null object\n",
      "Embarked       889 non-null object\n",
      "dtypes: float64(2), int64(5), object(5)\n",
      "memory usage: 83.6+ KB\n"
     ]
    }
   ],
   "source": [
    "df_train.info()"
   ]
  },
  {
   "cell_type": "code",
   "execution_count": 4,
   "metadata": {},
   "outputs": [
    {
     "data": {
      "text/html": [
       "<div>\n",
       "<style scoped>\n",
       "    .dataframe tbody tr th:only-of-type {\n",
       "        vertical-align: middle;\n",
       "    }\n",
       "\n",
       "    .dataframe tbody tr th {\n",
       "        vertical-align: top;\n",
       "    }\n",
       "\n",
       "    .dataframe thead th {\n",
       "        text-align: right;\n",
       "    }\n",
       "</style>\n",
       "<table border=\"1\" class=\"dataframe\">\n",
       "  <thead>\n",
       "    <tr style=\"text-align: right;\">\n",
       "      <th></th>\n",
       "      <th>PassengerId</th>\n",
       "      <th>Survived</th>\n",
       "      <th>Pclass</th>\n",
       "      <th>Name</th>\n",
       "      <th>Sex</th>\n",
       "      <th>Age</th>\n",
       "      <th>SibSp</th>\n",
       "      <th>Parch</th>\n",
       "      <th>Ticket</th>\n",
       "      <th>Fare</th>\n",
       "      <th>Cabin</th>\n",
       "      <th>Embarked</th>\n",
       "    </tr>\n",
       "  </thead>\n",
       "  <tbody>\n",
       "    <tr>\n",
       "      <th>0</th>\n",
       "      <td>1</td>\n",
       "      <td>0</td>\n",
       "      <td>3</td>\n",
       "      <td>Braund, Mr. Owen Harris</td>\n",
       "      <td>male</td>\n",
       "      <td>22.0</td>\n",
       "      <td>1</td>\n",
       "      <td>0</td>\n",
       "      <td>A/5 21171</td>\n",
       "      <td>7.2500</td>\n",
       "      <td>NaN</td>\n",
       "      <td>S</td>\n",
       "    </tr>\n",
       "    <tr>\n",
       "      <th>1</th>\n",
       "      <td>2</td>\n",
       "      <td>1</td>\n",
       "      <td>1</td>\n",
       "      <td>Cumings, Mrs. John Bradley (Florence Briggs Th...</td>\n",
       "      <td>female</td>\n",
       "      <td>38.0</td>\n",
       "      <td>1</td>\n",
       "      <td>0</td>\n",
       "      <td>PC 17599</td>\n",
       "      <td>71.2833</td>\n",
       "      <td>C85</td>\n",
       "      <td>C</td>\n",
       "    </tr>\n",
       "    <tr>\n",
       "      <th>2</th>\n",
       "      <td>3</td>\n",
       "      <td>1</td>\n",
       "      <td>3</td>\n",
       "      <td>Heikkinen, Miss. Laina</td>\n",
       "      <td>female</td>\n",
       "      <td>26.0</td>\n",
       "      <td>0</td>\n",
       "      <td>0</td>\n",
       "      <td>STON/O2. 3101282</td>\n",
       "      <td>7.9250</td>\n",
       "      <td>NaN</td>\n",
       "      <td>S</td>\n",
       "    </tr>\n",
       "    <tr>\n",
       "      <th>3</th>\n",
       "      <td>4</td>\n",
       "      <td>1</td>\n",
       "      <td>1</td>\n",
       "      <td>Futrelle, Mrs. Jacques Heath (Lily May Peel)</td>\n",
       "      <td>female</td>\n",
       "      <td>35.0</td>\n",
       "      <td>1</td>\n",
       "      <td>0</td>\n",
       "      <td>113803</td>\n",
       "      <td>53.1000</td>\n",
       "      <td>C123</td>\n",
       "      <td>S</td>\n",
       "    </tr>\n",
       "    <tr>\n",
       "      <th>4</th>\n",
       "      <td>5</td>\n",
       "      <td>0</td>\n",
       "      <td>3</td>\n",
       "      <td>Allen, Mr. William Henry</td>\n",
       "      <td>male</td>\n",
       "      <td>35.0</td>\n",
       "      <td>0</td>\n",
       "      <td>0</td>\n",
       "      <td>373450</td>\n",
       "      <td>8.0500</td>\n",
       "      <td>NaN</td>\n",
       "      <td>S</td>\n",
       "    </tr>\n",
       "  </tbody>\n",
       "</table>\n",
       "</div>"
      ],
      "text/plain": [
       "   PassengerId  Survived  Pclass  \\\n",
       "0            1         0       3   \n",
       "1            2         1       1   \n",
       "2            3         1       3   \n",
       "3            4         1       1   \n",
       "4            5         0       3   \n",
       "\n",
       "                                                Name     Sex   Age  SibSp  \\\n",
       "0                            Braund, Mr. Owen Harris    male  22.0      1   \n",
       "1  Cumings, Mrs. John Bradley (Florence Briggs Th...  female  38.0      1   \n",
       "2                             Heikkinen, Miss. Laina  female  26.0      0   \n",
       "3       Futrelle, Mrs. Jacques Heath (Lily May Peel)  female  35.0      1   \n",
       "4                           Allen, Mr. William Henry    male  35.0      0   \n",
       "\n",
       "   Parch            Ticket     Fare Cabin Embarked  \n",
       "0      0         A/5 21171   7.2500   NaN        S  \n",
       "1      0          PC 17599  71.2833   C85        C  \n",
       "2      0  STON/O2. 3101282   7.9250   NaN        S  \n",
       "3      0            113803  53.1000  C123        S  \n",
       "4      0            373450   8.0500   NaN        S  "
      ]
     },
     "execution_count": 4,
     "metadata": {},
     "output_type": "execute_result"
    }
   ],
   "source": [
    "df_train.head()"
   ]
  },
  {
   "cell_type": "code",
   "execution_count": 5,
   "metadata": {},
   "outputs": [
    {
     "data": {
      "text/plain": [
       "0.38383838383838381"
      ]
     },
     "execution_count": 5,
     "metadata": {},
     "output_type": "execute_result"
    }
   ],
   "source": [
    "df_train['Survived'].mean()"
   ]
  },
  {
   "cell_type": "code",
   "execution_count": 6,
   "metadata": {},
   "outputs": [],
   "source": [
    "df_test = pd.read_csv('test.csv')"
   ]
  },
  {
   "cell_type": "code",
   "execution_count": 7,
   "metadata": {},
   "outputs": [
    {
     "name": "stdout",
     "output_type": "stream",
     "text": [
      "<class 'pandas.core.frame.DataFrame'>\n",
      "RangeIndex: 418 entries, 0 to 417\n",
      "Data columns (total 11 columns):\n",
      "PassengerId    418 non-null int64\n",
      "Pclass         418 non-null int64\n",
      "Name           418 non-null object\n",
      "Sex            418 non-null object\n",
      "Age            332 non-null float64\n",
      "SibSp          418 non-null int64\n",
      "Parch          418 non-null int64\n",
      "Ticket         418 non-null object\n",
      "Fare           417 non-null float64\n",
      "Cabin          91 non-null object\n",
      "Embarked       418 non-null object\n",
      "dtypes: float64(2), int64(4), object(5)\n",
      "memory usage: 36.0+ KB\n"
     ]
    }
   ],
   "source": [
    "df_test.info()"
   ]
  },
  {
   "cell_type": "code",
   "execution_count": 8,
   "metadata": {},
   "outputs": [],
   "source": [
    "df = pd.concat([df_train, df_test]).reset_index()"
   ]
  },
  {
   "cell_type": "code",
   "execution_count": 9,
   "metadata": {},
   "outputs": [
    {
     "name": "stdout",
     "output_type": "stream",
     "text": [
      "<class 'pandas.core.frame.DataFrame'>\n",
      "RangeIndex: 1309 entries, 0 to 1308\n",
      "Data columns (total 13 columns):\n",
      "index          1309 non-null int64\n",
      "Age            1046 non-null float64\n",
      "Cabin          295 non-null object\n",
      "Embarked       1307 non-null object\n",
      "Fare           1308 non-null float64\n",
      "Name           1309 non-null object\n",
      "Parch          1309 non-null int64\n",
      "PassengerId    1309 non-null int64\n",
      "Pclass         1309 non-null int64\n",
      "Sex            1309 non-null object\n",
      "SibSp          1309 non-null int64\n",
      "Survived       891 non-null float64\n",
      "Ticket         1309 non-null object\n",
      "dtypes: float64(3), int64(5), object(5)\n",
      "memory usage: 133.0+ KB\n"
     ]
    }
   ],
   "source": [
    "df.info()"
   ]
  },
  {
   "cell_type": "markdown",
   "metadata": {},
   "source": [
    "## Sex\n",
    "* categorize"
   ]
  },
  {
   "cell_type": "code",
   "execution_count": 10,
   "metadata": {},
   "outputs": [],
   "source": [
    "df['SexCode'] = df['Sex'].map({'female':0, 'male':1})"
   ]
  },
  {
   "cell_type": "markdown",
   "metadata": {},
   "source": [
    "## Embarked\n",
    "* 3 category, so we try one-hot encoding"
   ]
  },
  {
   "cell_type": "code",
   "execution_count": 11,
   "metadata": {},
   "outputs": [
    {
     "data": {
      "text/plain": [
       "S      914\n",
       "C      270\n",
       "Q      123\n",
       "NaN      2\n",
       "Name: Embarked, dtype: int64"
      ]
     },
     "execution_count": 11,
     "metadata": {},
     "output_type": "execute_result"
    }
   ],
   "source": [
    "df['Embarked'].value_counts(dropna=False)"
   ]
  },
  {
   "cell_type": "code",
   "execution_count": 12,
   "metadata": {},
   "outputs": [
    {
     "name": "stdout",
     "output_type": "stream",
     "text": [
      "S 0.336956521739\n",
      "C 0.553571428571\n",
      "Q 0.38961038961\n"
     ]
    }
   ],
   "source": [
    "for i in ['S', 'C', 'Q']:\n",
    "    print(i, df[df['Embarked']==i]['Survived'].mean())"
   ]
  },
  {
   "cell_type": "code",
   "execution_count": 13,
   "metadata": {},
   "outputs": [
    {
     "data": {
      "text/html": [
       "<div>\n",
       "<style scoped>\n",
       "    .dataframe tbody tr th:only-of-type {\n",
       "        vertical-align: middle;\n",
       "    }\n",
       "\n",
       "    .dataframe tbody tr th {\n",
       "        vertical-align: top;\n",
       "    }\n",
       "\n",
       "    .dataframe thead th {\n",
       "        text-align: right;\n",
       "    }\n",
       "</style>\n",
       "<table border=\"1\" class=\"dataframe\">\n",
       "  <thead>\n",
       "    <tr style=\"text-align: right;\">\n",
       "      <th></th>\n",
       "      <th>index</th>\n",
       "      <th>Age</th>\n",
       "      <th>Cabin</th>\n",
       "      <th>Embarked</th>\n",
       "      <th>Fare</th>\n",
       "      <th>Name</th>\n",
       "      <th>Parch</th>\n",
       "      <th>PassengerId</th>\n",
       "      <th>Pclass</th>\n",
       "      <th>Sex</th>\n",
       "      <th>SibSp</th>\n",
       "      <th>Survived</th>\n",
       "      <th>Ticket</th>\n",
       "      <th>SexCode</th>\n",
       "    </tr>\n",
       "  </thead>\n",
       "  <tbody>\n",
       "    <tr>\n",
       "      <th>61</th>\n",
       "      <td>61</td>\n",
       "      <td>38.0</td>\n",
       "      <td>B28</td>\n",
       "      <td>NaN</td>\n",
       "      <td>80.0</td>\n",
       "      <td>Icard, Miss. Amelie</td>\n",
       "      <td>0</td>\n",
       "      <td>62</td>\n",
       "      <td>1</td>\n",
       "      <td>female</td>\n",
       "      <td>0</td>\n",
       "      <td>1.0</td>\n",
       "      <td>113572</td>\n",
       "      <td>0</td>\n",
       "    </tr>\n",
       "    <tr>\n",
       "      <th>829</th>\n",
       "      <td>829</td>\n",
       "      <td>62.0</td>\n",
       "      <td>B28</td>\n",
       "      <td>NaN</td>\n",
       "      <td>80.0</td>\n",
       "      <td>Stone, Mrs. George Nelson (Martha Evelyn)</td>\n",
       "      <td>0</td>\n",
       "      <td>830</td>\n",
       "      <td>1</td>\n",
       "      <td>female</td>\n",
       "      <td>0</td>\n",
       "      <td>1.0</td>\n",
       "      <td>113572</td>\n",
       "      <td>0</td>\n",
       "    </tr>\n",
       "  </tbody>\n",
       "</table>\n",
       "</div>"
      ],
      "text/plain": [
       "     index   Age Cabin Embarked  Fare  \\\n",
       "61      61  38.0   B28      NaN  80.0   \n",
       "829    829  62.0   B28      NaN  80.0   \n",
       "\n",
       "                                          Name  Parch  PassengerId  Pclass  \\\n",
       "61                         Icard, Miss. Amelie      0           62       1   \n",
       "829  Stone, Mrs. George Nelson (Martha Evelyn)      0          830       1   \n",
       "\n",
       "        Sex  SibSp  Survived  Ticket  SexCode  \n",
       "61   female      0       1.0  113572        0  \n",
       "829  female      0       1.0  113572        0  "
      ]
     },
     "execution_count": 13,
     "metadata": {},
     "output_type": "execute_result"
    }
   ],
   "source": [
    "df[df['Embarked'].isnull()]"
   ]
  },
  {
   "cell_type": "code",
   "execution_count": 14,
   "metadata": {},
   "outputs": [
    {
     "data": {
      "text/plain": [
       "C    31\n",
       "S    28\n",
       "Q     1\n",
       "Name: Embarked, dtype: int64"
      ]
     },
     "execution_count": 14,
     "metadata": {},
     "output_type": "execute_result"
    }
   ],
   "source": [
    "df[(df['Fare']>70) & (df['Pclass']==1) & (df['Survived']==1) & (df['Sex']=='female')]['Embarked'].value_counts()"
   ]
  },
  {
   "cell_type": "code",
   "execution_count": 15,
   "metadata": {},
   "outputs": [],
   "source": [
    "df['Embarked'].fillna('C', inplace=True)"
   ]
  },
  {
   "cell_type": "code",
   "execution_count": 16,
   "metadata": {},
   "outputs": [],
   "source": [
    "embarked = pd.get_dummies(df['Embarked'], prefix='Embarked')\n",
    "df = pd.concat([df, embarked], axis=1)"
   ]
  },
  {
   "cell_type": "markdown",
   "metadata": {},
   "source": [
    "## Pclass"
   ]
  },
  {
   "cell_type": "code",
   "execution_count": 17,
   "metadata": {},
   "outputs": [],
   "source": [
    "pclass = pd.get_dummies(df['Pclass'], prefix='Pclass')\n",
    "df = pd.concat([df, pclass], axis=1)"
   ]
  },
  {
   "cell_type": "markdown",
   "metadata": {},
   "source": [
    "## Cabin\n",
    "* isnull vs. notnull"
   ]
  },
  {
   "cell_type": "code",
   "execution_count": 18,
   "metadata": {},
   "outputs": [
    {
     "data": {
      "text/plain": [
       "(0.29985443959243085, 0.66666666666666663)"
      ]
     },
     "execution_count": 18,
     "metadata": {},
     "output_type": "execute_result"
    }
   ],
   "source": [
    "df[df['Cabin'].isnull()]['Survived'].mean(), df[df['Cabin'].notnull()]['Survived'].mean()"
   ]
  },
  {
   "cell_type": "code",
   "execution_count": 19,
   "metadata": {},
   "outputs": [],
   "source": [
    "df['Cabin'].fillna('-', inplace=True)"
   ]
  },
  {
   "cell_type": "code",
   "execution_count": 20,
   "metadata": {},
   "outputs": [],
   "source": [
    "df['CabinClass'] = df['Cabin'].apply(lambda x: x[0])"
   ]
  },
  {
   "cell_type": "code",
   "execution_count": 21,
   "metadata": {},
   "outputs": [
    {
     "data": {
      "text/plain": [
       "<matplotlib.axes._subplots.AxesSubplot at 0x7f295432e0f0>"
      ]
     },
     "execution_count": 21,
     "metadata": {},
     "output_type": "execute_result"
    },
    {
     "data": {
      "image/png": "[encoded data removed]",
      "text/plain": [
       "<matplotlib.figure.Figure at 0x7f295cc8ed68>"
      ]
     },
     "metadata": {},
     "output_type": "display_data"
    }
   ],
   "source": [
    "df.groupby('CabinClass').Survived.mean().plot('bar')"
   ]
  },
  {
   "cell_type": "code",
   "execution_count": 22,
   "metadata": {},
   "outputs": [],
   "source": [
    "cabinclass = pd.get_dummies(df['CabinClass'], prefix='CabinClass')\n",
    "df = pd.concat([df, cabinclass], axis=1)"
   ]
  },
  {
   "cell_type": "markdown",
   "metadata": {},
   "source": [
    "## FaimlySize (Update)"
   ]
  },
  {
   "cell_type": "code",
   "execution_count": 23,
   "metadata": {},
   "outputs": [],
   "source": [
    "df['FamilySize'] = df['Parch'] + df['SibSp'] + 1"
   ]
  },
  {
   "cell_type": "markdown",
   "metadata": {},
   "source": [
    "## Ticket (Update) \n",
    "* TicketCount does not work well on testing set\n",
    "  * but it does improve oob_score"
   ]
  },
  {
   "cell_type": "code",
   "execution_count": 24,
   "metadata": {},
   "outputs": [],
   "source": [
    "df['TicketType'] = df['Ticket'].apply(lambda x: ''.join(x.split()[:-1]).replace('.', '').replace('/', '').upper())\n",
    "df.loc[df[df['TicketType']==''].index, 'TicketType'] = 'NONETYPE'"
   ]
  },
  {
   "cell_type": "code",
   "execution_count": 25,
   "metadata": {},
   "outputs": [
    {
     "data": {
      "text/plain": [
       "NONETYPE     961\n",
       "PC            92\n",
       "CA            68\n",
       "A5            28\n",
       "SOTONOQ       24\n",
       "STONO2        21\n",
       "SCPARIS       19\n",
       "WC            15\n",
       "A4            10\n",
       "FCC            9\n",
       "C              8\n",
       "SOC            8\n",
       "SOPP           7\n",
       "SCAH           4\n",
       "PP             4\n",
       "WEP            4\n",
       "SOTONO2        3\n",
       "FC             3\n",
       "SWPP           2\n",
       "PPP            2\n",
       "SCA4           2\n",
       "SC             2\n",
       "SCAHBASLE      1\n",
       "FA             1\n",
       "AQ3            1\n",
       "AS             1\n",
       "LP             1\n",
       "CASOTON        1\n",
       "SCA3           1\n",
       "STONOQ         1\n",
       "SCOW           1\n",
       "A2             1\n",
       "AQ4            1\n",
       "SOP            1\n",
       "SP             1\n",
       "Name: TicketType, dtype: int64"
      ]
     },
     "execution_count": 25,
     "metadata": {},
     "output_type": "execute_result"
    }
   ],
   "source": [
    "df['TicketType'].value_counts()"
   ]
  },
  {
   "cell_type": "code",
   "execution_count": 26,
   "metadata": {},
   "outputs": [
    {
     "name": "stdout",
     "output_type": "stream",
     "text": [
      "0.133333333333\n"
     ]
    },
    {
     "data": {
      "text/plain": [
       "0.0    13\n",
       "1.0     2\n",
       "Name: Survived, dtype: int64"
      ]
     },
     "execution_count": 26,
     "metadata": {},
     "output_type": "execute_result"
    }
   ],
   "source": [
    "df['TicketTypeOQ'] = df['TicketType'].apply(lambda x: x.endswith('OQ')).astype(int)\n",
    "print(df[df['TicketTypeOQ']==1].Survived.mean())\n",
    "df[df['TicketTypeOQ']==1].Survived.value_counts()"
   ]
  },
  {
   "cell_type": "code",
   "execution_count": 27,
   "metadata": {},
   "outputs": [
    {
     "name": "stdout",
     "output_type": "stream",
     "text": [
      "0.111111111111\n"
     ]
    },
    {
     "data": {
      "text/plain": [
       "0.0    24\n",
       "1.0     3\n",
       "Name: Survived, dtype: int64"
      ]
     },
     "execution_count": 27,
     "metadata": {},
     "output_type": "execute_result"
    }
   ],
   "source": [
    "df['TicketTypeSO'] = df['TicketType'].apply(lambda x: x.startswith('SO')).astype(int)\n",
    "print(df[df['TicketTypeSO']==1].Survived.mean())\n",
    "df[df['TicketTypeSO']==1].Survived.value_counts()"
   ]
  },
  {
   "cell_type": "code",
   "execution_count": 28,
   "metadata": {},
   "outputs": [
    {
     "name": "stdout",
     "output_type": "stream",
     "text": [
      "0.444444444444\n"
     ]
    },
    {
     "data": {
      "text/plain": [
       "0.0    10\n",
       "1.0     8\n",
       "Name: Survived, dtype: int64"
      ]
     },
     "execution_count": 28,
     "metadata": {},
     "output_type": "execute_result"
    }
   ],
   "source": [
    "df['TicketTypeSTON'] = df['TicketType'].apply(lambda x: x.startswith('STON')).astype(int)\n",
    "print(df[df['TicketTypeSTON']==1].Survived.mean())\n",
    "df[df['TicketTypeSTON']==1].Survived.value_counts()"
   ]
  },
  {
   "cell_type": "code",
   "execution_count": 29,
   "metadata": {},
   "outputs": [
    {
     "name": "stdout",
     "output_type": "stream",
     "text": [
      "0.470588235294\n"
     ]
    },
    {
     "data": {
      "text/plain": [
       "0.0    9\n",
       "1.0    8\n",
       "Name: Survived, dtype: int64"
      ]
     },
     "execution_count": 29,
     "metadata": {},
     "output_type": "execute_result"
    }
   ],
   "source": [
    "df['TicketTypeSC'] = df['TicketType'].apply(lambda x: x.startswith('SC')).astype(int)\n",
    "print(df[df['TicketTypeSC']==1].Survived.mean())\n",
    "df[df['TicketTypeSC']==1].Survived.value_counts()"
   ]
  },
  {
   "cell_type": "code",
   "execution_count": 30,
   "metadata": {},
   "outputs": [
    {
     "name": "stdout",
     "output_type": "stream",
     "text": [
      "0.341463414634\n"
     ]
    },
    {
     "data": {
      "text/plain": [
       "0.0    27\n",
       "1.0    14\n",
       "Name: Survived, dtype: int64"
      ]
     },
     "execution_count": 30,
     "metadata": {},
     "output_type": "execute_result"
    }
   ],
   "source": [
    "df['TicketTypeCA'] = df['TicketType'].apply(lambda x: x=='CA').astype(int)\n",
    "print(df[df['TicketTypeCA']==1].Survived.mean())\n",
    "df[df['TicketTypeCA']==1].Survived.value_counts()"
   ]
  },
  {
   "cell_type": "code",
   "execution_count": 31,
   "metadata": {},
   "outputs": [
    {
     "name": "stdout",
     "output_type": "stream",
     "text": [
      "0.0689655172414\n"
     ]
    },
    {
     "data": {
      "text/plain": [
       "0.0    27\n",
       "1.0     2\n",
       "Name: Survived, dtype: int64"
      ]
     },
     "execution_count": 31,
     "metadata": {},
     "output_type": "execute_result"
    }
   ],
   "source": [
    "df['TicketTypeA'] = df['TicketType'].apply(lambda x: x.startswith('A')).astype(int)\n",
    "print(df[df['TicketTypeA']==1].Survived.mean())\n",
    "df[df['TicketTypeA']==1].Survived.value_counts()"
   ]
  },
  {
   "cell_type": "code",
   "execution_count": 32,
   "metadata": {},
   "outputs": [
    {
     "name": "stdout",
     "output_type": "stream",
     "text": [
      "0.153846153846\n"
     ]
    },
    {
     "data": {
      "text/plain": [
       "0.0    11\n",
       "1.0     2\n",
       "Name: Survived, dtype: int64"
      ]
     },
     "execution_count": 32,
     "metadata": {},
     "output_type": "execute_result"
    }
   ],
   "source": [
    "df['TicketTypeW'] = df['TicketType'].apply(lambda x: x.startswith('W')).astype(int)\n",
    "print(df[df['TicketTypeW']==1].Survived.mean())\n",
    "df[df['TicketTypeW']==1].Survived.value_counts()"
   ]
  },
  {
   "cell_type": "code",
   "execution_count": 33,
   "metadata": {},
   "outputs": [],
   "source": [
    "df['TicketNo'] = df['Ticket'].apply(lambda x: x.split()[-1])"
   ]
  },
  {
   "cell_type": "code",
   "execution_count": 34,
   "metadata": {},
   "outputs": [
    {
     "data": {
      "text/plain": [
       "0.60606060606060608"
      ]
     },
     "execution_count": 34,
     "metadata": {},
     "output_type": "execute_result"
    }
   ],
   "source": [
    "mask1 = (df['TicketNo'].apply(lambda x: x.startswith('1')))# & (df['TicketNo'].apply(lambda x: len(x)==6))\n",
    "df[mask1]['Survived'].mean()"
   ]
  },
  {
   "cell_type": "code",
   "execution_count": 35,
   "metadata": {},
   "outputs": [
    {
     "data": {
      "text/plain": [
       "0.40869565217391307"
      ]
     },
     "execution_count": 35,
     "metadata": {},
     "output_type": "execute_result"
    }
   ],
   "source": [
    "mask2 = (df['TicketNo'].apply(lambda x: x.startswith('2')))# & (df['TicketNo'].apply(lambda x: len(x)==6))\n",
    "df[mask2]['Survived'].mean()"
   ]
  },
  {
   "cell_type": "code",
   "execution_count": 36,
   "metadata": {},
   "outputs": [
    {
     "data": {
      "text/plain": [
       "0.25116279069767444"
      ]
     },
     "execution_count": 36,
     "metadata": {},
     "output_type": "execute_result"
    }
   ],
   "source": [
    "mask = ~(mask1 | mask2)\n",
    "df[mask]['Survived'].mean()"
   ]
  },
  {
   "cell_type": "code",
   "execution_count": 37,
   "metadata": {},
   "outputs": [],
   "source": [
    "df['TicketNo1'] = mask1.astype(int)\n",
    "df['TicketNo2'] = mask2.astype(int)\n",
    "df['TicketNoX'] = mask.astype(int)"
   ]
  },
  {
   "cell_type": "markdown",
   "metadata": {},
   "source": [
    "## Name"
   ]
  },
  {
   "cell_type": "code",
   "execution_count": 38,
   "metadata": {},
   "outputs": [],
   "source": [
    "df['Name'] = df['Name'].apply(lambda x: x.strip())\n",
    "p = re.compile(r'^([\\w,. ]+)\\(([\\w. ]+)\\)$')\n",
    "def match(x, i):\n",
    "    # i = 0 or 1\n",
    "    m = p.match(x)\n",
    "    if m:\n",
    "        return m.groups()[i]\n",
    "    else:\n",
    "        return (x, '')[i]\n",
    "df['Name1'] = df['Name'].apply(lambda x: match(x, 0).strip())\n",
    "df['Name2'] = df['Name'].apply(lambda x: match(x, 1).strip())\n",
    "df['Name2Len'] =df ['Name2'].apply(lambda x: len(x.split()))"
   ]
  },
  {
   "cell_type": "code",
   "execution_count": 39,
   "metadata": {},
   "outputs": [
    {
     "data": {
      "text/plain": [
       "0    1127\n",
       "3      85\n",
       "2      74\n",
       "1      14\n",
       "4       8\n",
       "7       1\n",
       "Name: Name2Len, dtype: int64"
      ]
     },
     "execution_count": 39,
     "metadata": {},
     "output_type": "execute_result"
    }
   ],
   "source": [
    "df['Name2Len'].value_counts()"
   ]
  },
  {
   "cell_type": "code",
   "execution_count": 40,
   "metadata": {},
   "outputs": [],
   "source": [
    "df['Name2Len'].clip(upper=1, inplace=True)"
   ]
  },
  {
   "cell_type": "code",
   "execution_count": 41,
   "metadata": {},
   "outputs": [
    {
     "data": {
      "text/plain": [
       "Name2Len\n",
       "0    0.322078\n",
       "1    0.776860\n",
       "Name: Survived, dtype: float64"
      ]
     },
     "execution_count": 41,
     "metadata": {},
     "output_type": "execute_result"
    }
   ],
   "source": [
    "df.groupby('Name2Len').Survived.mean()"
   ]
  },
  {
   "cell_type": "code",
   "execution_count": 42,
   "metadata": {},
   "outputs": [
    {
     "data": {
      "text/plain": [
       "1    637\n",
       "0    621\n",
       "2     51\n",
       "Name: LastNameLen, dtype: int64"
      ]
     },
     "execution_count": 42,
     "metadata": {},
     "output_type": "execute_result"
    }
   ],
   "source": [
    "df['LastName'] = df['Name1'].apply(lambda x: x.split('.')[1])\n",
    "df['LastNameLen'] = df['LastName'].apply(lambda x: len(x.strip().split()))\n",
    "df['LastNameLen'] = df['LastNameLen'].map({1:0, 3:0, 2:1, 0:2, 4:2, 5:2, 6:2, 7:2})\n",
    "df['LastNameLen'].value_counts()"
   ]
  },
  {
   "cell_type": "code",
   "execution_count": 43,
   "metadata": {},
   "outputs": [
    {
     "data": {
      "text/plain": [
       "LastNameLen\n",
       "0    0.326969\n",
       "1    0.407323\n",
       "2    0.771429\n",
       "Name: Survived, dtype: float64"
      ]
     },
     "execution_count": 43,
     "metadata": {},
     "output_type": "execute_result"
    }
   ],
   "source": [
    "df.groupby('LastNameLen')['Survived'].mean()"
   ]
  },
  {
   "cell_type": "code",
   "execution_count": 92,
   "metadata": {},
   "outputs": [
    {
     "data": {
      "text/plain": [
       "0    766\n",
       "2    265\n",
       "3    199\n",
       "1     79\n",
       "Name: Title, dtype: int64"
      ]
     },
     "execution_count": 92,
     "metadata": {},
     "output_type": "execute_result"
    }
   ],
   "source": [
    "df['Title'] = df['Name1'].apply(lambda x: x.split('.')[0].split(' ')[-1])\n",
    "df['Title'] = df['Title'].map({'Lady':'Miss', 'Ms':'Miss', 'Mme':'Mrs', 'Mlle':'Miss', 'Dona':'Mrs',\n",
    "                               'Jonkheer':'Master', 'Don':'Master', 'Sir':'Master', 'Capt':'Mr',\n",
    "                               'Countess':'Master', 'Col':'Master', 'Major':'Master', 'Rev':'Mr',\n",
    "                               'Dr':'Master', 'Mr':'Mr', 'Miss':'Miss', 'Mrs':'Mrs', 'Master':'Master'})\n",
    "df['Title'] = df['Title'].map({'Mr':0, 'Master':1, 'Miss':2, 'Mrs':3})\n",
    "df['Title'].value_counts()"
   ]
  },
  {
   "cell_type": "code",
   "execution_count": 45,
   "metadata": {},
   "outputs": [
    {
     "data": {
      "text/plain": [
       "Title\n",
       "0.0    0.154580\n",
       "1.0    0.545455\n",
       "2.0    0.704301\n",
       "3.0    0.793651\n",
       "Name: Survived, dtype: float64"
      ]
     },
     "execution_count": 45,
     "metadata": {},
     "output_type": "execute_result"
    }
   ],
   "source": [
    "df.groupby('Title').Survived.mean()"
   ]
  },
  {
   "cell_type": "markdown",
   "metadata": {},
   "source": [
    "## Age\n",
    "* there are some nan\n",
    "* add feature **WithAge** (Update) "
   ]
  },
  {
   "cell_type": "code",
   "execution_count": 46,
   "metadata": {},
   "outputs": [
    {
     "data": {
      "text/plain": [
       "AgeGroup  Sex   \n",
       "(-3, 3]   female    0.583333\n",
       "          male      0.722222\n",
       "(3, 9]    female    0.666667\n",
       "          male      0.428571\n",
       "(9, 15]   female    0.692308\n",
       "          male      0.250000\n",
       "(15, 21]  female    0.707317\n",
       "          male      0.112500\n",
       "(21, 27]  female    0.775510\n",
       "          male      0.190476\n",
       "(27, 33]  female    0.767442\n",
       "          male      0.192771\n",
       "(33, 39]  female    0.870968\n",
       "          male      0.210526\n",
       "(39, 45]  female    0.666667\n",
       "          male      0.194444\n",
       "(45, 51]  female    0.785714\n",
       "          male      0.218750\n",
       "(51, 57]  female    0.937500\n",
       "          male      0.121951\n",
       "Name: Survived, dtype: float64"
      ]
     },
     "execution_count": 46,
     "metadata": {},
     "output_type": "execute_result"
    }
   ],
   "source": [
    "df['AgeClip'] = df['Age'].clip(upper=55)\n",
    "'''\n",
    "age_survived = pd.pivot_table(df, values='PassengerId', columns='Survived', index='AgeClip', fill_value=0, aggfunc=len)\n",
    "agegroup_survived = age_survived.groupby(pd.cut(age_survived.index, np.arange(-3, 70, 6))).sum()\n",
    "agegroup_survived['rate'] = agegroup_survived[1] / (agegroup_survived[0]+agegroup_survived[1])\n",
    "agegroup_survived['count'] = (agegroup_survived[0]+agegroup_survived[1])\n",
    "agegroup_survived\n",
    "'''\n",
    "# clip at 65-year-old\n",
    "df['AgeGroup'] = pd.cut(df['AgeClip'], np.arange(-3, 60, 6))\n",
    "df.groupby(['AgeGroup', 'Sex']).Survived.mean()"
   ]
  },
  {
   "cell_type": "code",
   "execution_count": 47,
   "metadata": {},
   "outputs": [
    {
     "data": {
      "text/plain": [
       "AgeGroup  Sex   \n",
       "(-3, 3]   female     19\n",
       "          male       22\n",
       "(3, 9]    female     20\n",
       "          male       21\n",
       "(9, 15]   female     17\n",
       "          male       16\n",
       "(15, 21]  female     63\n",
       "          male      112\n",
       "(21, 27]  female     78\n",
       "          male      136\n",
       "(27, 33]  female     62\n",
       "          male      117\n",
       "(33, 39]  female     45\n",
       "          male       73\n",
       "(39, 45]  female     32\n",
       "          male       58\n",
       "(45, 51]  female     22\n",
       "          male       46\n",
       "(51, 57]  female     30\n",
       "          male       57\n",
       "Name: PassengerId, dtype: int64"
      ]
     },
     "execution_count": 47,
     "metadata": {},
     "output_type": "execute_result"
    }
   ],
   "source": [
    "df.groupby(['AgeGroup', 'Sex']).PassengerId.nunique()"
   ]
  },
  {
   "cell_type": "code",
   "execution_count": 48,
   "metadata": {},
   "outputs": [],
   "source": [
    "df['AgeGroup'] = pd.cut(df['AgeClip'], np.arange(-3, 60, 6), labels=range(1, 11))"
   ]
  },
  {
   "cell_type": "code",
   "execution_count": 49,
   "metadata": {},
   "outputs": [
    {
     "data": {
      "text/plain": [
       "<matplotlib.axes._subplots.AxesSubplot at 0x7f29540dea90>"
      ]
     },
     "execution_count": 49,
     "metadata": {},
     "output_type": "execute_result"
    },
    {
     "data": {
      "text/plain": [
       "<matplotlib.figure.Figure at 0x7f2954251908>"
      ]
     },
     "metadata": {},
     "output_type": "display_data"
    },
    {
     "data": {
      "image/png": "[encoded data removed]",
      "text/plain": [
       "<matplotlib.figure.Figure at 0x7f2954251978>"
      ]
     },
     "metadata": {},
     "output_type": "display_data"
    }
   ],
   "source": [
    "import matplotlib.gridspec as gridspec\n",
    "plt.tight_layout()\n",
    "fig = plt.figure(figsize=(16, 8)) \n",
    "gs = gridspec.GridSpec(3, 2) \n",
    "\n",
    "ax1 = plt.subplot(gs[0, 0])\n",
    "df[(df['Pclass']==1) & (df['SexCode']==0)]['AgeGroup'].hist(ax=ax1, bins=10)\n",
    "ax2 = plt.subplot(gs[0, 1])\n",
    "df[(df['Pclass']==1) & (df['SexCode']==1)]['AgeGroup'].hist(ax=ax2, bins=10)\n",
    "ax3 = plt.subplot(gs[1, 0], sharex=ax1)\n",
    "df[(df['Pclass']==2) & (df['SexCode']==0)]['AgeGroup'].hist(ax=ax3, bins=10)\n",
    "ax4 = plt.subplot(gs[1, 1], sharex=ax2)\n",
    "df[(df['Pclass']==2) & (df['SexCode']==1)]['AgeGroup'].hist(ax=ax4, bins=10)\n",
    "ax5 = plt.subplot(gs[2, 0], sharex=ax1)\n",
    "df[(df['Pclass']==3) & (df['SexCode']==0)]['AgeGroup'].hist(ax=ax5, bins=10)\n",
    "ax6 = plt.subplot(gs[2, 1], sharex=ax2)\n",
    "df[(df['Pclass']==3) & (df['SexCode']==1)]['AgeGroup'].hist(ax=ax6, bins=10)"
   ]
  },
  {
   "cell_type": "code",
   "execution_count": 50,
   "metadata": {},
   "outputs": [
    {
     "name": "stdout",
     "output_type": "stream",
     "text": [
      "[10, 6, 5, 10, 5, 5]\n"
     ]
    }
   ],
   "source": [
    "masks = [(df['Pclass']==1) & (df['SexCode']==0),\n",
    "         (df['Pclass']==2) & (df['SexCode']==0),\n",
    "         (df['Pclass']==3) & (df['SexCode']==0),\n",
    "         (df['Pclass']==1) & (df['SexCode']==1),\n",
    "         (df['Pclass']==2) & (df['SexCode']==1),\n",
    "         (df['Pclass']==3) & (df['SexCode']==1)]\n",
    "ages = [df[mask]['AgeGroup'].value_counts().idxmax() for mask in masks]\n",
    "print(ages)\n",
    "for mask, age in zip(masks, ages):\n",
    "    df.loc[df[mask & df['Age'].isnull()].index, 'AgeGroup'] = age"
   ]
  },
  {
   "cell_type": "code",
   "execution_count": 51,
   "metadata": {},
   "outputs": [],
   "source": [
    "df['WoAge'] = df['Age'].isnull().astype(int)"
   ]
  },
  {
   "cell_type": "code",
   "execution_count": 116,
   "metadata": {},
   "outputs": [],
   "source": [
    "agegroup = pd.get_dummies(df['AgeGroup'], prefix='AgeGroup')\n",
    "df = pd.concat([df, agegroup], axis=1)"
   ]
  },
  {
   "cell_type": "markdown",
   "metadata": {},
   "source": [
    "## Fare"
   ]
  },
  {
   "cell_type": "code",
   "execution_count": 52,
   "metadata": {},
   "outputs": [
    {
     "data": {
      "text/plain": [
       "<matplotlib.axes._subplots.AxesSubplot at 0x7f295cc242e8>"
      ]
     },
     "execution_count": 52,
     "metadata": {},
     "output_type": "execute_result"
    },
    {
     "data": {
      "image/png": "[encoded data removed]",
      "text/plain": [
       "<matplotlib.figure.Figure at 0x7f295434e828>"
      ]
     },
     "metadata": {},
     "output_type": "display_data"
    }
   ],
   "source": [
    "df[df['Survived']==1]['Fare'].plot(kind='hist', bins=100, alpha=0.6, figsize=(18,6), xlim=[0, 250])\n",
    "df[df['Survived']==0]['Fare'].plot(kind='hist', bins=100, alpha=0.6)"
   ]
  },
  {
   "cell_type": "code",
   "execution_count": 53,
   "metadata": {},
   "outputs": [
    {
     "name": "stdout",
     "output_type": "stream",
     "text": [
      "Fare=8.05\tSurvivedMean=0.11627906976744186\tCount=60\n",
      "Fare=13.0\tSurvivedMean=0.38095238095238093\tCount=59\n",
      "Fare=7.75\tSurvivedMean=0.35294117647058826\tCount=55\n",
      "Fare=26.0\tSurvivedMean=0.4838709677419355\tCount=50\n",
      "Fare=7.8958\tSurvivedMean=0.02631578947368421\tCount=49\n",
      "Fare=10.5\tSurvivedMean=0.375\tCount=35\n",
      "Fare=7.775\tSurvivedMean=0.1875\tCount=26\n",
      "Fare=7.2292\tSurvivedMean=0.26666666666666666\tCount=24\n",
      "Fare=7.925\tSurvivedMean=0.4444444444444444\tCount=23\n",
      "Fare=26.55\tSurvivedMean=0.5333333333333333\tCount=22\n",
      "Fare=8.6625\tSurvivedMean=0.07692307692307693\tCount=21\n",
      "Fare=7.8542\tSurvivedMean=0.23076923076923078\tCount=21\n",
      "Fare=7.225\tSurvivedMean=0.25\tCount=21\n",
      "Fare=7.25\tSurvivedMean=0.07692307692307693\tCount=18\n",
      "Fare=0.0\tSurvivedMean=0.06666666666666667\tCount=17\n",
      "Fare=21.0\tSurvivedMean=0.3333333333333333\tCount=14\n",
      "Fare=9.5\tSurvivedMean=0.2222222222222222\tCount=12\n",
      "Fare=16.1\tSurvivedMean=0.2222222222222222\tCount=12\n",
      "Fare=14.5\tSurvivedMean=0.2857142857142857\tCount=11\n",
      "Fare=69.55\tSurvivedMean=0.0\tCount=11\n",
      "Fare=27.7208\tSurvivedMean=0.2\tCount=11\n",
      "Fare=7.7958\tSurvivedMean=0.3333333333333333\tCount=10\n",
      "Fare=14.4542\tSurvivedMean=0.14285714285714285\tCount=10\n",
      "Fare=7.8792\tSurvivedMean=1.0\tCount=10\n",
      "Fare=15.5\tSurvivedMean=0.375\tCount=10\n",
      "Fare=24.15\tSurvivedMean=0.125\tCount=9\n",
      "Fare=15.2458\tSurvivedMean=0.6\tCount=9\n",
      "Fare=7.05\tSurvivedMean=0.0\tCount=9\n",
      "Fare=56.4958\tSurvivedMean=0.7142857142857143\tCount=8\n",
      "Fare=46.9\tSurvivedMean=0.0\tCount=8\n",
      "Fare=7.55\tSurvivedMean=0.25\tCount=8\n",
      "Fare=52.0\tSurvivedMean=0.42857142857142855\tCount=8\n",
      "Fare=262.375\tSurvivedMean=1.0\tCount=7\n",
      "Fare=31.3875\tSurvivedMean=0.75\tCount=7\n",
      "Fare=30.0\tSurvivedMean=0.8333333333333334\tCount=7\n",
      "Fare=13.5\tSurvivedMean=0.25\tCount=7\n",
      "Fare=31.275\tSurvivedMean=0.0\tCount=7\n",
      "Fare=39.0\tSurvivedMean=0.75\tCount=7\n",
      "Fare=7.7333\tSurvivedMean=0.5\tCount=7\n",
      "Fare=73.5\tSurvivedMean=0.0\tCount=7\n",
      "Fare=23.0\tSurvivedMean=1.0\tCount=7\n",
      "Fare=39.6875\tSurvivedMean=0.0\tCount=7\n",
      "Fare=27.9\tSurvivedMean=0.0\tCount=6\n",
      "Fare=79.2\tSurvivedMean=0.5\tCount=6\n",
      "Fare=11.5\tSurvivedMean=0.0\tCount=6\n",
      "Fare=30.5\tSurvivedMean=0.8\tCount=6\n",
      "Fare=83.1583\tSurvivedMean=1.0\tCount=6\n",
      "Fare=7.65\tSurvivedMean=0.25\tCount=6\n",
      "Fare=263.0\tSurvivedMean=0.5\tCount=6\n",
      "Fare=151.55\tSurvivedMean=0.5\tCount=6\n",
      "Fare=26.25\tSurvivedMean=0.6666666666666666\tCount=6\n",
      "Fare=29.125\tSurvivedMean=0.0\tCount=6\n",
      "Fare=53.1\tSurvivedMean=0.6\tCount=6\n",
      "Fare=65.0\tSurvivedMean=1.0\tCount=5\n",
      "Fare=211.5\tSurvivedMean=0.0\tCount=5\n",
      "Fare=27.75\tSurvivedMean=0.5\tCount=5\n",
      "Fare=12.35\tSurvivedMean=0.6666666666666666\tCount=5\n",
      "Fare=227.525\tSurvivedMean=0.75\tCount=5\n",
      "Fare=134.5\tSurvivedMean=1.0\tCount=5\n",
      "Fare=21.075\tSurvivedMean=0.0\tCount=5\n",
      "Fare=34.375\tSurvivedMean=0.0\tCount=5\n",
      "Fare=90.0\tSurvivedMean=0.75\tCount=5\n",
      "Fare=25.4667\tSurvivedMean=0.0\tCount=5\n",
      "Fare=29.7\tSurvivedMean=0.3333333333333333\tCount=5\n",
      "Fare=512.3292\tSurvivedMean=1.0\tCount=4\n",
      "Fare=211.3375\tSurvivedMean=1.0\tCount=4\n",
      "Fare=93.5\tSurvivedMean=1.0\tCount=4\n",
      "Fare=36.75\tSurvivedMean=0.5\tCount=4\n",
      "Fare=52.5542\tSurvivedMean=1.0\tCount=4\n",
      "Fare=164.8667\tSurvivedMean=1.0\tCount=4\n",
      "Fare=221.7792\tSurvivedMean=0.0\tCount=4\n",
      "Fare=41.5792\tSurvivedMean=0.6666666666666666\tCount=4\n",
      "Fare=51.8625\tSurvivedMean=0.5\tCount=4\n",
      "Fare=18.0\tSurvivedMean=0.0\tCount=4\n",
      "Fare=20.575\tSurvivedMean=0.5\tCount=4\n",
      "Fare=135.6333\tSurvivedMean=0.6666666666666666\tCount=4\n",
      "Fare=120.0\tSurvivedMean=1.0\tCount=4\n",
      "Fare=19.2583\tSurvivedMean=1.0\tCount=4\n",
      "Fare=15.85\tSurvivedMean=0.5\tCount=4\n",
      "Fare=14.4583\tSurvivedMean=0.0\tCount=4\n",
      "Fare=35.5\tSurvivedMean=0.75\tCount=4\n",
      "Fare=7.125\tSurvivedMean=0.0\tCount=4\n",
      "Fare=12.475\tSurvivedMean=1.0\tCount=4\n",
      "Fare=110.8833\tSurvivedMean=0.75\tCount=4\n",
      "Fare=59.4\tSurvivedMean=1.0\tCount=4\n",
      "Fare=55.4417\tSurvivedMean=1.0\tCount=4\n",
      "Fare=23.45\tSurvivedMean=0.0\tCount=4\n",
      "Fare=9.225\tSurvivedMean=0.0\tCount=3\n",
      "Fare=29.0\tSurvivedMean=1.0\tCount=3\n",
      "Fare=37.0042\tSurvivedMean=0.5\tCount=3\n",
      "Fare=13.8583\tSurvivedMean=1.0\tCount=3\n",
      "Fare=78.85\tSurvivedMean=0.5\tCount=3\n",
      "Fare=7.8292\tSurvivedMean=0.5\tCount=3\n",
      "Fare=11.1333\tSurvivedMean=1.0\tCount=3\n",
      "Fare=32.5\tSurvivedMean=1.0\tCount=3\n",
      "Fare=86.5\tSurvivedMean=1.0\tCount=3\n",
      "Fare=15.0458\tSurvivedMean=0.0\tCount=3\n",
      "Fare=113.275\tSurvivedMean=0.6666666666666666\tCount=3\n",
      "Fare=247.5208\tSurvivedMean=0.5\tCount=3\n",
      "Fare=81.8583\tSurvivedMean=1.0\tCount=3\n",
      "Fare=13.775\tSurvivedMean=nan\tCount=3\n",
      "Fare=20.25\tSurvivedMean=0.5\tCount=3\n",
      "Fare=6.4375\tSurvivedMean=0.0\tCount=3\n",
      "Fare=23.25\tSurvivedMean=1.0\tCount=3\n",
      "Fare=18.75\tSurvivedMean=1.0\tCount=3\n",
      "Fare=15.9\tSurvivedMean=1.0\tCount=3\n",
      "Fare=20.2125\tSurvivedMean=0.0\tCount=3\n",
      "Fare=106.425\tSurvivedMean=0.5\tCount=3\n",
      "Fare=31.0\tSurvivedMean=0.6666666666666666\tCount=3\n",
      "Fare=21.6792\tSurvivedMean=0.0\tCount=3\n",
      "Fare=79.65\tSurvivedMean=0.6666666666666666\tCount=3\n",
      "Fare=77.9583\tSurvivedMean=1.0\tCount=3\n",
      "Fare=16.7\tSurvivedMean=1.0\tCount=3\n",
      "Fare=33.0\tSurvivedMean=0.6666666666666666\tCount=3\n",
      "Fare=108.9\tSurvivedMean=0.5\tCount=3\n",
      "Fare=76.7292\tSurvivedMean=1.0\tCount=3\n",
      "Fare=26.2875\tSurvivedMean=1.0\tCount=3\n",
      "Fare=22.525\tSurvivedMean=0.0\tCount=3\n",
      "Fare=22.025\tSurvivedMean=1.0\tCount=3\n",
      "Fare=20.525\tSurvivedMean=0.6666666666666666\tCount=3\n",
      "Fare=31.5\tSurvivedMean=nan\tCount=3\n",
      "Fare=22.3583\tSurvivedMean=1.0\tCount=3\n",
      "Fare=153.4625\tSurvivedMean=0.6666666666666666\tCount=3\n",
      "Fare=14.4\tSurvivedMean=0.0\tCount=3\n",
      "Fare=146.5208\tSurvivedMean=1.0\tCount=3\n",
      "Fare=15.7417\tSurvivedMean=1.0\tCount=3\n",
      "Fare=6.4958\tSurvivedMean=0.0\tCount=3\n",
      "Fare=7.4958\tSurvivedMean=0.3333333333333333\tCount=3\n",
      "Fare=9.35\tSurvivedMean=0.5\tCount=3\n",
      "Fare=39.6\tSurvivedMean=0.5\tCount=3\n",
      "Fare=9.5875\tSurvivedMean=0.5\tCount=2\n",
      "Fare=75.25\tSurvivedMean=1.0\tCount=2\n",
      "Fare=16.0\tSurvivedMean=1.0\tCount=2\n",
      "Fare=77.2875\tSurvivedMean=0.0\tCount=2\n",
      "Fare=25.9292\tSurvivedMean=1.0\tCount=2\n",
      "Fare=61.3792\tSurvivedMean=0.0\tCount=2\n",
      "Fare=7.8875\tSurvivedMean=0.0\tCount=2\n",
      "Fare=6.95\tSurvivedMean=0.0\tCount=2\n",
      "Fare=55.0\tSurvivedMean=1.0\tCount=2\n",
      "Fare=42.4\tSurvivedMean=0.0\tCount=2\n",
      "Fare=55.9\tSurvivedMean=0.5\tCount=2\n",
      "Fare=50.0\tSurvivedMean=0.0\tCount=2\n",
      "Fare=27.0\tSurvivedMean=0.5\tCount=2\n",
      "Fare=15.75\tSurvivedMean=1.0\tCount=2\n",
      "Fare=30.0708\tSurvivedMean=0.5\tCount=2\n",
      "Fare=19.5\tSurvivedMean=1.0\tCount=2\n",
      "Fare=6.75\tSurvivedMean=0.0\tCount=2\n",
      "Fare=24.0\tSurvivedMean=0.5\tCount=2\n",
      "Fare=28.5\tSurvivedMean=0.0\tCount=2\n",
      "Fare=91.0792\tSurvivedMean=1.0\tCount=2\n",
      "Fare=57.0\tSurvivedMean=1.0\tCount=2\n",
      "Fare=7.0\tSurvivedMean=nan\tCount=2\n",
      "Fare=17.8\tSurvivedMean=0.0\tCount=2\n",
      "Fare=60.0\tSurvivedMean=nan\tCount=2\n",
      "Fare=82.1708\tSurvivedMean=0.5\tCount=2\n",
      "Fare=9.0\tSurvivedMean=0.0\tCount=2\n",
      "Fare=17.4\tSurvivedMean=1.0\tCount=2\n",
      "Fare=66.6\tSurvivedMean=0.5\tCount=2\n",
      "Fare=14.1083\tSurvivedMean=0.0\tCount=2\n",
      "Fare=10.4625\tSurvivedMean=0.0\tCount=2\n",
      "Fare=82.2667\tSurvivedMean=nan\tCount=2\n",
      "Fare=56.9292\tSurvivedMean=1.0\tCount=2\n",
      "Fare=8.7125\tSurvivedMean=0.0\tCount=2\n",
      "Fare=61.9792\tSurvivedMean=0.0\tCount=2\n",
      "Fare=15.55\tSurvivedMean=0.0\tCount=2\n",
      "Fare=6.975\tSurvivedMean=0.5\tCount=2\n",
      "Fare=69.3\tSurvivedMean=1.0\tCount=2\n",
      "Fare=7.7375\tSurvivedMean=0.5\tCount=2\n",
      "Fare=80.0\tSurvivedMean=1.0\tCount=2\n",
      "Fare=75.2417\tSurvivedMean=nan\tCount=2\n",
      "Fare=57.9792\tSurvivedMean=1.0\tCount=2\n",
      "Fare=71.0\tSurvivedMean=0.5\tCount=2\n",
      "Fare=30.6958\tSurvivedMean=0.0\tCount=2\n",
      "Fare=18.7875\tSurvivedMean=0.5\tCount=2\n",
      "Fare=13.4167\tSurvivedMean=1.0\tCount=2\n",
      "Fare=89.1042\tSurvivedMean=1.0\tCount=2\n",
      "Fare=47.1\tSurvivedMean=0.0\tCount=2\n",
      "Fare=63.3583\tSurvivedMean=1.0\tCount=2\n",
      "Fare=39.4\tSurvivedMean=1.0\tCount=2\n",
      "Fare=50.4958\tSurvivedMean=0.0\tCount=2\n",
      "Fare=19.9667\tSurvivedMean=0.0\tCount=2\n",
      "Fare=51.4792\tSurvivedMean=1.0\tCount=2\n",
      "Fare=9.825\tSurvivedMean=0.0\tCount=2\n",
      "Fare=78.2667\tSurvivedMean=1.0\tCount=2\n",
      "Fare=8.1125\tSurvivedMean=1.0\tCount=2\n",
      "Fare=12.1833\tSurvivedMean=nan\tCount=2\n",
      "Fare=13.8625\tSurvivedMean=1.0\tCount=2\n",
      "Fare=12.2875\tSurvivedMean=1.0\tCount=2\n",
      "Fare=7.6292\tSurvivedMean=0.0\tCount=2\n",
      "Fare=7.0542\tSurvivedMean=0.0\tCount=2\n",
      "Fare=61.175\tSurvivedMean=0.0\tCount=2\n",
      "Fare=8.5167\tSurvivedMean=1.0\tCount=2\n",
      "Fare=133.65\tSurvivedMean=1.0\tCount=2\n",
      "Fare=83.475\tSurvivedMean=0.5\tCount=2\n",
      "Fare=76.2917\tSurvivedMean=1.0\tCount=2\n",
      "Fare=71.2833\tSurvivedMean=1.0\tCount=2\n",
      "Fare=49.5042\tSurvivedMean=0.5\tCount=2\n",
      "Fare=7.725\tSurvivedMean=0.0\tCount=2\n",
      "Fare=11.2417\tSurvivedMean=1.0\tCount=2\n",
      "Fare=13.9\tSurvivedMean=nan\tCount=2\n",
      "Fare=15.1\tSurvivedMean=0.0\tCount=2\n",
      "Fare=136.7792\tSurvivedMean=nan\tCount=2\n",
      "Fare=57.75\tSurvivedMean=nan\tCount=2\n",
      "Fare=12.875\tSurvivedMean=0.0\tCount=2\n",
      "Fare=9.475\tSurvivedMean=0.0\tCount=1\n",
      "Fare=8.85\tSurvivedMean=0.0\tCount=1\n",
      "Fare=12.525\tSurvivedMean=0.0\tCount=1\n",
      "Fare=9.4833\tSurvivedMean=0.0\tCount=1\n",
      "Fare=6.2375\tSurvivedMean=0.0\tCount=1\n",
      "Fare=15.05\tSurvivedMean=0.0\tCount=1\n",
      "Fare=7.5792\tSurvivedMean=nan\tCount=1\n",
      "Fare=9.325\tSurvivedMean=nan\tCount=1\n",
      "Fare=9.8375\tSurvivedMean=0.0\tCount=1\n",
      "Fare=14.0\tSurvivedMean=0.0\tCount=1\n",
      "Fare=35.0\tSurvivedMean=0.0\tCount=1\n",
      "Fare=12.0\tSurvivedMean=1.0\tCount=1\n",
      "Fare=7.7875\tSurvivedMean=1.0\tCount=1\n",
      "Fare=7.875\tSurvivedMean=0.0\tCount=1\n",
      "Fare=10.7083\tSurvivedMean=nan\tCount=1\n",
      "Fare=8.3625\tSurvivedMean=0.0\tCount=1\n",
      "Fare=8.9625\tSurvivedMean=nan\tCount=1\n",
      "Fare=6.8583\tSurvivedMean=0.0\tCount=1\n",
      "Fare=7.7417\tSurvivedMean=0.0\tCount=1\n",
      "Fare=7.2833\tSurvivedMean=nan\tCount=1\n",
      "Fare=7.7792\tSurvivedMean=nan\tCount=1\n",
      "Fare=4.0125\tSurvivedMean=0.0\tCount=1\n",
      "Fare=28.5375\tSurvivedMean=nan\tCount=1\n",
      "Fare=9.8417\tSurvivedMean=1.0\tCount=1\n",
      "Fare=8.6833\tSurvivedMean=1.0\tCount=1\n",
      "Fare=3.1708\tSurvivedMean=nan\tCount=1\n",
      "Fare=15.0333\tSurvivedMean=nan\tCount=1\n",
      "Fare=12.275\tSurvivedMean=0.0\tCount=1\n",
      "Fare=26.2833\tSurvivedMean=1.0\tCount=1\n",
      "Fare=31.6792\tSurvivedMean=nan\tCount=1\n",
      "Fare=13.7917\tSurvivedMean=1.0\tCount=1\n",
      "Fare=8.4042\tSurvivedMean=0.0\tCount=1\n",
      "Fare=8.4583\tSurvivedMean=0.0\tCount=1\n",
      "Fare=9.2167\tSurvivedMean=0.0\tCount=1\n",
      "Fare=7.8208\tSurvivedMean=nan\tCount=1\n",
      "Fare=9.6875\tSurvivedMean=nan\tCount=1\n",
      "Fare=15.0\tSurvivedMean=0.0\tCount=1\n",
      "Fare=5.0\tSurvivedMean=0.0\tCount=1\n",
      "Fare=7.85\tSurvivedMean=nan\tCount=1\n"
     ]
    },
    {
     "name": "stdout",
     "output_type": "stream",
     "text": [
      "Fare=8.1375\tSurvivedMean=0.0\tCount=1\n",
      "Fare=40.125\tSurvivedMean=0.0\tCount=1\n",
      "Fare=34.6542\tSurvivedMean=0.0\tCount=1\n",
      "Fare=10.5167\tSurvivedMean=0.0\tCount=1\n",
      "Fare=7.575\tSurvivedMean=nan\tCount=1\n",
      "Fare=27.4458\tSurvivedMean=nan\tCount=1\n",
      "Fare=25.7417\tSurvivedMean=nan\tCount=1\n",
      "Fare=38.5\tSurvivedMean=0.0\tCount=1\n",
      "Fare=45.5\tSurvivedMean=nan\tCount=1\n",
      "Fare=8.4333\tSurvivedMean=0.0\tCount=1\n",
      "Fare=8.1583\tSurvivedMean=0.0\tCount=1\n",
      "Fare=8.0292\tSurvivedMean=1.0\tCount=1\n",
      "Fare=12.7375\tSurvivedMean=nan\tCount=1\n",
      "Fare=31.6833\tSurvivedMean=nan\tCount=1\n",
      "Fare=42.5\tSurvivedMean=nan\tCount=1\n",
      "Fare=34.0208\tSurvivedMean=0.0\tCount=1\n",
      "Fare=25.925\tSurvivedMean=0.0\tCount=1\n",
      "Fare=12.65\tSurvivedMean=1.0\tCount=1\n",
      "Fare=7.0458\tSurvivedMean=0.0\tCount=1\n",
      "Fare=49.5\tSurvivedMean=1.0\tCount=1\n",
      "Fare=7.7208\tSurvivedMean=nan\tCount=1\n",
      "Fare=32.3208\tSurvivedMean=0.0\tCount=1\n",
      "Fare=6.45\tSurvivedMean=0.0\tCount=1\n",
      "Fare=8.3\tSurvivedMean=0.0\tCount=1\n",
      "Fare=7.5208\tSurvivedMean=0.0\tCount=1\n",
      "Fare=28.7125\tSurvivedMean=0.0\tCount=1\n",
      "Fare=25.5875\tSurvivedMean=0.0\tCount=1\n",
      "Fare=7.7292\tSurvivedMean=0.0\tCount=1\n",
      "Fare=9.8458\tSurvivedMean=0.0\tCount=1\n",
      "Fare=8.6542\tSurvivedMean=0.0\tCount=1\n",
      "Fare=25.7\tSurvivedMean=nan\tCount=1\n",
      "Fare=10.1708\tSurvivedMean=0.0\tCount=1\n",
      "Fare=7.3125\tSurvivedMean=0.0\tCount=1\n",
      "Fare=33.5\tSurvivedMean=0.0\tCount=1\n",
      "Fare=7.8\tSurvivedMean=0.0\tCount=1\n",
      "Fare=26.3875\tSurvivedMean=1.0\tCount=1\n",
      "Fare=15.5792\tSurvivedMean=nan\tCount=1\n",
      "Fare=7.1417\tSurvivedMean=1.0\tCount=1\n"
     ]
    }
   ],
   "source": [
    "for i, j in df['Fare'].value_counts().iteritems():\n",
    "    print('Fare={}\\tSurvivedMean={}\\tCount={}'.format(i, df[df['Fare'] == i].Survived.mean(), j))"
   ]
  },
  {
   "cell_type": "code",
   "execution_count": 54,
   "metadata": {},
   "outputs": [
    {
     "data": {
      "text/plain": [
       "(0.20370370370370369,\n",
       " 0.6071428571428571,\n",
       " 0.59259259259259256,\n",
       " 0.30578512396694213)"
      ]
     },
     "execution_count": 54,
     "metadata": {},
     "output_type": "execute_result"
    }
   ],
   "source": [
    "fares = [i for i, j in df['Fare'].value_counts().iteritems() if j > 9]\n",
    "mask = pd.Series(False, df.index)\n",
    "for fare in fares:\n",
    "    mask = mask | (df['Fare'] == fare)\n",
    "    df['Fare{}'.format(fare)] = (df['Fare'] == fare).astype(int)\n",
    "\n",
    "df['FareRare1'] = False\n",
    "fares2 = [i for i, j in df['Fare'].value_counts().iteritems() if j == 1]\n",
    "for fare in fares2:\n",
    "    mask = mask | (df['Fare'] == fare)\n",
    "    df['FareRare1'] |= (df['Fare'] == fare)\n",
    "df['FareRare1'] = df['FareRare1'].astype(int)\n",
    "\n",
    "df['FareRare2'] = False\n",
    "fares3 = [i for i, j in df['Fare'].value_counts().iteritems() if 4>=j>=2]\n",
    "for fare in fares3:\n",
    "    mask = mask | (df['Fare'] == fare)\n",
    "    df['FareRare2'] |= (df['Fare'] == fare)\n",
    "df['FareRare2'] = df['FareRare2'].astype(int)\n",
    "\n",
    "df['FareRareGe50'] = (~mask & (df['Fare']>=50)).astype(int)\n",
    "df['FareRareLt50'] = (~mask & (df['Fare']<50)).astype(int)\n",
    "\n",
    "(df[df['FareRare1']==1].Survived.mean(),\n",
    "df[df['FareRare2']==1].Survived.mean(),\n",
    "df[df['FareRareGe50']==1].Survived.mean(),\n",
    "df[df['FareRareLt50']==1].Survived.mean())"
   ]
  },
  {
   "cell_type": "code",
   "execution_count": 55,
   "metadata": {},
   "outputs": [
    {
     "data": {
      "text/html": [
       "<div>\n",
       "<style scoped>\n",
       "    .dataframe tbody tr th:only-of-type {\n",
       "        vertical-align: middle;\n",
       "    }\n",
       "\n",
       "    .dataframe tbody tr th {\n",
       "        vertical-align: top;\n",
       "    }\n",
       "\n",
       "    .dataframe thead th {\n",
       "        text-align: right;\n",
       "    }\n",
       "</style>\n",
       "<table border=\"1\" class=\"dataframe\">\n",
       "  <thead>\n",
       "    <tr style=\"text-align: right;\">\n",
       "      <th></th>\n",
       "      <th>index</th>\n",
       "      <th>Age</th>\n",
       "      <th>Cabin</th>\n",
       "      <th>Embarked</th>\n",
       "      <th>Fare</th>\n",
       "      <th>Name</th>\n",
       "      <th>Parch</th>\n",
       "      <th>PassengerId</th>\n",
       "      <th>Pclass</th>\n",
       "      <th>Sex</th>\n",
       "      <th>...</th>\n",
       "      <th>Fare69.55</th>\n",
       "      <th>Fare27.7208</th>\n",
       "      <th>Fare7.7958</th>\n",
       "      <th>Fare14.4542</th>\n",
       "      <th>Fare7.8792</th>\n",
       "      <th>Fare15.5</th>\n",
       "      <th>FareRare1</th>\n",
       "      <th>FareRare2</th>\n",
       "      <th>FareRareGe50</th>\n",
       "      <th>FareRareLt50</th>\n",
       "    </tr>\n",
       "  </thead>\n",
       "  <tbody>\n",
       "    <tr>\n",
       "      <th>1043</th>\n",
       "      <td>152</td>\n",
       "      <td>60.5</td>\n",
       "      <td>-</td>\n",
       "      <td>S</td>\n",
       "      <td>NaN</td>\n",
       "      <td>Storey, Mr. Thomas</td>\n",
       "      <td>0</td>\n",
       "      <td>1044</td>\n",
       "      <td>3</td>\n",
       "      <td>male</td>\n",
       "      <td>...</td>\n",
       "      <td>0</td>\n",
       "      <td>0</td>\n",
       "      <td>0</td>\n",
       "      <td>0</td>\n",
       "      <td>0</td>\n",
       "      <td>0</td>\n",
       "      <td>0</td>\n",
       "      <td>0</td>\n",
       "      <td>0</td>\n",
       "      <td>0</td>\n",
       "    </tr>\n",
       "  </tbody>\n",
       "</table>\n",
       "<p>1 rows × 81 columns</p>\n",
       "</div>"
      ],
      "text/plain": [
       "      index   Age Cabin Embarked  Fare                Name  Parch  \\\n",
       "1043    152  60.5     -        S   NaN  Storey, Mr. Thomas      0   \n",
       "\n",
       "      PassengerId  Pclass   Sex      ...       Fare69.55  Fare27.7208  \\\n",
       "1043         1044       3  male      ...               0            0   \n",
       "\n",
       "     Fare7.7958  Fare14.4542  Fare7.8792  Fare15.5  FareRare1  FareRare2  \\\n",
       "1043          0            0           0         0          0          0   \n",
       "\n",
       "      FareRareGe50  FareRareLt50  \n",
       "1043             0             0  \n",
       "\n",
       "[1 rows x 81 columns]"
      ]
     },
     "execution_count": 55,
     "metadata": {},
     "output_type": "execute_result"
    }
   ],
   "source": [
    "df[df['Fare'].isnull()]"
   ]
  },
  {
   "cell_type": "markdown",
   "metadata": {},
   "source": [
    "## Train\n",
    "* random forest\n",
    "* logistic regression\n",
    "* linear regression\n",
    "* SVM\n",
    "  * linear, poly, gaussian\n",
    "* adaboost\n",
    "* gradient boost"
   ]
  },
  {
   "cell_type": "code",
   "execution_count": 117,
   "metadata": {},
   "outputs": [
    {
     "data": {
      "text/plain": [
       "Index(['index', 'Age', 'Cabin', 'Embarked', 'Fare', 'Name', 'Parch',\n",
       "       'PassengerId', 'Pclass', 'Sex', 'SibSp', 'Survived', 'Ticket',\n",
       "       'SexCode', 'Embarked_C', 'Embarked_Q', 'Embarked_S', 'Pclass_1',\n",
       "       'Pclass_2', 'Pclass_3', 'CabinClass', 'CabinClass_-', 'CabinClass_A',\n",
       "       'CabinClass_B', 'CabinClass_C', 'CabinClass_D', 'CabinClass_E',\n",
       "       'CabinClass_F', 'CabinClass_G', 'CabinClass_T', 'FamilySize',\n",
       "       'TicketType', 'TicketTypeOQ', 'TicketTypeSO', 'TicketTypeSTON',\n",
       "       'TicketTypeSC', 'TicketTypeCA', 'TicketTypeA', 'TicketTypeW',\n",
       "       'TicketNo', 'TicketNo1', 'TicketNo2', 'TicketNoX', 'Name1', 'Name2',\n",
       "       'Name2Len', 'LastName', 'LastNameLen', 'Title', 'AgeClip', 'AgeGroup',\n",
       "       'WoAge', 'Fare8.05', 'Fare13.0', 'Fare7.75', 'Fare26.0', 'Fare7.8958',\n",
       "       'Fare10.5', 'Fare7.775', 'Fare7.2292', 'Fare7.925', 'Fare26.55',\n",
       "       'Fare8.6625', 'Fare7.8542', 'Fare7.225', 'Fare7.25', 'Fare0.0',\n",
       "       'Fare21.0', 'Fare9.5', 'Fare16.1', 'Fare14.5', 'Fare69.55',\n",
       "       'Fare27.7208', 'Fare7.7958', 'Fare14.4542', 'Fare7.8792', 'Fare15.5',\n",
       "       'FareRare1', 'FareRare2', 'FareRareGe50', 'FareRareLt50', 'AgeGroup_1',\n",
       "       'AgeGroup_2', 'AgeGroup_3', 'AgeGroup_4', 'AgeGroup_5', 'AgeGroup_6',\n",
       "       'AgeGroup_7', 'AgeGroup_8', 'AgeGroup_9', 'AgeGroup_10'],\n",
       "      dtype='object')"
      ]
     },
     "execution_count": 117,
     "metadata": {},
     "output_type": "execute_result"
    }
   ],
   "source": [
    "df.columns"
   ]
  },
  {
   "cell_type": "code",
   "execution_count": 272,
   "metadata": {},
   "outputs": [],
   "source": [
    "cols = ['Parch',\n",
    "       'SibSp',\n",
    "       'SexCode', 'Embarked_C', 'Embarked_Q', 'Embarked_S', 'Pclass_1',\n",
    "       'Pclass_2', 'Pclass_3', 'CabinClass_-', 'CabinClass_A',\n",
    "       'CabinClass_B', 'CabinClass_C', 'CabinClass_D', 'CabinClass_E',\n",
    "       'CabinClass_F', 'CabinClass_G', 'CabinClass_T', 'FamilySize',\n",
    "       'TicketTypeOQ', 'TicketTypeSO', 'TicketTypeSTON',\n",
    "       'TicketTypeSC', 'TicketTypeCA', 'TicketTypeA', 'TicketTypeW',\n",
    "       'TicketNo1', 'TicketNo2', 'TicketNoX',\n",
    "       'Name2Len','LastNameLen', 'Title', 'AgeGroup',\n",
    "       'WoAge', 'Fare8.05', 'Fare13.0', 'Fare7.75', 'Fare26.0', 'Fare7.8958',\n",
    "       'Fare10.5', 'Fare7.775', 'Fare7.2292', 'Fare7.925', 'Fare26.55',\n",
    "       'Fare8.6625', 'Fare7.8542', 'Fare7.225', 'Fare7.25', 'Fare0.0',\n",
    "       'Fare21.0', 'Fare9.5', 'Fare16.1', 'Fare14.5', 'Fare69.55',\n",
    "       'Fare27.7208', 'Fare7.7958', 'Fare14.4542', 'Fare7.8792', 'Fare15.5',\n",
    "       'FareRare1', 'FareRare2', 'FareRareGe50', 'FareRareLt50', 'AgeGroup_1', 'AgeGroup_10']#,\n",
    "       #'AgeGroup_2', 'AgeGroup_3', 'AgeGroup_4', 'AgeGroup_5', 'AgeGroup_6',\n",
    "       #'AgeGroup_7', 'AgeGroup_8', 'AgeGroup_9']\n",
    "        # 0.77990\n",
    "X_train = df[df['Survived'].notnull()][cols].values\n",
    "y_train = df[df['Survived'].notnull()]['Survived'].values\n",
    "X_train = np.ascontiguousarray(X_train, dtype=np.float32)"
   ]
  },
  {
   "cell_type": "code",
   "execution_count": 273,
   "metadata": {},
   "outputs": [
    {
     "data": {
      "text/plain": [
       "((891, 65), (891,))"
      ]
     },
     "execution_count": 273,
     "metadata": {},
     "output_type": "execute_result"
    }
   ],
   "source": [
    "X_train.shape, y_train.shape"
   ]
  },
  {
   "cell_type": "code",
   "execution_count": 274,
   "metadata": {},
   "outputs": [],
   "source": [
    "from sklearn.preprocessing import Normalizer\n",
    "normalizer = Normalizer(norm='l1').fit(X_train)\n",
    "X_train_normalized = normalizer.transform(X_train)\n",
    "X_train_normalized = np.ascontiguousarray(X_train_normalized, dtype=np.float32)"
   ]
  },
  {
   "cell_type": "code",
   "execution_count": 275,
   "metadata": {},
   "outputs": [],
   "source": [
    "from sklearn.model_selection import StratifiedKFold"
   ]
  },
  {
   "cell_type": "code",
   "execution_count": 276,
   "metadata": {},
   "outputs": [],
   "source": [
    "from sklearn.ensemble import RandomForestClassifier\n",
    "from sklearn.model_selection import GridSearchCV"
   ]
  },
  {
   "cell_type": "code",
   "execution_count": 277,
   "metadata": {},
   "outputs": [
    {
     "data": {
      "text/plain": [
       "(  C_CONTIGUOUS : True\n",
       "   F_CONTIGUOUS : False\n",
       "   OWNDATA : True\n",
       "   WRITEABLE : True\n",
       "   ALIGNED : True\n",
       "   UPDATEIFCOPY : False,   C_CONTIGUOUS : True\n",
       "   F_CONTIGUOUS : False\n",
       "   OWNDATA : True\n",
       "   WRITEABLE : True\n",
       "   ALIGNED : True\n",
       "   UPDATEIFCOPY : False)"
      ]
     },
     "execution_count": 277,
     "metadata": {},
     "output_type": "execute_result"
    }
   ],
   "source": [
    "X_train_normalized.flags, X_train.flags"
   ]
  },
  {
   "cell_type": "code",
   "execution_count": 278,
   "metadata": {},
   "outputs": [
    {
     "name": "stdout",
     "output_type": "stream",
     "text": [
      "Fitting 10 folds for each of 20 candidates, totalling 200 fits\n",
      "[CV] min_samples_split=3, n_estimators=2000 ..........................\n",
      "[CV] min_samples_split=3, n_estimators=2000 ..........................\n",
      "[CV] ........... min_samples_split=3, n_estimators=2000, total=   7.5s\n",
      "[CV] min_samples_split=3, n_estimators=2000 ..........................\n",
      "[CV] ........... min_samples_split=3, n_estimators=2000, total=   7.5s\n",
      "[CV] min_samples_split=3, n_estimators=2000 ..........................\n",
      "[CV] ........... min_samples_split=3, n_estimators=2000, total=   6.8s\n",
      "[CV] min_samples_split=3, n_estimators=2000 ..........................\n",
      "[CV] ........... min_samples_split=3, n_estimators=2000, total=   7.0s\n",
      "[CV] min_samples_split=3, n_estimators=2000 ..........................\n",
      "[CV] ........... min_samples_split=3, n_estimators=2000, total=   7.0s\n",
      "[CV] min_samples_split=3, n_estimators=2000 ..........................\n",
      "[CV] ........... min_samples_split=3, n_estimators=2000, total=   6.9s\n",
      "[CV] min_samples_split=3, n_estimators=2000 ..........................\n",
      "[CV] ........... min_samples_split=3, n_estimators=2000, total=   6.9s\n",
      "[CV] min_samples_split=3, n_estimators=2000 ..........................\n",
      "[CV] ........... min_samples_split=3, n_estimators=2000, total=   6.9s\n",
      "[CV] min_samples_split=3, n_estimators=2000 ..........................\n",
      "[CV] ........... min_samples_split=3, n_estimators=2000, total=   7.3s\n",
      "[CV] min_samples_split=3, n_estimators=4000 ..........................\n",
      "[CV] ........... min_samples_split=3, n_estimators=2000, total=   7.1s\n",
      "[CV] min_samples_split=3, n_estimators=4000 ..........................\n",
      "[CV] ........... min_samples_split=3, n_estimators=4000, total=  13.7s\n",
      "[CV] min_samples_split=3, n_estimators=4000 ..........................\n",
      "[CV] ........... min_samples_split=3, n_estimators=4000, total=  13.4s\n",
      "[CV] min_samples_split=3, n_estimators=4000 ..........................\n",
      "[CV] ........... min_samples_split=3, n_estimators=4000, total=  13.8s\n",
      "[CV] min_samples_split=3, n_estimators=4000 ..........................\n",
      "[CV] ........... min_samples_split=3, n_estimators=4000, total=  13.7s\n",
      "[CV] min_samples_split=3, n_estimators=4000 ..........................\n",
      "[CV] ........... min_samples_split=3, n_estimators=4000, total=  13.7s\n",
      "[CV] min_samples_split=3, n_estimators=4000 ..........................\n",
      "[CV] ........... min_samples_split=3, n_estimators=4000, total=  13.4s\n",
      "[CV] min_samples_split=3, n_estimators=4000 ..........................\n",
      "[CV] ........... min_samples_split=3, n_estimators=4000, total=  13.3s\n",
      "[CV] min_samples_split=3, n_estimators=4000 ..........................\n",
      "[CV] ........... min_samples_split=3, n_estimators=4000, total=  13.2s\n",
      "[CV] min_samples_split=3, n_estimators=4000 ..........................\n",
      "[CV] ........... min_samples_split=3, n_estimators=4000, total=  13.8s\n",
      "[CV] min_samples_split=3, n_estimators=6000 ..........................\n",
      "[CV] ........... min_samples_split=3, n_estimators=4000, total=  14.1s\n",
      "[CV] min_samples_split=3, n_estimators=6000 ..........................\n",
      "[CV] ........... min_samples_split=3, n_estimators=6000, total=  20.5s\n",
      "[CV] min_samples_split=3, n_estimators=6000 ..........................\n",
      "[CV] ........... min_samples_split=3, n_estimators=6000, total=  20.9s\n",
      "[CV] min_samples_split=3, n_estimators=6000 ..........................\n",
      "[CV] ........... min_samples_split=3, n_estimators=6000, total=  19.9s\n",
      "[CV] min_samples_split=3, n_estimators=6000 ..........................\n",
      "[CV] ........... min_samples_split=3, n_estimators=6000, total=  20.0s\n",
      "[CV] min_samples_split=3, n_estimators=6000 ..........................\n",
      "[CV] ........... min_samples_split=3, n_estimators=6000, total=  20.3s\n",
      "[CV] min_samples_split=3, n_estimators=6000 ..........................\n",
      "[CV] ........... min_samples_split=3, n_estimators=6000, total=  20.3s\n",
      "[CV] min_samples_split=3, n_estimators=6000 ..........................\n",
      "[CV] ........... min_samples_split=3, n_estimators=6000, total=  20.1s\n",
      "[CV] min_samples_split=3, n_estimators=6000 ..........................\n",
      "[CV] ........... min_samples_split=3, n_estimators=6000, total=  20.1s\n",
      "[CV] min_samples_split=3, n_estimators=6000 ..........................\n",
      "[CV] ........... min_samples_split=3, n_estimators=6000, total=  20.4s\n",
      "[CV] min_samples_split=3, n_estimators=8000 ..........................\n",
      "[CV] ........... min_samples_split=3, n_estimators=6000, total=  20.1s\n",
      "[CV] min_samples_split=3, n_estimators=8000 ..........................\n",
      "[CV] ........... min_samples_split=3, n_estimators=8000, total=  27.1s\n",
      "[CV] min_samples_split=3, n_estimators=8000 ..........................\n",
      "[CV] ........... min_samples_split=3, n_estimators=8000, total=  27.5s\n",
      "[CV] min_samples_split=3, n_estimators=8000 ..........................\n",
      "[CV] ........... min_samples_split=3, n_estimators=8000, total=  26.7s\n",
      "[CV] min_samples_split=3, n_estimators=8000 ..........................\n",
      "[CV] ........... min_samples_split=3, n_estimators=8000, total=  26.9s\n",
      "[CV] min_samples_split=3, n_estimators=8000 ..........................\n",
      "[CV] ........... min_samples_split=3, n_estimators=8000, total=  26.9s\n",
      "[CV] min_samples_split=3, n_estimators=8000 ..........................\n",
      "[CV] ........... min_samples_split=3, n_estimators=8000, total=  27.1s\n",
      "[CV] min_samples_split=3, n_estimators=8000 ..........................\n",
      "[CV] ........... min_samples_split=3, n_estimators=8000, total=  27.0s\n",
      "[CV] min_samples_split=3, n_estimators=8000 ..........................\n"
     ]
    },
    {
     "name": "stderr",
     "output_type": "stream",
     "text": [
      "[Parallel(n_jobs=2)]: Done  37 tasks      | elapsed:  5.7min\n"
     ]
    },
    {
     "name": "stdout",
     "output_type": "stream",
     "text": [
      "[CV] ........... min_samples_split=3, n_estimators=8000, total=  26.8s\n",
      "[CV] min_samples_split=3, n_estimators=8000 ..........................\n",
      "[CV] ........... min_samples_split=3, n_estimators=8000, total=  27.8s\n",
      "[CV] min_samples_split=6, n_estimators=2000 ..........................\n",
      "[CV] ........... min_samples_split=3, n_estimators=8000, total=  27.1s\n",
      "[CV] min_samples_split=6, n_estimators=2000 ..........................\n",
      "[CV] ........... min_samples_split=6, n_estimators=2000, total=   6.7s\n",
      "[CV] min_samples_split=6, n_estimators=2000 ..........................\n",
      "[CV] ........... min_samples_split=6, n_estimators=2000, total=   7.0s\n",
      "[CV] min_samples_split=6, n_estimators=2000 ..........................\n",
      "[CV] ........... min_samples_split=6, n_estimators=2000, total=   6.9s\n",
      "[CV] min_samples_split=6, n_estimators=2000 ..........................\n",
      "[CV] ........... min_samples_split=6, n_estimators=2000, total=   7.0s\n",
      "[CV] min_samples_split=6, n_estimators=2000 ..........................\n",
      "[CV] ........... min_samples_split=6, n_estimators=2000, total=   6.6s\n",
      "[CV] min_samples_split=6, n_estimators=2000 ..........................\n",
      "[CV] ........... min_samples_split=6, n_estimators=2000, total=   6.8s\n",
      "[CV] min_samples_split=6, n_estimators=2000 ..........................\n",
      "[CV] ........... min_samples_split=6, n_estimators=2000, total=   6.7s\n",
      "[CV] min_samples_split=6, n_estimators=2000 ..........................\n",
      "[CV] ........... min_samples_split=6, n_estimators=2000, total=   6.9s\n",
      "[CV] min_samples_split=6, n_estimators=2000 ..........................\n",
      "[CV] ........... min_samples_split=6, n_estimators=2000, total=   7.2s\n",
      "[CV] min_samples_split=6, n_estimators=4000 ..........................\n",
      "[CV] ........... min_samples_split=6, n_estimators=2000, total=   6.9s\n",
      "[CV] min_samples_split=6, n_estimators=4000 ..........................\n",
      "[CV] ........... min_samples_split=6, n_estimators=4000, total=  13.1s\n",
      "[CV] min_samples_split=6, n_estimators=4000 ..........................\n",
      "[CV] ........... min_samples_split=6, n_estimators=4000, total=  13.2s\n",
      "[CV] min_samples_split=6, n_estimators=4000 ..........................\n",
      "[CV] ........... min_samples_split=6, n_estimators=4000, total=  12.8s\n",
      "[CV] min_samples_split=6, n_estimators=4000 ..........................\n",
      "[CV] ........... min_samples_split=6, n_estimators=4000, total=  13.1s\n",
      "[CV] min_samples_split=6, n_estimators=4000 ..........................\n",
      "[CV] ........... min_samples_split=6, n_estimators=4000, total=  12.9s\n",
      "[CV] min_samples_split=6, n_estimators=4000 ..........................\n",
      "[CV] ........... min_samples_split=6, n_estimators=4000, total=  12.9s\n",
      "[CV] min_samples_split=6, n_estimators=4000 ..........................\n",
      "[CV] ........... min_samples_split=6, n_estimators=4000, total=  13.5s\n",
      "[CV] min_samples_split=6, n_estimators=4000 ..........................\n",
      "[CV] ........... min_samples_split=6, n_estimators=4000, total=  12.9s\n",
      "[CV] min_samples_split=6, n_estimators=4000 ..........................\n",
      "[CV] ........... min_samples_split=6, n_estimators=4000, total=  12.9s\n",
      "[CV] min_samples_split=6, n_estimators=6000 ..........................\n",
      "[CV] ........... min_samples_split=6, n_estimators=4000, total=  13.0s\n",
      "[CV] min_samples_split=6, n_estimators=6000 ..........................\n",
      "[CV] ........... min_samples_split=6, n_estimators=6000, total=  19.2s\n",
      "[CV] min_samples_split=6, n_estimators=6000 ..........................\n",
      "[CV] ........... min_samples_split=6, n_estimators=6000, total=  19.1s\n",
      "[CV] min_samples_split=6, n_estimators=6000 ..........................\n",
      "[CV] ........... min_samples_split=6, n_estimators=6000, total=  19.3s\n",
      "[CV] min_samples_split=6, n_estimators=6000 ..........................\n",
      "[CV] ........... min_samples_split=6, n_estimators=6000, total=  18.9s\n",
      "[CV] min_samples_split=6, n_estimators=6000 ..........................\n",
      "[CV] ........... min_samples_split=6, n_estimators=6000, total=  19.3s\n",
      "[CV] min_samples_split=6, n_estimators=6000 ..........................\n",
      "[CV] ........... min_samples_split=6, n_estimators=6000, total=  19.3s\n",
      "[CV] min_samples_split=6, n_estimators=6000 ..........................\n",
      "[CV] ........... min_samples_split=6, n_estimators=6000, total=  19.2s\n",
      "[CV] min_samples_split=6, n_estimators=6000 ..........................\n",
      "[CV] ........... min_samples_split=6, n_estimators=6000, total=  19.3s\n",
      "[CV] min_samples_split=6, n_estimators=6000 ..........................\n",
      "[CV] ........... min_samples_split=6, n_estimators=6000, total=  18.9s\n",
      "[CV] min_samples_split=6, n_estimators=8000 ..........................\n",
      "[CV] ........... min_samples_split=6, n_estimators=6000, total=  19.4s\n",
      "[CV] min_samples_split=6, n_estimators=8000 ..........................\n",
      "[CV] ........... min_samples_split=6, n_estimators=8000, total=  25.8s\n",
      "[CV] min_samples_split=6, n_estimators=8000 ..........................\n",
      "[CV] ........... min_samples_split=6, n_estimators=8000, total=  26.2s\n",
      "[CV] min_samples_split=6, n_estimators=8000 ..........................\n",
      "[CV] ........... min_samples_split=6, n_estimators=8000, total=  25.3s\n",
      "[CV] min_samples_split=6, n_estimators=8000 ..........................\n",
      "[CV] ........... min_samples_split=6, n_estimators=8000, total=  25.2s\n",
      "[CV] min_samples_split=6, n_estimators=8000 ..........................\n",
      "[CV] ........... min_samples_split=6, n_estimators=8000, total=  25.4s\n",
      "[CV] min_samples_split=6, n_estimators=8000 ..........................\n",
      "[CV] ........... min_samples_split=6, n_estimators=8000, total=  25.4s\n",
      "[CV] min_samples_split=6, n_estimators=8000 ..........................\n",
      "[CV] ........... min_samples_split=6, n_estimators=8000, total=  59.1s\n",
      "[CV] min_samples_split=6, n_estimators=8000 ..........................\n",
      "[CV] ........... min_samples_split=6, n_estimators=8000, total= 1.1min\n",
      "[CV] min_samples_split=6, n_estimators=8000 ..........................\n",
      "[CV] ........... min_samples_split=6, n_estimators=8000, total=  59.0s\n",
      "[CV] min_samples_split=9, n_estimators=2000 ..........................\n",
      "[CV] ........... min_samples_split=6, n_estimators=8000, total=  57.1s\n",
      "[CV] min_samples_split=9, n_estimators=2000 ..........................\n",
      "[CV] ........... min_samples_split=9, n_estimators=2000, total=  15.2s\n",
      "[CV] min_samples_split=9, n_estimators=2000 ..........................\n",
      "[CV] ........... min_samples_split=9, n_estimators=2000, total=  14.6s\n",
      "[CV] min_samples_split=9, n_estimators=2000 ..........................\n",
      "[CV] ........... min_samples_split=9, n_estimators=2000, total=  14.4s\n",
      "[CV] min_samples_split=9, n_estimators=2000 ..........................\n",
      "[CV] ........... min_samples_split=9, n_estimators=2000, total=  13.9s\n",
      "[CV] min_samples_split=9, n_estimators=2000 ..........................\n",
      "[CV] ........... min_samples_split=9, n_estimators=2000, total=  15.0s\n",
      "[CV] min_samples_split=9, n_estimators=2000 ..........................\n",
      "[CV] ........... min_samples_split=9, n_estimators=2000, total=  14.8s\n",
      "[CV] min_samples_split=9, n_estimators=2000 ..........................\n",
      "[CV] ........... min_samples_split=9, n_estimators=2000, total=  14.7s\n",
      "[CV] min_samples_split=9, n_estimators=2000 ..........................\n",
      "[CV] ........... min_samples_split=9, n_estimators=2000, total=  14.7s\n",
      "[CV] min_samples_split=9, n_estimators=2000 ..........................\n",
      "[CV] ........... min_samples_split=9, n_estimators=2000, total=  14.7s\n",
      "[CV] min_samples_split=9, n_estimators=4000 ..........................\n",
      "[CV] ........... min_samples_split=9, n_estimators=2000, total=  15.1s\n",
      "[CV] min_samples_split=9, n_estimators=4000 ..........................\n",
      "[CV] ........... min_samples_split=9, n_estimators=4000, total=  29.3s\n",
      "[CV] min_samples_split=9, n_estimators=4000 ..........................\n",
      "[CV] ........... min_samples_split=9, n_estimators=4000, total=  29.6s\n",
      "[CV] min_samples_split=9, n_estimators=4000 ..........................\n",
      "[CV] ........... min_samples_split=9, n_estimators=4000, total=  28.5s\n",
      "[CV] min_samples_split=9, n_estimators=4000 ..........................\n",
      "[CV] ........... min_samples_split=9, n_estimators=4000, total=  28.0s\n",
      "[CV] min_samples_split=9, n_estimators=4000 ..........................\n",
      "[CV] ........... min_samples_split=9, n_estimators=4000, total=  28.0s\n",
      "[CV] min_samples_split=9, n_estimators=4000 ..........................\n"
     ]
    },
    {
     "name": "stdout",
     "output_type": "stream",
     "text": [
      "[CV] ........... min_samples_split=9, n_estimators=4000, total=  28.7s\n",
      "[CV] min_samples_split=9, n_estimators=4000 ..........................\n",
      "[CV] ........... min_samples_split=9, n_estimators=4000, total=  28.5s\n",
      "[CV] min_samples_split=9, n_estimators=4000 ..........................\n",
      "[CV] ........... min_samples_split=9, n_estimators=4000, total=  29.3s\n",
      "[CV] min_samples_split=9, n_estimators=4000 ..........................\n",
      "[CV] ........... min_samples_split=9, n_estimators=4000, total=  28.3s\n",
      "[CV] min_samples_split=9, n_estimators=6000 ..........................\n",
      "[CV] ........... min_samples_split=9, n_estimators=4000, total=  28.6s\n",
      "[CV] min_samples_split=9, n_estimators=6000 ..........................\n",
      "[CV] ........... min_samples_split=9, n_estimators=6000, total=  39.5s\n",
      "[CV] min_samples_split=9, n_estimators=6000 ..........................\n",
      "[CV] ........... min_samples_split=9, n_estimators=6000, total=  40.8s\n",
      "[CV] min_samples_split=9, n_estimators=6000 ..........................\n",
      "[CV] ........... min_samples_split=9, n_estimators=6000, total=  41.1s\n",
      "[CV] min_samples_split=9, n_estimators=6000 ..........................\n",
      "[CV] ........... min_samples_split=9, n_estimators=6000, total=  41.0s\n",
      "[CV] min_samples_split=9, n_estimators=6000 ..........................\n",
      "[CV] ........... min_samples_split=9, n_estimators=6000, total=  41.3s\n",
      "[CV] min_samples_split=9, n_estimators=6000 ..........................\n",
      "[CV] ........... min_samples_split=9, n_estimators=6000, total=  42.4s\n",
      "[CV] min_samples_split=9, n_estimators=6000 ..........................\n",
      "[CV] ........... min_samples_split=9, n_estimators=6000, total=  43.2s\n",
      "[CV] min_samples_split=9, n_estimators=6000 ..........................\n",
      "[CV] ........... min_samples_split=9, n_estimators=6000, total=  41.9s\n",
      "[CV] min_samples_split=9, n_estimators=6000 ..........................\n",
      "[CV] ........... min_samples_split=9, n_estimators=6000, total=  41.4s\n",
      "[CV] min_samples_split=9, n_estimators=8000 ..........................\n",
      "[CV] ........... min_samples_split=9, n_estimators=6000, total=  41.7s\n",
      "[CV] min_samples_split=9, n_estimators=8000 ..........................\n",
      "[CV] ........... min_samples_split=9, n_estimators=8000, total=  54.9s\n",
      "[CV] min_samples_split=9, n_estimators=8000 ..........................\n",
      "[CV] ........... min_samples_split=9, n_estimators=8000, total=  54.0s\n",
      "[CV] min_samples_split=9, n_estimators=8000 ..........................\n",
      "[CV] ........... min_samples_split=9, n_estimators=8000, total=  54.3s\n",
      "[CV] min_samples_split=9, n_estimators=8000 ..........................\n",
      "[CV] ........... min_samples_split=9, n_estimators=8000, total=  53.3s\n",
      "[CV] min_samples_split=9, n_estimators=8000 ..........................\n",
      "[CV] ........... min_samples_split=9, n_estimators=8000, total=  55.2s\n",
      "[CV] min_samples_split=9, n_estimators=8000 ..........................\n",
      "[CV] ........... min_samples_split=9, n_estimators=8000, total=  56.7s\n",
      "[CV] min_samples_split=9, n_estimators=8000 ..........................\n",
      "[CV] ........... min_samples_split=9, n_estimators=8000, total=  57.5s\n",
      "[CV] min_samples_split=9, n_estimators=8000 ..........................\n",
      "[CV] ........... min_samples_split=9, n_estimators=8000, total=  55.5s\n",
      "[CV] min_samples_split=9, n_estimators=8000 ..........................\n",
      "[CV] ........... min_samples_split=9, n_estimators=8000, total=  54.1s\n",
      "[CV] min_samples_split=12, n_estimators=2000 .........................\n",
      "[CV] ........... min_samples_split=9, n_estimators=8000, total=  53.2s\n",
      "[CV] min_samples_split=12, n_estimators=2000 .........................\n",
      "[CV] .......... min_samples_split=12, n_estimators=2000, total=  14.1s\n",
      "[CV] min_samples_split=12, n_estimators=2000 .........................\n",
      "[CV] .......... min_samples_split=12, n_estimators=2000, total=  15.0s\n",
      "[CV] min_samples_split=12, n_estimators=2000 .........................\n",
      "[CV] .......... min_samples_split=12, n_estimators=2000, total=  14.6s\n",
      "[CV] min_samples_split=12, n_estimators=2000 .........................\n",
      "[CV] .......... min_samples_split=12, n_estimators=2000, total=  14.4s\n",
      "[CV] min_samples_split=12, n_estimators=2000 .........................\n",
      "[CV] .......... min_samples_split=12, n_estimators=2000, total=  13.9s\n",
      "[CV] min_samples_split=12, n_estimators=2000 .........................\n",
      "[CV] .......... min_samples_split=12, n_estimators=2000, total=  14.1s\n",
      "[CV] min_samples_split=12, n_estimators=2000 .........................\n",
      "[CV] .......... min_samples_split=12, n_estimators=2000, total=  13.0s\n",
      "[CV] min_samples_split=12, n_estimators=2000 .........................\n",
      "[CV] .......... min_samples_split=12, n_estimators=2000, total=  12.6s\n",
      "[CV] min_samples_split=12, n_estimators=2000 .........................\n",
      "[CV] .......... min_samples_split=12, n_estimators=2000, total=  13.2s\n",
      "[CV] min_samples_split=12, n_estimators=4000 .........................\n",
      "[CV] .......... min_samples_split=12, n_estimators=2000, total=  13.5s\n",
      "[CV] min_samples_split=12, n_estimators=4000 .........................\n",
      "[CV] .......... min_samples_split=12, n_estimators=4000, total=  27.0s\n",
      "[CV] min_samples_split=12, n_estimators=4000 .........................\n",
      "[CV] .......... min_samples_split=12, n_estimators=4000, total=  26.2s\n",
      "[CV] min_samples_split=12, n_estimators=4000 .........................\n",
      "[CV] .......... min_samples_split=12, n_estimators=4000, total=  27.9s\n",
      "[CV] min_samples_split=12, n_estimators=4000 .........................\n",
      "[CV] .......... min_samples_split=12, n_estimators=4000, total=  28.4s\n",
      "[CV] min_samples_split=12, n_estimators=4000 .........................\n",
      "[CV] .......... min_samples_split=12, n_estimators=4000, total=  28.6s\n",
      "[CV] min_samples_split=12, n_estimators=4000 .........................\n",
      "[CV] .......... min_samples_split=12, n_estimators=4000, total=  28.2s\n",
      "[CV] min_samples_split=12, n_estimators=4000 .........................\n",
      "[CV] .......... min_samples_split=12, n_estimators=4000, total=  28.3s\n",
      "[CV] min_samples_split=12, n_estimators=4000 .........................\n",
      "[CV] .......... min_samples_split=12, n_estimators=4000, total=  27.9s\n",
      "[CV] min_samples_split=12, n_estimators=4000 .........................\n",
      "[CV] .......... min_samples_split=12, n_estimators=4000, total=  25.3s\n",
      "[CV] min_samples_split=12, n_estimators=6000 .........................\n",
      "[CV] .......... min_samples_split=12, n_estimators=4000, total=  26.6s\n",
      "[CV] min_samples_split=12, n_estimators=6000 .........................\n",
      "[CV] .......... min_samples_split=12, n_estimators=6000, total=  40.5s\n",
      "[CV] min_samples_split=12, n_estimators=6000 .........................\n",
      "[CV] .......... min_samples_split=12, n_estimators=6000, total=  39.2s\n",
      "[CV] min_samples_split=12, n_estimators=6000 .........................\n",
      "[CV] .......... min_samples_split=12, n_estimators=6000, total=  41.3s\n",
      "[CV] min_samples_split=12, n_estimators=6000 .........................\n",
      "[CV] .......... min_samples_split=12, n_estimators=6000, total=  42.7s\n",
      "[CV] min_samples_split=12, n_estimators=6000 .........................\n",
      "[CV] .......... min_samples_split=12, n_estimators=6000, total=  43.5s\n",
      "[CV] min_samples_split=12, n_estimators=6000 .........................\n",
      "[CV] .......... min_samples_split=12, n_estimators=6000, total=  43.5s\n",
      "[CV] min_samples_split=12, n_estimators=6000 .........................\n",
      "[CV] .......... min_samples_split=12, n_estimators=6000, total=  45.1s\n",
      "[CV] min_samples_split=12, n_estimators=6000 .........................\n",
      "[CV] .......... min_samples_split=12, n_estimators=6000, total=  47.0s\n",
      "[CV] min_samples_split=12, n_estimators=6000 .........................\n",
      "[CV] .......... min_samples_split=12, n_estimators=6000, total=  43.5s\n",
      "[CV] min_samples_split=12, n_estimators=8000 .........................\n",
      "[CV] .......... min_samples_split=12, n_estimators=6000, total=  40.0s\n",
      "[CV] min_samples_split=12, n_estimators=8000 .........................\n",
      "[CV] .......... min_samples_split=12, n_estimators=8000, total=  26.8s\n",
      "[CV] min_samples_split=12, n_estimators=8000 .........................\n",
      "[CV] .......... min_samples_split=12, n_estimators=8000, total=  26.1s\n",
      "[CV] min_samples_split=12, n_estimators=8000 .........................\n",
      "[CV] .......... min_samples_split=12, n_estimators=8000, total=  26.3s\n",
      "[CV] min_samples_split=12, n_estimators=8000 .........................\n"
     ]
    },
    {
     "name": "stdout",
     "output_type": "stream",
     "text": [
      "[CV] .......... min_samples_split=12, n_estimators=8000, total=  25.9s\n",
      "[CV] min_samples_split=12, n_estimators=8000 .........................\n",
      "[CV] .......... min_samples_split=12, n_estimators=8000, total=  26.8s\n",
      "[CV] min_samples_split=12, n_estimators=8000 .........................\n",
      "[CV] .......... min_samples_split=12, n_estimators=8000, total=  25.9s\n",
      "[CV] min_samples_split=12, n_estimators=8000 .........................\n",
      "[CV] .......... min_samples_split=12, n_estimators=8000, total=  26.6s\n",
      "[CV] min_samples_split=12, n_estimators=8000 .........................\n",
      "[CV] .......... min_samples_split=12, n_estimators=8000, total=  26.5s\n",
      "[CV] min_samples_split=12, n_estimators=8000 .........................\n"
     ]
    },
    {
     "name": "stderr",
     "output_type": "stream",
     "text": [
      "[Parallel(n_jobs=2)]: Done 158 tasks      | elapsed: 35.9min\n"
     ]
    },
    {
     "name": "stdout",
     "output_type": "stream",
     "text": [
      "[CV] .......... min_samples_split=12, n_estimators=8000, total=  25.7s\n",
      "[CV] min_samples_split=15, n_estimators=2000 .........................\n",
      "[CV] .......... min_samples_split=12, n_estimators=8000, total=  25.8s\n",
      "[CV] min_samples_split=15, n_estimators=2000 .........................\n",
      "[CV] .......... min_samples_split=15, n_estimators=2000, total=   6.4s\n",
      "[CV] min_samples_split=15, n_estimators=2000 .........................\n",
      "[CV] .......... min_samples_split=15, n_estimators=2000, total=   6.4s\n",
      "[CV] min_samples_split=15, n_estimators=2000 .........................\n",
      "[CV] .......... min_samples_split=15, n_estimators=2000, total=   6.5s\n",
      "[CV] min_samples_split=15, n_estimators=2000 .........................\n",
      "[CV] .......... min_samples_split=15, n_estimators=2000, total=   6.6s\n",
      "[CV] min_samples_split=15, n_estimators=2000 .........................\n",
      "[CV] .......... min_samples_split=15, n_estimators=2000, total=   6.4s\n",
      "[CV] min_samples_split=15, n_estimators=2000 .........................\n",
      "[CV] .......... min_samples_split=15, n_estimators=2000, total=   6.4s\n",
      "[CV] min_samples_split=15, n_estimators=2000 .........................\n",
      "[CV] .......... min_samples_split=15, n_estimators=2000, total=   6.4s\n",
      "[CV] min_samples_split=15, n_estimators=2000 .........................\n",
      "[CV] .......... min_samples_split=15, n_estimators=2000, total=   6.3s\n",
      "[CV] min_samples_split=15, n_estimators=2000 .........................\n",
      "[CV] .......... min_samples_split=15, n_estimators=2000, total=   6.4s\n",
      "[CV] min_samples_split=15, n_estimators=4000 .........................\n",
      "[CV] .......... min_samples_split=15, n_estimators=2000, total=   6.5s\n",
      "[CV] min_samples_split=15, n_estimators=4000 .........................\n",
      "[CV] .......... min_samples_split=15, n_estimators=4000, total=  12.9s\n",
      "[CV] min_samples_split=15, n_estimators=4000 .........................\n",
      "[CV] .......... min_samples_split=15, n_estimators=4000, total=  12.9s\n",
      "[CV] min_samples_split=15, n_estimators=4000 .........................\n",
      "[CV] .......... min_samples_split=15, n_estimators=4000, total=  12.9s\n",
      "[CV] min_samples_split=15, n_estimators=4000 .........................\n",
      "[CV] .......... min_samples_split=15, n_estimators=4000, total=  13.2s\n",
      "[CV] min_samples_split=15, n_estimators=4000 .........................\n",
      "[CV] .......... min_samples_split=15, n_estimators=4000, total=  12.8s\n",
      "[CV] min_samples_split=15, n_estimators=4000 .........................\n",
      "[CV] .......... min_samples_split=15, n_estimators=4000, total=  12.9s\n",
      "[CV] min_samples_split=15, n_estimators=4000 .........................\n",
      "[CV] .......... min_samples_split=15, n_estimators=4000, total=  13.2s\n",
      "[CV] min_samples_split=15, n_estimators=4000 .........................\n",
      "[CV] .......... min_samples_split=15, n_estimators=4000, total=  13.1s\n",
      "[CV] min_samples_split=15, n_estimators=4000 .........................\n",
      "[CV] .......... min_samples_split=15, n_estimators=4000, total=  13.0s\n",
      "[CV] min_samples_split=15, n_estimators=6000 .........................\n",
      "[CV] .......... min_samples_split=15, n_estimators=4000, total=  12.9s\n",
      "[CV] min_samples_split=15, n_estimators=6000 .........................\n",
      "[CV] .......... min_samples_split=15, n_estimators=6000, total=  19.0s\n",
      "[CV] min_samples_split=15, n_estimators=6000 .........................\n",
      "[CV] .......... min_samples_split=15, n_estimators=6000, total=  18.9s\n",
      "[CV] min_samples_split=15, n_estimators=6000 .........................\n",
      "[CV] .......... min_samples_split=15, n_estimators=6000, total=  19.6s\n",
      "[CV] min_samples_split=15, n_estimators=6000 .........................\n",
      "[CV] .......... min_samples_split=15, n_estimators=6000, total=  19.1s\n",
      "[CV] min_samples_split=15, n_estimators=6000 .........................\n",
      "[CV] .......... min_samples_split=15, n_estimators=6000, total=  19.7s\n",
      "[CV] min_samples_split=15, n_estimators=6000 .........................\n",
      "[CV] .......... min_samples_split=15, n_estimators=6000, total=  20.1s\n",
      "[CV] min_samples_split=15, n_estimators=6000 .........................\n",
      "[CV] .......... min_samples_split=15, n_estimators=6000, total=  19.3s\n",
      "[CV] min_samples_split=15, n_estimators=6000 .........................\n",
      "[CV] .......... min_samples_split=15, n_estimators=6000, total=  19.7s\n",
      "[CV] min_samples_split=15, n_estimators=6000 .........................\n",
      "[CV] .......... min_samples_split=15, n_estimators=6000, total=  19.3s\n",
      "[CV] min_samples_split=15, n_estimators=8000 .........................\n",
      "[CV] .......... min_samples_split=15, n_estimators=6000, total=  19.6s\n",
      "[CV] min_samples_split=15, n_estimators=8000 .........................\n",
      "[CV] .......... min_samples_split=15, n_estimators=8000, total=  26.1s\n",
      "[CV] min_samples_split=15, n_estimators=8000 .........................\n",
      "[CV] .......... min_samples_split=15, n_estimators=8000, total=  26.4s\n",
      "[CV] min_samples_split=15, n_estimators=8000 .........................\n",
      "[CV] .......... min_samples_split=15, n_estimators=8000, total=  25.1s\n",
      "[CV] min_samples_split=15, n_estimators=8000 .........................\n",
      "[CV] .......... min_samples_split=15, n_estimators=8000, total=  25.2s\n",
      "[CV] min_samples_split=15, n_estimators=8000 .........................\n",
      "[CV] .......... min_samples_split=15, n_estimators=8000, total=  25.4s\n",
      "[CV] min_samples_split=15, n_estimators=8000 .........................\n",
      "[CV] .......... min_samples_split=15, n_estimators=8000, total=  25.7s\n",
      "[CV] min_samples_split=15, n_estimators=8000 .........................\n",
      "[CV] .......... min_samples_split=15, n_estimators=8000, total=  25.8s\n",
      "[CV] min_samples_split=15, n_estimators=8000 .........................\n",
      "[CV] .......... min_samples_split=15, n_estimators=8000, total=  25.9s\n",
      "[CV] min_samples_split=15, n_estimators=8000 .........................\n",
      "[CV] .......... min_samples_split=15, n_estimators=8000, total=  25.6s\n",
      "[CV] .......... min_samples_split=15, n_estimators=8000, total=  25.6s\n"
     ]
    },
    {
     "name": "stderr",
     "output_type": "stream",
     "text": [
      "[Parallel(n_jobs=2)]: Done 200 out of 200 | elapsed: 42.3min finished\n"
     ]
    },
    {
     "name": "stdout",
     "output_type": "stream",
     "text": [
      "{'min_samples_split': 6, 'n_estimators': 4000}\n",
      "0.845117845118\n"
     ]
    }
   ],
   "source": [
    "params = {'n_estimators':[2000, 4000, 6000, 8000],\n",
    "          'min_samples_split':range(3, 18, 3)}\n",
    "rf1 = RandomForestClassifier(oob_score=True, class_weight='balanced', max_features='log2', random_state=0)\n",
    "clf_rf1 = GridSearchCV(rf1, params,\n",
    "                      cv=StratifiedKFold(n_splits=10, shuffle=True, random_state=0), \n",
    "                      verbose=2, n_jobs=2)\n",
    "\n",
    "clf_rf1.fit(X_train, y_train)\n",
    "print(clf_rf1.best_params_)\n",
    "print(clf_rf1.best_score_)"
   ]
  },
  {
   "cell_type": "code",
   "execution_count": 279,
   "metadata": {},
   "outputs": [
    {
     "name": "stdout",
     "output_type": "stream",
     "text": [
      "Fitting 10 folds for each of 20 candidates, totalling 200 fits\n",
      "[CV] min_samples_split=3, n_estimators=2000 ..........................\n",
      "[CV] min_samples_split=3, n_estimators=2000 ..........................\n",
      "[CV] ........... min_samples_split=3, n_estimators=2000, total=   7.8s\n",
      "[CV] min_samples_split=3, n_estimators=2000 ..........................\n",
      "[CV] ........... min_samples_split=3, n_estimators=2000, total=   7.8s\n",
      "[CV] min_samples_split=3, n_estimators=2000 ..........................\n",
      "[CV] ........... min_samples_split=3, n_estimators=2000, total=   7.3s\n",
      "[CV] min_samples_split=3, n_estimators=2000 ..........................\n",
      "[CV] ........... min_samples_split=3, n_estimators=2000, total=   7.5s\n",
      "[CV] min_samples_split=3, n_estimators=2000 ..........................\n",
      "[CV] ........... min_samples_split=3, n_estimators=2000, total=   7.6s\n",
      "[CV] min_samples_split=3, n_estimators=2000 ..........................\n",
      "[CV] ........... min_samples_split=3, n_estimators=2000, total=   7.7s\n",
      "[CV] min_samples_split=3, n_estimators=2000 ..........................\n",
      "[CV] ........... min_samples_split=3, n_estimators=2000, total=   7.1s\n",
      "[CV] min_samples_split=3, n_estimators=2000 ..........................\n",
      "[CV] ........... min_samples_split=3, n_estimators=2000, total=   7.2s\n",
      "[CV] min_samples_split=3, n_estimators=2000 ..........................\n",
      "[CV] ........... min_samples_split=3, n_estimators=2000, total=   7.4s\n",
      "[CV] min_samples_split=3, n_estimators=4000 ..........................\n",
      "[CV] ........... min_samples_split=3, n_estimators=2000, total=   7.7s\n",
      "[CV] min_samples_split=3, n_estimators=4000 ..........................\n",
      "[CV] ........... min_samples_split=3, n_estimators=4000, total=  14.6s\n",
      "[CV] min_samples_split=3, n_estimators=4000 ..........................\n",
      "[CV] ........... min_samples_split=3, n_estimators=4000, total=  14.3s\n",
      "[CV] min_samples_split=3, n_estimators=4000 ..........................\n",
      "[CV] ........... min_samples_split=3, n_estimators=4000, total=  18.0s\n",
      "[CV] min_samples_split=3, n_estimators=4000 ..........................\n",
      "[CV] ........... min_samples_split=3, n_estimators=4000, total=  18.1s\n",
      "[CV] min_samples_split=3, n_estimators=4000 ..........................\n",
      "[CV] ........... min_samples_split=3, n_estimators=4000, total=  15.6s\n",
      "[CV] min_samples_split=3, n_estimators=4000 ..........................\n",
      "[CV] ........... min_samples_split=3, n_estimators=4000, total=  16.0s\n",
      "[CV] min_samples_split=3, n_estimators=4000 ..........................\n",
      "[CV] ........... min_samples_split=3, n_estimators=4000, total=  15.8s\n",
      "[CV] min_samples_split=3, n_estimators=4000 ..........................\n",
      "[CV] ........... min_samples_split=3, n_estimators=4000, total=  15.2s\n",
      "[CV] min_samples_split=3, n_estimators=4000 ..........................\n",
      "[CV] ........... min_samples_split=3, n_estimators=4000, total=  14.8s\n",
      "[CV] min_samples_split=3, n_estimators=6000 ..........................\n",
      "[CV] ........... min_samples_split=3, n_estimators=4000, total=  15.8s\n",
      "[CV] min_samples_split=3, n_estimators=6000 ..........................\n",
      "[CV] ........... min_samples_split=3, n_estimators=6000, total=  22.2s\n",
      "[CV] min_samples_split=3, n_estimators=6000 ..........................\n",
      "[CV] ........... min_samples_split=3, n_estimators=6000, total=  22.7s\n",
      "[CV] min_samples_split=3, n_estimators=6000 ..........................\n",
      "[CV] ........... min_samples_split=3, n_estimators=6000, total=  24.0s\n",
      "[CV] min_samples_split=3, n_estimators=6000 ..........................\n",
      "[CV] ........... min_samples_split=3, n_estimators=6000, total=  24.4s\n",
      "[CV] min_samples_split=3, n_estimators=6000 ..........................\n",
      "[CV] ........... min_samples_split=3, n_estimators=6000, total=  22.4s\n",
      "[CV] min_samples_split=3, n_estimators=6000 ..........................\n",
      "[CV] ........... min_samples_split=3, n_estimators=6000, total=  22.0s\n",
      "[CV] min_samples_split=3, n_estimators=6000 ..........................\n",
      "[CV] ........... min_samples_split=3, n_estimators=6000, total=  22.5s\n",
      "[CV] min_samples_split=3, n_estimators=6000 ..........................\n",
      "[CV] ........... min_samples_split=3, n_estimators=6000, total=  22.4s\n",
      "[CV] min_samples_split=3, n_estimators=6000 ..........................\n",
      "[CV] ........... min_samples_split=3, n_estimators=6000, total=  22.3s\n",
      "[CV] min_samples_split=3, n_estimators=8000 ..........................\n",
      "[CV] ........... min_samples_split=3, n_estimators=6000, total=  21.2s\n",
      "[CV] min_samples_split=3, n_estimators=8000 ..........................\n",
      "[CV] ........... min_samples_split=3, n_estimators=8000, total=  30.7s\n",
      "[CV] min_samples_split=3, n_estimators=8000 ..........................\n",
      "[CV] ........... min_samples_split=3, n_estimators=8000, total=  31.3s\n",
      "[CV] min_samples_split=3, n_estimators=8000 ..........................\n",
      "[CV] ........... min_samples_split=3, n_estimators=8000, total=  30.2s\n",
      "[CV] min_samples_split=3, n_estimators=8000 ..........................\n",
      "[CV] ........... min_samples_split=3, n_estimators=8000, total=  30.7s\n",
      "[CV] min_samples_split=3, n_estimators=8000 ..........................\n",
      "[CV] ........... min_samples_split=3, n_estimators=8000, total=  35.9s\n",
      "[CV] min_samples_split=3, n_estimators=8000 ..........................\n",
      "[CV] ........... min_samples_split=3, n_estimators=8000, total=  38.1s\n",
      "[CV] min_samples_split=3, n_estimators=8000 ..........................\n",
      "[CV] ........... min_samples_split=3, n_estimators=8000, total=  28.7s\n",
      "[CV] min_samples_split=3, n_estimators=8000 ..........................\n"
     ]
    },
    {
     "name": "stderr",
     "output_type": "stream",
     "text": [
      "[Parallel(n_jobs=2)]: Done  37 tasks      | elapsed:  6.5min\n"
     ]
    },
    {
     "name": "stdout",
     "output_type": "stream",
     "text": [
      "[CV] ........... min_samples_split=3, n_estimators=8000, total=  30.3s\n",
      "[CV] min_samples_split=3, n_estimators=8000 ..........................\n",
      "[CV] ........... min_samples_split=3, n_estimators=8000, total=  30.9s\n",
      "[CV] min_samples_split=6, n_estimators=2000 ..........................\n",
      "[CV] ........... min_samples_split=3, n_estimators=8000, total=  29.5s\n",
      "[CV] min_samples_split=6, n_estimators=2000 ..........................\n",
      "[CV] ........... min_samples_split=6, n_estimators=2000, total=   7.0s\n",
      "[CV] min_samples_split=6, n_estimators=2000 ..........................\n",
      "[CV] ........... min_samples_split=6, n_estimators=2000, total=   7.0s\n",
      "[CV] min_samples_split=6, n_estimators=2000 ..........................\n",
      "[CV] ........... min_samples_split=6, n_estimators=2000, total=   6.8s\n",
      "[CV] min_samples_split=6, n_estimators=2000 ..........................\n",
      "[CV] ........... min_samples_split=6, n_estimators=2000, total=   7.0s\n",
      "[CV] min_samples_split=6, n_estimators=2000 ..........................\n",
      "[CV] ........... min_samples_split=6, n_estimators=2000, total=   6.7s\n",
      "[CV] min_samples_split=6, n_estimators=2000 ..........................\n",
      "[CV] ........... min_samples_split=6, n_estimators=2000, total=   7.0s\n",
      "[CV] min_samples_split=6, n_estimators=2000 ..........................\n",
      "[CV] ........... min_samples_split=6, n_estimators=2000, total=   6.9s\n",
      "[CV] min_samples_split=6, n_estimators=2000 ..........................\n",
      "[CV] ........... min_samples_split=6, n_estimators=2000, total=   7.1s\n",
      "[CV] min_samples_split=6, n_estimators=2000 ..........................\n",
      "[CV] ........... min_samples_split=6, n_estimators=2000, total=   6.9s\n",
      "[CV] min_samples_split=6, n_estimators=4000 ..........................\n",
      "[CV] ........... min_samples_split=6, n_estimators=2000, total=   7.0s\n",
      "[CV] min_samples_split=6, n_estimators=4000 ..........................\n",
      "[CV] ........... min_samples_split=6, n_estimators=4000, total=  13.9s\n",
      "[CV] min_samples_split=6, n_estimators=4000 ..........................\n",
      "[CV] ........... min_samples_split=6, n_estimators=4000, total=  14.5s\n",
      "[CV] min_samples_split=6, n_estimators=4000 ..........................\n",
      "[CV] ........... min_samples_split=6, n_estimators=4000, total=  13.9s\n",
      "[CV] min_samples_split=6, n_estimators=4000 ..........................\n",
      "[CV] ........... min_samples_split=6, n_estimators=4000, total=  14.3s\n",
      "[CV] min_samples_split=6, n_estimators=4000 ..........................\n",
      "[CV] ........... min_samples_split=6, n_estimators=4000, total=  14.0s\n",
      "[CV] min_samples_split=6, n_estimators=4000 ..........................\n",
      "[CV] ........... min_samples_split=6, n_estimators=4000, total=  14.0s\n",
      "[CV] min_samples_split=6, n_estimators=4000 ..........................\n",
      "[CV] ........... min_samples_split=6, n_estimators=4000, total=  14.0s\n",
      "[CV] min_samples_split=6, n_estimators=4000 ..........................\n",
      "[CV] ........... min_samples_split=6, n_estimators=4000, total=  14.0s\n",
      "[CV] min_samples_split=6, n_estimators=4000 ..........................\n",
      "[CV] ........... min_samples_split=6, n_estimators=4000, total=  14.2s\n",
      "[CV] min_samples_split=6, n_estimators=6000 ..........................\n",
      "[CV] ........... min_samples_split=6, n_estimators=4000, total=  13.8s\n",
      "[CV] min_samples_split=6, n_estimators=6000 ..........................\n",
      "[CV] ........... min_samples_split=6, n_estimators=6000, total=  22.1s\n",
      "[CV] min_samples_split=6, n_estimators=6000 ..........................\n",
      "[CV] ........... min_samples_split=6, n_estimators=6000, total=  21.6s\n",
      "[CV] min_samples_split=6, n_estimators=6000 ..........................\n",
      "[CV] ........... min_samples_split=6, n_estimators=6000, total=  21.7s\n",
      "[CV] min_samples_split=6, n_estimators=6000 ..........................\n",
      "[CV] ........... min_samples_split=6, n_estimators=6000, total=  21.1s\n",
      "[CV] min_samples_split=6, n_estimators=6000 ..........................\n",
      "[CV] ........... min_samples_split=6, n_estimators=6000, total=  21.4s\n",
      "[CV] min_samples_split=6, n_estimators=6000 ..........................\n",
      "[CV] ........... min_samples_split=6, n_estimators=6000, total=  20.4s\n",
      "[CV] min_samples_split=6, n_estimators=6000 ..........................\n",
      "[CV] ........... min_samples_split=6, n_estimators=6000, total=  21.7s\n",
      "[CV] min_samples_split=6, n_estimators=6000 ..........................\n",
      "[CV] ........... min_samples_split=6, n_estimators=6000, total=  20.8s\n",
      "[CV] min_samples_split=6, n_estimators=6000 ..........................\n",
      "[CV] ........... min_samples_split=6, n_estimators=6000, total=  21.1s\n",
      "[CV] min_samples_split=6, n_estimators=8000 ..........................\n",
      "[CV] ........... min_samples_split=6, n_estimators=6000, total=  21.5s\n",
      "[CV] min_samples_split=6, n_estimators=8000 ..........................\n",
      "[CV] ........... min_samples_split=6, n_estimators=8000, total=  28.9s\n",
      "[CV] min_samples_split=6, n_estimators=8000 ..........................\n",
      "[CV] ........... min_samples_split=6, n_estimators=8000, total=  28.4s\n",
      "[CV] min_samples_split=6, n_estimators=8000 ..........................\n",
      "[CV] ........... min_samples_split=6, n_estimators=8000, total=  27.2s\n",
      "[CV] min_samples_split=6, n_estimators=8000 ..........................\n",
      "[CV] ........... min_samples_split=6, n_estimators=8000, total=  28.8s\n",
      "[CV] min_samples_split=6, n_estimators=8000 ..........................\n",
      "[CV] ........... min_samples_split=6, n_estimators=8000, total=  27.9s\n",
      "[CV] min_samples_split=6, n_estimators=8000 ..........................\n",
      "[CV] ........... min_samples_split=6, n_estimators=8000, total=  29.8s\n",
      "[CV] min_samples_split=6, n_estimators=8000 ..........................\n",
      "[CV] ........... min_samples_split=6, n_estimators=8000, total=  28.4s\n",
      "[CV] min_samples_split=6, n_estimators=8000 ..........................\n",
      "[CV] ........... min_samples_split=6, n_estimators=8000, total=  27.4s\n",
      "[CV] min_samples_split=6, n_estimators=8000 ..........................\n",
      "[CV] ........... min_samples_split=6, n_estimators=8000, total=  28.9s\n",
      "[CV] min_samples_split=9, n_estimators=2000 ..........................\n",
      "[CV] ........... min_samples_split=6, n_estimators=8000, total=  28.8s\n",
      "[CV] min_samples_split=9, n_estimators=2000 ..........................\n",
      "[CV] ........... min_samples_split=9, n_estimators=2000, total=   6.7s\n",
      "[CV] min_samples_split=9, n_estimators=2000 ..........................\n",
      "[CV] ........... min_samples_split=9, n_estimators=2000, total=   9.3s\n",
      "[CV] min_samples_split=9, n_estimators=2000 ..........................\n",
      "[CV] ........... min_samples_split=9, n_estimators=2000, total=  11.4s\n",
      "[CV] min_samples_split=9, n_estimators=2000 ..........................\n",
      "[CV] ........... min_samples_split=9, n_estimators=2000, total=   8.1s\n",
      "[CV] min_samples_split=9, n_estimators=2000 ..........................\n",
      "[CV] ........... min_samples_split=9, n_estimators=2000, total=   7.1s\n",
      "[CV] min_samples_split=9, n_estimators=2000 ..........................\n",
      "[CV] ........... min_samples_split=9, n_estimators=2000, total=   7.8s\n",
      "[CV] min_samples_split=9, n_estimators=2000 ..........................\n",
      "[CV] ........... min_samples_split=9, n_estimators=2000, total=   7.2s\n",
      "[CV] min_samples_split=9, n_estimators=2000 ..........................\n",
      "[CV] ........... min_samples_split=9, n_estimators=2000, total=   7.0s\n",
      "[CV] min_samples_split=9, n_estimators=2000 ..........................\n",
      "[CV] ........... min_samples_split=9, n_estimators=2000, total=   6.8s\n",
      "[CV] min_samples_split=9, n_estimators=4000 ..........................\n",
      "[CV] ........... min_samples_split=9, n_estimators=2000, total=   7.0s\n",
      "[CV] min_samples_split=9, n_estimators=4000 ..........................\n",
      "[CV] ........... min_samples_split=9, n_estimators=4000, total=  13.3s\n",
      "[CV] min_samples_split=9, n_estimators=4000 ..........................\n",
      "[CV] ........... min_samples_split=9, n_estimators=4000, total=  13.7s\n",
      "[CV] min_samples_split=9, n_estimators=4000 ..........................\n",
      "[CV] ........... min_samples_split=9, n_estimators=4000, total=  13.8s\n",
      "[CV] min_samples_split=9, n_estimators=4000 ..........................\n",
      "[CV] ........... min_samples_split=9, n_estimators=4000, total=  14.1s\n",
      "[CV] min_samples_split=9, n_estimators=4000 ..........................\n",
      "[CV] ........... min_samples_split=9, n_estimators=4000, total=  13.3s\n",
      "[CV] min_samples_split=9, n_estimators=4000 ..........................\n"
     ]
    },
    {
     "name": "stdout",
     "output_type": "stream",
     "text": [
      "[CV] ........... min_samples_split=9, n_estimators=4000, total=  13.8s\n",
      "[CV] min_samples_split=9, n_estimators=4000 ..........................\n",
      "[CV] ........... min_samples_split=9, n_estimators=4000, total=  14.0s\n",
      "[CV] min_samples_split=9, n_estimators=4000 ..........................\n",
      "[CV] ........... min_samples_split=9, n_estimators=4000, total=  13.7s\n",
      "[CV] min_samples_split=9, n_estimators=4000 ..........................\n",
      "[CV] ........... min_samples_split=9, n_estimators=4000, total=  13.8s\n",
      "[CV] min_samples_split=9, n_estimators=6000 ..........................\n",
      "[CV] ........... min_samples_split=9, n_estimators=4000, total=  14.2s\n",
      "[CV] min_samples_split=9, n_estimators=6000 ..........................\n",
      "[CV] ........... min_samples_split=9, n_estimators=6000, total=  20.4s\n",
      "[CV] min_samples_split=9, n_estimators=6000 ..........................\n",
      "[CV] ........... min_samples_split=9, n_estimators=6000, total=  20.7s\n",
      "[CV] min_samples_split=9, n_estimators=6000 ..........................\n",
      "[CV] ........... min_samples_split=9, n_estimators=6000, total=  20.2s\n",
      "[CV] min_samples_split=9, n_estimators=6000 ..........................\n",
      "[CV] ........... min_samples_split=9, n_estimators=6000, total=  20.8s\n",
      "[CV] min_samples_split=9, n_estimators=6000 ..........................\n",
      "[CV] ........... min_samples_split=9, n_estimators=6000, total=  21.2s\n",
      "[CV] min_samples_split=9, n_estimators=6000 ..........................\n",
      "[CV] ........... min_samples_split=9, n_estimators=6000, total=  21.5s\n",
      "[CV] min_samples_split=9, n_estimators=6000 ..........................\n",
      "[CV] ........... min_samples_split=9, n_estimators=6000, total=  21.3s\n",
      "[CV] min_samples_split=9, n_estimators=6000 ..........................\n",
      "[CV] ........... min_samples_split=9, n_estimators=6000, total=  20.5s\n",
      "[CV] min_samples_split=9, n_estimators=6000 ..........................\n",
      "[CV] ........... min_samples_split=9, n_estimators=6000, total=  20.2s\n",
      "[CV] min_samples_split=9, n_estimators=8000 ..........................\n",
      "[CV] ........... min_samples_split=9, n_estimators=6000, total=  20.3s\n",
      "[CV] min_samples_split=9, n_estimators=8000 ..........................\n",
      "[CV] ........... min_samples_split=9, n_estimators=8000, total=  28.4s\n",
      "[CV] min_samples_split=9, n_estimators=8000 ..........................\n",
      "[CV] ........... min_samples_split=9, n_estimators=8000, total=  28.1s\n",
      "[CV] min_samples_split=9, n_estimators=8000 ..........................\n",
      "[CV] ........... min_samples_split=9, n_estimators=8000, total=  27.4s\n",
      "[CV] min_samples_split=9, n_estimators=8000 ..........................\n",
      "[CV] ........... min_samples_split=9, n_estimators=8000, total=  27.3s\n",
      "[CV] min_samples_split=9, n_estimators=8000 ..........................\n",
      "[CV] ........... min_samples_split=9, n_estimators=8000, total=  27.1s\n",
      "[CV] min_samples_split=9, n_estimators=8000 ..........................\n",
      "[CV] ........... min_samples_split=9, n_estimators=8000, total=  27.5s\n",
      "[CV] min_samples_split=9, n_estimators=8000 ..........................\n",
      "[CV] ........... min_samples_split=9, n_estimators=8000, total=  26.5s\n",
      "[CV] min_samples_split=9, n_estimators=8000 ..........................\n",
      "[CV] ........... min_samples_split=9, n_estimators=8000, total=  26.3s\n",
      "[CV] min_samples_split=9, n_estimators=8000 ..........................\n",
      "[CV] ........... min_samples_split=9, n_estimators=8000, total=  27.7s\n",
      "[CV] min_samples_split=12, n_estimators=2000 .........................\n",
      "[CV] ........... min_samples_split=9, n_estimators=8000, total=  27.5s\n",
      "[CV] min_samples_split=12, n_estimators=2000 .........................\n",
      "[CV] .......... min_samples_split=12, n_estimators=2000, total=   7.0s\n",
      "[CV] min_samples_split=12, n_estimators=2000 .........................\n",
      "[CV] .......... min_samples_split=12, n_estimators=2000, total=   6.8s\n",
      "[CV] min_samples_split=12, n_estimators=2000 .........................\n",
      "[CV] .......... min_samples_split=12, n_estimators=2000, total=   6.9s\n",
      "[CV] min_samples_split=12, n_estimators=2000 .........................\n",
      "[CV] .......... min_samples_split=12, n_estimators=2000, total=   7.2s\n",
      "[CV] min_samples_split=12, n_estimators=2000 .........................\n",
      "[CV] .......... min_samples_split=12, n_estimators=2000, total=   7.1s\n",
      "[CV] min_samples_split=12, n_estimators=2000 .........................\n",
      "[CV] .......... min_samples_split=12, n_estimators=2000, total=   6.6s\n",
      "[CV] min_samples_split=12, n_estimators=2000 .........................\n",
      "[CV] .......... min_samples_split=12, n_estimators=2000, total=   7.0s\n",
      "[CV] min_samples_split=12, n_estimators=2000 .........................\n",
      "[CV] .......... min_samples_split=12, n_estimators=2000, total=   6.7s\n",
      "[CV] min_samples_split=12, n_estimators=2000 .........................\n",
      "[CV] .......... min_samples_split=12, n_estimators=2000, total=   7.1s\n",
      "[CV] min_samples_split=12, n_estimators=4000 .........................\n",
      "[CV] .......... min_samples_split=12, n_estimators=2000, total=   6.9s\n",
      "[CV] min_samples_split=12, n_estimators=4000 .........................\n",
      "[CV] .......... min_samples_split=12, n_estimators=4000, total=  13.6s\n",
      "[CV] min_samples_split=12, n_estimators=4000 .........................\n",
      "[CV] .......... min_samples_split=12, n_estimators=4000, total=  13.2s\n",
      "[CV] min_samples_split=12, n_estimators=4000 .........................\n",
      "[CV] .......... min_samples_split=12, n_estimators=4000, total=  13.7s\n",
      "[CV] min_samples_split=12, n_estimators=4000 .........................\n",
      "[CV] .......... min_samples_split=12, n_estimators=4000, total=  13.2s\n",
      "[CV] min_samples_split=12, n_estimators=4000 .........................\n",
      "[CV] .......... min_samples_split=12, n_estimators=4000, total=  13.6s\n",
      "[CV] min_samples_split=12, n_estimators=4000 .........................\n",
      "[CV] .......... min_samples_split=12, n_estimators=4000, total=  13.3s\n",
      "[CV] min_samples_split=12, n_estimators=4000 .........................\n",
      "[CV] .......... min_samples_split=12, n_estimators=4000, total=  13.7s\n",
      "[CV] min_samples_split=12, n_estimators=4000 .........................\n",
      "[CV] .......... min_samples_split=12, n_estimators=4000, total=  13.2s\n",
      "[CV] min_samples_split=12, n_estimators=4000 .........................\n",
      "[CV] .......... min_samples_split=12, n_estimators=4000, total=  13.1s\n",
      "[CV] min_samples_split=12, n_estimators=6000 .........................\n",
      "[CV] .......... min_samples_split=12, n_estimators=4000, total=  13.4s\n",
      "[CV] min_samples_split=12, n_estimators=6000 .........................\n",
      "[CV] .......... min_samples_split=12, n_estimators=6000, total=  19.1s\n",
      "[CV] min_samples_split=12, n_estimators=6000 .........................\n",
      "[CV] .......... min_samples_split=12, n_estimators=6000, total=  20.2s\n",
      "[CV] min_samples_split=12, n_estimators=6000 .........................\n",
      "[CV] .......... min_samples_split=12, n_estimators=6000, total=  19.5s\n",
      "[CV] min_samples_split=12, n_estimators=6000 .........................\n",
      "[CV] .......... min_samples_split=12, n_estimators=6000, total=  20.4s\n",
      "[CV] min_samples_split=12, n_estimators=6000 .........................\n",
      "[CV] .......... min_samples_split=12, n_estimators=6000, total=  19.7s\n",
      "[CV] min_samples_split=12, n_estimators=6000 .........................\n",
      "[CV] .......... min_samples_split=12, n_estimators=6000, total=  20.1s\n",
      "[CV] min_samples_split=12, n_estimators=6000 .........................\n",
      "[CV] .......... min_samples_split=12, n_estimators=6000, total=  20.1s\n",
      "[CV] min_samples_split=12, n_estimators=6000 .........................\n",
      "[CV] .......... min_samples_split=12, n_estimators=6000, total=  20.8s\n",
      "[CV] min_samples_split=12, n_estimators=6000 .........................\n",
      "[CV] .......... min_samples_split=12, n_estimators=6000, total=  20.9s\n",
      "[CV] min_samples_split=12, n_estimators=8000 .........................\n",
      "[CV] .......... min_samples_split=12, n_estimators=6000, total=  20.0s\n",
      "[CV] min_samples_split=12, n_estimators=8000 .........................\n",
      "[CV] .......... min_samples_split=12, n_estimators=8000, total=  26.5s\n",
      "[CV] min_samples_split=12, n_estimators=8000 .........................\n",
      "[CV] .......... min_samples_split=12, n_estimators=8000, total=  27.1s\n",
      "[CV] min_samples_split=12, n_estimators=8000 .........................\n",
      "[CV] .......... min_samples_split=12, n_estimators=8000, total=  26.3s\n",
      "[CV] min_samples_split=12, n_estimators=8000 .........................\n"
     ]
    },
    {
     "name": "stdout",
     "output_type": "stream",
     "text": [
      "[CV] .......... min_samples_split=12, n_estimators=8000, total=  26.9s\n",
      "[CV] min_samples_split=12, n_estimators=8000 .........................\n",
      "[CV] .......... min_samples_split=12, n_estimators=8000, total=  26.2s\n",
      "[CV] min_samples_split=12, n_estimators=8000 .........................\n",
      "[CV] .......... min_samples_split=12, n_estimators=8000, total=  26.5s\n",
      "[CV] min_samples_split=12, n_estimators=8000 .........................\n",
      "[CV] .......... min_samples_split=12, n_estimators=8000, total=  26.9s\n",
      "[CV] min_samples_split=12, n_estimators=8000 .........................\n",
      "[CV] .......... min_samples_split=12, n_estimators=8000, total=  27.5s\n",
      "[CV] min_samples_split=12, n_estimators=8000 .........................\n"
     ]
    },
    {
     "name": "stderr",
     "output_type": "stream",
     "text": [
      "[Parallel(n_jobs=2)]: Done 158 tasks      | elapsed: 25.7min\n"
     ]
    },
    {
     "name": "stdout",
     "output_type": "stream",
     "text": [
      "[CV] .......... min_samples_split=12, n_estimators=8000, total=  27.2s\n",
      "[CV] min_samples_split=15, n_estimators=2000 .........................\n",
      "[CV] .......... min_samples_split=12, n_estimators=8000, total=  26.7s\n",
      "[CV] min_samples_split=15, n_estimators=2000 .........................\n",
      "[CV] .......... min_samples_split=15, n_estimators=2000, total=   7.1s\n",
      "[CV] min_samples_split=15, n_estimators=2000 .........................\n",
      "[CV] .......... min_samples_split=15, n_estimators=2000, total=   6.9s\n",
      "[CV] min_samples_split=15, n_estimators=2000 .........................\n",
      "[CV] .......... min_samples_split=15, n_estimators=2000, total=   7.0s\n",
      "[CV] min_samples_split=15, n_estimators=2000 .........................\n",
      "[CV] .......... min_samples_split=15, n_estimators=2000, total=   6.9s\n",
      "[CV] min_samples_split=15, n_estimators=2000 .........................\n",
      "[CV] .......... min_samples_split=15, n_estimators=2000, total=   7.1s\n",
      "[CV] min_samples_split=15, n_estimators=2000 .........................\n",
      "[CV] .......... min_samples_split=15, n_estimators=2000, total=   6.9s\n",
      "[CV] min_samples_split=15, n_estimators=2000 .........................\n",
      "[CV] .......... min_samples_split=15, n_estimators=2000, total=   7.7s\n",
      "[CV] min_samples_split=15, n_estimators=2000 .........................\n",
      "[CV] .......... min_samples_split=15, n_estimators=2000, total=   8.6s\n",
      "[CV] min_samples_split=15, n_estimators=2000 .........................\n",
      "[CV] .......... min_samples_split=15, n_estimators=2000, total=  12.2s\n",
      "[CV] min_samples_split=15, n_estimators=4000 .........................\n",
      "[CV] .......... min_samples_split=15, n_estimators=2000, total=  10.1s\n",
      "[CV] min_samples_split=15, n_estimators=4000 .........................\n",
      "[CV] .......... min_samples_split=15, n_estimators=4000, total=  12.3s\n",
      "[CV] min_samples_split=15, n_estimators=4000 .........................\n",
      "[CV] .......... min_samples_split=15, n_estimators=4000, total=  12.7s\n",
      "[CV] min_samples_split=15, n_estimators=4000 .........................\n",
      "[CV] .......... min_samples_split=15, n_estimators=4000, total=  12.6s\n",
      "[CV] min_samples_split=15, n_estimators=4000 .........................\n",
      "[CV] .......... min_samples_split=15, n_estimators=4000, total=  13.3s\n",
      "[CV] min_samples_split=15, n_estimators=4000 .........................\n",
      "[CV] .......... min_samples_split=15, n_estimators=4000, total=  12.1s\n",
      "[CV] min_samples_split=15, n_estimators=4000 .........................\n",
      "[CV] .......... min_samples_split=15, n_estimators=4000, total=  12.5s\n",
      "[CV] min_samples_split=15, n_estimators=4000 .........................\n",
      "[CV] .......... min_samples_split=15, n_estimators=4000, total=  12.8s\n",
      "[CV] min_samples_split=15, n_estimators=4000 .........................\n",
      "[CV] .......... min_samples_split=15, n_estimators=4000, total=  12.0s\n",
      "[CV] min_samples_split=15, n_estimators=4000 .........................\n",
      "[CV] .......... min_samples_split=15, n_estimators=4000, total=  13.2s\n",
      "[CV] min_samples_split=15, n_estimators=6000 .........................\n",
      "[CV] .......... min_samples_split=15, n_estimators=4000, total=  12.3s\n",
      "[CV] min_samples_split=15, n_estimators=6000 .........................\n",
      "[CV] .......... min_samples_split=15, n_estimators=6000, total=  20.7s\n",
      "[CV] min_samples_split=15, n_estimators=6000 .........................\n",
      "[CV] .......... min_samples_split=15, n_estimators=6000, total=  22.0s\n",
      "[CV] min_samples_split=15, n_estimators=6000 .........................\n",
      "[CV] .......... min_samples_split=15, n_estimators=6000, total=  23.2s\n",
      "[CV] min_samples_split=15, n_estimators=6000 .........................\n",
      "[CV] .......... min_samples_split=15, n_estimators=6000, total=  22.9s\n",
      "[CV] min_samples_split=15, n_estimators=6000 .........................\n",
      "[CV] .......... min_samples_split=15, n_estimators=6000, total=  21.7s\n",
      "[CV] min_samples_split=15, n_estimators=6000 .........................\n",
      "[CV] .......... min_samples_split=15, n_estimators=6000, total=  22.4s\n",
      "[CV] min_samples_split=15, n_estimators=6000 .........................\n",
      "[CV] .......... min_samples_split=15, n_estimators=6000, total=  20.5s\n",
      "[CV] min_samples_split=15, n_estimators=6000 .........................\n",
      "[CV] .......... min_samples_split=15, n_estimators=6000, total=  20.3s\n",
      "[CV] min_samples_split=15, n_estimators=6000 .........................\n",
      "[CV] .......... min_samples_split=15, n_estimators=6000, total=  20.2s\n",
      "[CV] min_samples_split=15, n_estimators=8000 .........................\n",
      "[CV] .......... min_samples_split=15, n_estimators=6000, total=  20.0s\n",
      "[CV] min_samples_split=15, n_estimators=8000 .........................\n",
      "[CV] .......... min_samples_split=15, n_estimators=8000, total=  27.3s\n",
      "[CV] min_samples_split=15, n_estimators=8000 .........................\n",
      "[CV] .......... min_samples_split=15, n_estimators=8000, total=  26.6s\n",
      "[CV] min_samples_split=15, n_estimators=8000 .........................\n",
      "[CV] .......... min_samples_split=15, n_estimators=8000, total=  25.8s\n",
      "[CV] min_samples_split=15, n_estimators=8000 .........................\n",
      "[CV] .......... min_samples_split=15, n_estimators=8000, total=  26.2s\n",
      "[CV] min_samples_split=15, n_estimators=8000 .........................\n",
      "[CV] .......... min_samples_split=15, n_estimators=8000, total=  27.0s\n",
      "[CV] min_samples_split=15, n_estimators=8000 .........................\n",
      "[CV] .......... min_samples_split=15, n_estimators=8000, total=  27.1s\n",
      "[CV] min_samples_split=15, n_estimators=8000 .........................\n",
      "[CV] .......... min_samples_split=15, n_estimators=8000, total=  25.0s\n",
      "[CV] min_samples_split=15, n_estimators=8000 .........................\n",
      "[CV] .......... min_samples_split=15, n_estimators=8000, total=  25.6s\n",
      "[CV] min_samples_split=15, n_estimators=8000 .........................\n",
      "[CV] .......... min_samples_split=15, n_estimators=8000, total=  25.5s\n",
      "[CV] .......... min_samples_split=15, n_estimators=8000, total=  26.4s\n"
     ]
    },
    {
     "name": "stderr",
     "output_type": "stream",
     "text": [
      "[Parallel(n_jobs=2)]: Done 200 out of 200 | elapsed: 32.4min finished\n"
     ]
    },
    {
     "name": "stdout",
     "output_type": "stream",
     "text": [
      "{'min_samples_split': 6, 'n_estimators': 2000}\n",
      "0.828282828283\n"
     ]
    }
   ],
   "source": [
    "params = {'n_estimators':[2000, 4000, 6000, 8000],\n",
    "          'min_samples_split':range(3, 18, 3)}\n",
    "rf2 = RandomForestClassifier(oob_score=True, class_weight='balanced', max_features='sqrt', random_state=0)\n",
    "clf_rf2 = GridSearchCV(rf2, params,\n",
    "                      cv=StratifiedKFold(n_splits=10, shuffle=True, random_state=1), \n",
    "                      verbose=2, n_jobs=2)\n",
    "\n",
    "clf_rf2.fit(X_train, y_train)\n",
    "print(clf_rf2.best_params_)\n",
    "print(clf_rf2.best_score_)"
   ]
  },
  {
   "cell_type": "code",
   "execution_count": 280,
   "metadata": {},
   "outputs": [
    {
     "data": {
      "text/plain": [
       "(0.83164983164983164, 0.83277216610549942)"
      ]
     },
     "execution_count": 280,
     "metadata": {},
     "output_type": "execute_result"
    }
   ],
   "source": [
    "clf_rf1.best_estimator_.oob_score_, clf_rf2.best_estimator_.oob_score_"
   ]
  },
  {
   "cell_type": "code",
   "execution_count": 281,
   "metadata": {},
   "outputs": [],
   "source": [
    "from sklearn import svm"
   ]
  },
  {
   "cell_type": "code",
   "execution_count": 282,
   "metadata": {
    "scrolled": true
   },
   "outputs": [
    {
     "name": "stdout",
     "output_type": "stream",
     "text": [
      "Fitting 10 folds for each of 5 candidates, totalling 50 fits\n",
      "[CV] C=100, kernel=linear ............................................\n",
      "[CV] C=100, kernel=linear ............................................\n",
      "[CV] ............................. C=100, kernel=linear, total=   0.4s\n",
      "[CV] C=100, kernel=linear ............................................\n",
      "[CV] ............................. C=100, kernel=linear, total=   0.4s\n",
      "[CV] C=100, kernel=linear ............................................\n",
      "[CV] ............................. C=100, kernel=linear, total=   0.4s\n",
      "[CV] C=100, kernel=linear ............................................\n",
      "[CV] ............................. C=100, kernel=linear, total=   0.4s\n",
      "[CV] C=100, kernel=linear ............................................\n",
      "[CV] ............................. C=100, kernel=linear, total=   0.3s\n",
      "[CV] C=100, kernel=linear ............................................\n",
      "[CV] ............................. C=100, kernel=linear, total=   0.3s\n",
      "[CV] C=100, kernel=linear ............................................\n",
      "[CV] ............................. C=100, kernel=linear, total=   0.4s\n",
      "[CV] C=100, kernel=linear ............................................\n",
      "[CV] ............................. C=100, kernel=linear, total=   0.4s\n",
      "[CV] C=100, kernel=linear ............................................\n",
      "[CV] ............................. C=100, kernel=linear, total=   0.3s\n",
      "[CV] C=50, kernel=linear .............................................\n",
      "[CV] ............................. C=100, kernel=linear, total=   0.3s\n",
      "[CV] C=50, kernel=linear .............................................\n",
      "[CV] .............................. C=50, kernel=linear, total=   0.3s\n",
      "[CV] C=50, kernel=linear .............................................\n",
      "[CV] .............................. C=50, kernel=linear, total=   0.3s\n",
      "[CV] C=50, kernel=linear .............................................\n",
      "[CV] .............................. C=50, kernel=linear, total=   0.3s\n",
      "[CV] C=50, kernel=linear .............................................\n",
      "[CV] .............................. C=50, kernel=linear, total=   0.3s\n",
      "[CV] C=50, kernel=linear .............................................\n",
      "[CV] .............................. C=50, kernel=linear, total=   0.3s\n",
      "[CV] C=50, kernel=linear .............................................\n",
      "[CV] .............................. C=50, kernel=linear, total=   0.3s\n",
      "[CV] C=50, kernel=linear .............................................\n",
      "[CV] .............................. C=50, kernel=linear, total=   0.3s\n",
      "[CV] C=50, kernel=linear .............................................\n",
      "[CV] .............................. C=50, kernel=linear, total=   0.3s\n",
      "[CV] C=50, kernel=linear .............................................\n",
      "[CV] .............................. C=50, kernel=linear, total=   0.3s\n",
      "[CV] C=40, kernel=linear .............................................\n",
      "[CV] .............................. C=50, kernel=linear, total=   0.3s\n",
      "[CV] C=40, kernel=linear .............................................\n",
      "[CV] .............................. C=40, kernel=linear, total=   0.3s\n",
      "[CV] C=40, kernel=linear .............................................\n",
      "[CV] .............................. C=40, kernel=linear, total=   0.3s\n",
      "[CV] C=40, kernel=linear .............................................\n",
      "[CV] .............................. C=40, kernel=linear, total=   0.3s\n",
      "[CV] C=40, kernel=linear .............................................\n",
      "[CV] .............................. C=40, kernel=linear, total=   0.3s\n",
      "[CV] C=40, kernel=linear .............................................\n",
      "[CV] .............................. C=40, kernel=linear, total=   0.3s\n",
      "[CV] C=40, kernel=linear .............................................\n",
      "[CV] .............................. C=40, kernel=linear, total=   0.3s\n",
      "[CV] C=40, kernel=linear .............................................\n",
      "[CV] .............................. C=40, kernel=linear, total=   0.3s\n",
      "[CV] C=40, kernel=linear .............................................\n",
      "[CV] .............................. C=40, kernel=linear, total=   0.3s\n",
      "[CV] C=40, kernel=linear .............................................\n",
      "[CV] .............................. C=40, kernel=linear, total=   0.4s\n",
      "[CV] C=30, kernel=linear .............................................\n",
      "[CV] .............................. C=40, kernel=linear, total=   0.3s\n",
      "[CV] C=30, kernel=linear .............................................\n",
      "[CV] .............................. C=30, kernel=linear, total=   0.3s\n",
      "[CV] C=30, kernel=linear .............................................\n",
      "[CV] .............................. C=30, kernel=linear, total=   0.3s\n",
      "[CV] C=30, kernel=linear .............................................\n",
      "[CV] .............................. C=30, kernel=linear, total=   0.3s\n",
      "[CV] C=30, kernel=linear .............................................\n",
      "[CV] .............................. C=30, kernel=linear, total=   0.3s\n",
      "[CV] C=30, kernel=linear .............................................\n",
      "[CV] .............................. C=30, kernel=linear, total=   0.3s\n",
      "[CV] C=30, kernel=linear .............................................\n",
      "[CV] .............................. C=30, kernel=linear, total=   0.3s\n",
      "[CV] C=30, kernel=linear .............................................\n",
      "[CV] .............................. C=30, kernel=linear, total=   0.3s\n",
      "[CV] C=30, kernel=linear .............................................\n",
      "[CV] .............................. C=30, kernel=linear, total=   0.3s\n",
      "[CV] C=30, kernel=linear .............................................\n"
     ]
    },
    {
     "name": "stderr",
     "output_type": "stream",
     "text": [
      "[Parallel(n_jobs=2)]: Done  37 tasks      | elapsed:    7.2s\n"
     ]
    },
    {
     "name": "stdout",
     "output_type": "stream",
     "text": [
      "[CV] .............................. C=30, kernel=linear, total=   0.4s\n",
      "[CV] C=3, kernel=linear ..............................................\n",
      "[CV] .............................. C=30, kernel=linear, total=   0.4s\n",
      "[CV] C=3, kernel=linear ..............................................\n",
      "[CV] ............................... C=3, kernel=linear, total=   0.3s\n",
      "[CV] C=3, kernel=linear ..............................................\n",
      "[CV] ............................... C=3, kernel=linear, total=   0.3s\n",
      "[CV] C=3, kernel=linear ..............................................\n",
      "[CV] ............................... C=3, kernel=linear, total=   0.3s\n",
      "[CV] C=3, kernel=linear ..............................................\n",
      "[CV] ............................... C=3, kernel=linear, total=   0.4s\n",
      "[CV] C=3, kernel=linear ..............................................\n",
      "[CV] ............................... C=3, kernel=linear, total=   0.4s\n",
      "[CV] C=3, kernel=linear ..............................................\n",
      "[CV] ............................... C=3, kernel=linear, total=   0.3s\n",
      "[CV] C=3, kernel=linear ..............................................\n",
      "[CV] ............................... C=3, kernel=linear, total=   0.3s\n",
      "[CV] C=3, kernel=linear ..............................................\n",
      "[CV] ............................... C=3, kernel=linear, total=   0.3s\n",
      "[CV] C=3, kernel=linear ..............................................\n",
      "[CV] ............................... C=3, kernel=linear, total=   0.4s\n",
      "[CV] ............................... C=3, kernel=linear, total=   0.4s\n"
     ]
    },
    {
     "name": "stderr",
     "output_type": "stream",
     "text": [
      "[Parallel(n_jobs=2)]: Done  50 out of  50 | elapsed:    9.6s finished\n"
     ]
    },
    {
     "name": "stdout",
     "output_type": "stream",
     "text": [
      "{'C': 100, 'kernel': 'linear'}\n",
      "0.824915824916\n"
     ]
    }
   ],
   "source": [
    "params = {'C':[100, 50, 40, 30, 3], 'kernel':['linear']}\n",
    "svc = svm.SVC(probability=True, class_weight='balanced', random_state=0)\n",
    "clf_svc = GridSearchCV(svc, params,\n",
    "                       cv=StratifiedKFold(n_splits=10, shuffle=True, random_state=10), \n",
    "                       verbose=2, n_jobs=2)\n",
    "\n",
    "clf_svc.fit(X_train_normalized, y_train)\n",
    "print(clf_svc.best_params_)\n",
    "print(clf_svc.best_score_)"
   ]
  },
  {
   "cell_type": "code",
   "execution_count": 283,
   "metadata": {},
   "outputs": [],
   "source": [
    "from sklearn.linear_model import LogisticRegression"
   ]
  },
  {
   "cell_type": "code",
   "execution_count": 284,
   "metadata": {},
   "outputs": [
    {
     "name": "stdout",
     "output_type": "stream",
     "text": [
      "Fitting 10 folds for each of 15 candidates, totalling 150 fits\n",
      "[CV] C=4000, max_iter=100 ............................................\n",
      "[CV] ............................. C=4000, max_iter=100, total=   0.0s\n",
      "[CV] C=4000, max_iter=100 ............................................\n",
      "[CV] ............................. C=4000, max_iter=100, total=   0.0s\n",
      "[CV] C=4000, max_iter=100 ............................................\n",
      "[CV] ............................. C=4000, max_iter=100, total=   0.0s\n",
      "[CV] C=4000, max_iter=100 ............................................\n",
      "[CV] ............................. C=4000, max_iter=100, total=   0.0s\n",
      "[CV] C=4000, max_iter=100 ............................................\n",
      "[CV] ............................. C=4000, max_iter=100, total=   0.0s\n",
      "[CV] C=4000, max_iter=100 ............................................\n",
      "[CV] ............................. C=4000, max_iter=100, total=   0.0s\n",
      "[CV] C=4000, max_iter=100 ............................................\n",
      "[CV] ............................. C=4000, max_iter=100, total=   0.0s\n",
      "[CV] C=4000, max_iter=100 ............................................\n",
      "[CV] ............................. C=4000, max_iter=100, total=   0.0s"
     ]
    },
    {
     "name": "stderr",
     "output_type": "stream",
     "text": [
      "[Parallel(n_jobs=1)]: Done   1 out of   1 | elapsed:    0.1s remaining:    0.0s\n"
     ]
    },
    {
     "name": "stdout",
     "output_type": "stream",
     "text": [
      "\n",
      "[CV] C=4000, max_iter=100 ............................................\n",
      "[CV] ............................. C=4000, max_iter=100, total=   0.0s\n",
      "[CV] C=4000, max_iter=100 ............................................\n",
      "[CV] ............................. C=4000, max_iter=100, total=   0.0s\n",
      "[CV] C=4000, max_iter=1000 ...........................................\n",
      "[CV] ............................ C=4000, max_iter=1000, total=   0.0s\n",
      "[CV] C=4000, max_iter=1000 ...........................................\n",
      "[CV] ............................ C=4000, max_iter=1000, total=   0.0s\n",
      "[CV] C=4000, max_iter=1000 ...........................................\n",
      "[CV] ............................ C=4000, max_iter=1000, total=   0.0s\n",
      "[CV] C=4000, max_iter=1000 ...........................................\n",
      "[CV] ............................ C=4000, max_iter=1000, total=   0.0s\n",
      "[CV] C=4000, max_iter=1000 ...........................................\n",
      "[CV] ............................ C=4000, max_iter=1000, total=   0.0s\n",
      "[CV] C=4000, max_iter=1000 ...........................................\n",
      "[CV] ............................ C=4000, max_iter=1000, total=   0.0s\n",
      "[CV] C=4000, max_iter=1000 ...........................................\n",
      "[CV] ............................ C=4000, max_iter=1000, total=   0.0s\n",
      "[CV] C=4000, max_iter=1000 ...........................................\n",
      "[CV] ............................ C=4000, max_iter=1000, total=   0.0s\n",
      "[CV] C=4000, max_iter=1000 ...........................................\n",
      "[CV] ............................ C=4000, max_iter=1000, total=   0.0s\n",
      "[CV] C=4000, max_iter=1000 ...........................................\n",
      "[CV] ............................ C=4000, max_iter=1000, total=   0.0s\n",
      "[CV] C=4000, max_iter=2000 ...........................................\n",
      "[CV] ............................ C=4000, max_iter=2000, total=   0.0s\n",
      "[CV] C=4000, max_iter=2000 ...........................................\n",
      "[CV] ............................ C=4000, max_iter=2000, total=   0.0s\n",
      "[CV] C=4000, max_iter=2000 ...........................................\n",
      "[CV] ............................ C=4000, max_iter=2000, total=   0.0s\n",
      "[CV] C=4000, max_iter=2000 ...........................................\n",
      "[CV] ............................ C=4000, max_iter=2000, total=   0.0s\n",
      "[CV] C=4000, max_iter=2000 ...........................................\n",
      "[CV] ............................ C=4000, max_iter=2000, total=   0.0s\n",
      "[CV] C=4000, max_iter=2000 ...........................................\n",
      "[CV] ............................ C=4000, max_iter=2000, total=   0.0s\n",
      "[CV] C=4000, max_iter=2000 ...........................................\n",
      "[CV] ............................ C=4000, max_iter=2000, total=   0.0s\n",
      "[CV] C=4000, max_iter=2000 ...........................................\n",
      "[CV] ............................ C=4000, max_iter=2000, total=   0.0s\n",
      "[CV] C=4000, max_iter=2000 ...........................................\n",
      "[CV] ............................ C=4000, max_iter=2000, total=   0.0s\n",
      "[CV] C=4000, max_iter=2000 ...........................................\n",
      "[CV] ............................ C=4000, max_iter=2000, total=   0.0s\n",
      "[CV] C=850, max_iter=100 .............................................\n",
      "[CV] .............................. C=850, max_iter=100, total=   0.0s\n",
      "[CV] C=850, max_iter=100 .............................................\n",
      "[CV] .............................. C=850, max_iter=100, total=   0.0s\n",
      "[CV] C=850, max_iter=100 .............................................\n",
      "[CV] .............................. C=850, max_iter=100, total=   0.0s\n",
      "[CV] C=850, max_iter=100 .............................................\n",
      "[CV] .............................. C=850, max_iter=100, total=   0.0s\n",
      "[CV] C=850, max_iter=100 .............................................\n",
      "[CV] .............................. C=850, max_iter=100, total=   0.0s\n",
      "[CV] C=850, max_iter=100 .............................................\n",
      "[CV] .............................. C=850, max_iter=100, total=   0.0s\n",
      "[CV] C=850, max_iter=100 .............................................\n",
      "[CV] .............................. C=850, max_iter=100, total=   0.0s\n",
      "[CV] C=850, max_iter=100 .............................................\n",
      "[CV] .............................. C=850, max_iter=100, total=   0.0s\n",
      "[CV] C=850, max_iter=100 .............................................\n",
      "[CV] .............................. C=850, max_iter=100, total=   0.0s\n",
      "[CV] C=850, max_iter=100 .............................................\n",
      "[CV] .............................. C=850, max_iter=100, total=   0.0s\n",
      "[CV] C=850, max_iter=1000 ............................................\n",
      "[CV] ............................. C=850, max_iter=1000, total=   0.0s\n",
      "[CV] C=850, max_iter=1000 ............................................\n",
      "[CV] ............................. C=850, max_iter=1000, total=   0.0s\n",
      "[CV] C=850, max_iter=1000 ............................................\n",
      "[CV] ............................. C=850, max_iter=1000, total=   0.0s\n",
      "[CV] C=850, max_iter=1000 ............................................\n",
      "[CV] ............................. C=850, max_iter=1000, total=   0.0s\n",
      "[CV] C=850, max_iter=1000 ............................................\n",
      "[CV] ............................. C=850, max_iter=1000, total=   0.0s\n",
      "[CV] C=850, max_iter=1000 ............................................\n",
      "[CV] ............................. C=850, max_iter=1000, total=   0.0s\n",
      "[CV] C=850, max_iter=1000 ............................................\n",
      "[CV] ............................. C=850, max_iter=1000, total=   0.0s\n",
      "[CV] C=850, max_iter=1000 ............................................\n",
      "[CV] ............................. C=850, max_iter=1000, total=   0.0s\n",
      "[CV] C=850, max_iter=1000 ............................................\n",
      "[CV] ............................. C=850, max_iter=1000, total=   0.0s\n",
      "[CV] C=850, max_iter=1000 ............................................\n",
      "[CV] ............................. C=850, max_iter=1000, total=   0.0s\n",
      "[CV] C=850, max_iter=2000 ............................................\n",
      "[CV] ............................. C=850, max_iter=2000, total=   0.0s\n",
      "[CV] C=850, max_iter=2000 ............................................\n",
      "[CV] ............................. C=850, max_iter=2000, total=   0.0s\n",
      "[CV] C=850, max_iter=2000 ............................................\n",
      "[CV] ............................. C=850, max_iter=2000, total=   0.0s\n",
      "[CV] C=850, max_iter=2000 ............................................\n",
      "[CV] ............................. C=850, max_iter=2000, total=   0.0s\n",
      "[CV] C=850, max_iter=2000 ............................................\n",
      "[CV] ............................. C=850, max_iter=2000, total=   0.0s\n",
      "[CV] C=850, max_iter=2000 ............................................\n",
      "[CV] ............................. C=850, max_iter=2000, total=   0.0s\n",
      "[CV] C=850, max_iter=2000 ............................................\n",
      "[CV] ............................. C=850, max_iter=2000, total=   0.0s\n",
      "[CV] C=850, max_iter=2000 ............................................\n",
      "[CV] ............................. C=850, max_iter=2000, total=   0.0s\n",
      "[CV] C=850, max_iter=2000 ............................................\n",
      "[CV] ............................. C=850, max_iter=2000, total=   0.0s\n",
      "[CV] C=850, max_iter=2000 ............................................\n",
      "[CV] ............................. C=850, max_iter=2000, total=   0.0s\n",
      "[CV] C=600, max_iter=100 .............................................\n",
      "[CV] .............................. C=600, max_iter=100, total=   0.0s\n",
      "[CV] C=600, max_iter=100 .............................................\n",
      "[CV] .............................. C=600, max_iter=100, total=   0.0s\n",
      "[CV] C=600, max_iter=100 .............................................\n",
      "[CV] .............................. C=600, max_iter=100, total=   0.0s\n",
      "[CV] C=600, max_iter=100 .............................................\n",
      "[CV] .............................. C=600, max_iter=100, total=   0.0s\n",
      "[CV] C=600, max_iter=100 .............................................\n",
      "[CV] .............................. C=600, max_iter=100, total=   0.0s\n",
      "[CV] C=600, max_iter=100 .............................................\n",
      "[CV] .............................. C=600, max_iter=100, total=   0.0s\n",
      "[CV] C=600, max_iter=100 .............................................\n",
      "[CV] .............................. C=600, max_iter=100, total=   0.0s\n",
      "[CV] C=600, max_iter=100 .............................................\n",
      "[CV] .............................. C=600, max_iter=100, total=   0.0s\n",
      "[CV] C=600, max_iter=100 .............................................\n",
      "[CV] .............................. C=600, max_iter=100, total=   0.0s\n",
      "[CV] C=600, max_iter=100 .............................................\n"
     ]
    },
    {
     "name": "stdout",
     "output_type": "stream",
     "text": [
      "[CV] .............................. C=600, max_iter=100, total=   0.0s\n",
      "[CV] C=600, max_iter=1000 ............................................\n",
      "[CV] ............................. C=600, max_iter=1000, total=   0.0s\n",
      "[CV] C=600, max_iter=1000 ............................................\n",
      "[CV] ............................. C=600, max_iter=1000, total=   0.0s\n",
      "[CV] C=600, max_iter=1000 ............................................\n",
      "[CV] ............................. C=600, max_iter=1000, total=   0.0s\n",
      "[CV] C=600, max_iter=1000 ............................................\n",
      "[CV] ............................. C=600, max_iter=1000, total=   0.0s\n",
      "[CV] C=600, max_iter=1000 ............................................\n",
      "[CV] ............................. C=600, max_iter=1000, total=   0.0s\n",
      "[CV] C=600, max_iter=1000 ............................................\n",
      "[CV] ............................. C=600, max_iter=1000, total=   0.0s\n",
      "[CV] C=600, max_iter=1000 ............................................\n",
      "[CV] ............................. C=600, max_iter=1000, total=   0.0s\n",
      "[CV] C=600, max_iter=1000 ............................................\n",
      "[CV] ............................. C=600, max_iter=1000, total=   0.0s\n",
      "[CV] C=600, max_iter=1000 ............................................\n",
      "[CV] ............................. C=600, max_iter=1000, total=   0.0s\n",
      "[CV] C=600, max_iter=1000 ............................................\n",
      "[CV] ............................. C=600, max_iter=1000, total=   0.0s\n",
      "[CV] C=600, max_iter=2000 ............................................\n",
      "[CV] ............................. C=600, max_iter=2000, total=   0.0s\n",
      "[CV] C=600, max_iter=2000 ............................................\n",
      "[CV] ............................. C=600, max_iter=2000, total=   0.0s\n",
      "[CV] C=600, max_iter=2000 ............................................\n",
      "[CV] ............................. C=600, max_iter=2000, total=   0.0s\n",
      "[CV] C=600, max_iter=2000 ............................................\n",
      "[CV] ............................. C=600, max_iter=2000, total=   0.0s\n",
      "[CV] C=600, max_iter=2000 ............................................\n",
      "[CV] ............................. C=600, max_iter=2000, total=   0.0s\n",
      "[CV] C=600, max_iter=2000 ............................................\n",
      "[CV] ............................. C=600, max_iter=2000, total=   0.0s\n",
      "[CV] C=600, max_iter=2000 ............................................\n",
      "[CV] ............................. C=600, max_iter=2000, total=   0.0s\n",
      "[CV] C=600, max_iter=2000 ............................................\n",
      "[CV] ............................. C=600, max_iter=2000, total=   0.0s\n",
      "[CV] C=600, max_iter=2000 ............................................\n",
      "[CV] ............................. C=600, max_iter=2000, total=   0.0s\n",
      "[CV] C=600, max_iter=2000 ............................................\n",
      "[CV] ............................. C=600, max_iter=2000, total=   0.0s\n",
      "[CV] C=450, max_iter=100 .............................................\n",
      "[CV] .............................. C=450, max_iter=100, total=   0.0s\n",
      "[CV] C=450, max_iter=100 .............................................\n",
      "[CV] .............................. C=450, max_iter=100, total=   0.0s\n",
      "[CV] C=450, max_iter=100 .............................................\n",
      "[CV] .............................. C=450, max_iter=100, total=   0.0s\n",
      "[CV] C=450, max_iter=100 .............................................\n",
      "[CV] .............................. C=450, max_iter=100, total=   0.0s\n",
      "[CV] C=450, max_iter=100 .............................................\n",
      "[CV] .............................. C=450, max_iter=100, total=   0.0s\n",
      "[CV] C=450, max_iter=100 .............................................\n",
      "[CV] .............................. C=450, max_iter=100, total=   0.0s\n",
      "[CV] C=450, max_iter=100 .............................................\n",
      "[CV] .............................. C=450, max_iter=100, total=   0.0s\n",
      "[CV] C=450, max_iter=100 .............................................\n",
      "[CV] .............................. C=450, max_iter=100, total=   0.0s\n",
      "[CV] C=450, max_iter=100 .............................................\n",
      "[CV] .............................. C=450, max_iter=100, total=   0.0s\n",
      "[CV] C=450, max_iter=100 .............................................\n",
      "[CV] .............................. C=450, max_iter=100, total=   0.0s\n",
      "[CV] C=450, max_iter=1000 ............................................\n",
      "[CV] ............................. C=450, max_iter=1000, total=   0.0s\n",
      "[CV] C=450, max_iter=1000 ............................................\n",
      "[CV] ............................. C=450, max_iter=1000, total=   0.0s\n",
      "[CV] C=450, max_iter=1000 ............................................\n",
      "[CV] ............................. C=450, max_iter=1000, total=   0.0s\n",
      "[CV] C=450, max_iter=1000 ............................................\n",
      "[CV] ............................. C=450, max_iter=1000, total=   0.0s\n",
      "[CV] C=450, max_iter=1000 ............................................\n",
      "[CV] ............................. C=450, max_iter=1000, total=   0.0s\n",
      "[CV] C=450, max_iter=1000 ............................................\n",
      "[CV] ............................. C=450, max_iter=1000, total=   0.0s\n",
      "[CV] C=450, max_iter=1000 ............................................\n",
      "[CV] ............................. C=450, max_iter=1000, total=   0.0s\n",
      "[CV] C=450, max_iter=1000 ............................................\n",
      "[CV] ............................. C=450, max_iter=1000, total=   0.0s\n",
      "[CV] C=450, max_iter=1000 ............................................\n",
      "[CV] ............................. C=450, max_iter=1000, total=   0.0s\n",
      "[CV] C=450, max_iter=1000 ............................................\n",
      "[CV] ............................. C=450, max_iter=1000, total=   0.0s\n",
      "[CV] C=450, max_iter=2000 ............................................\n",
      "[CV] ............................. C=450, max_iter=2000, total=   0.0s\n",
      "[CV] C=450, max_iter=2000 ............................................\n",
      "[CV] ............................. C=450, max_iter=2000, total=   0.0s\n",
      "[CV] C=450, max_iter=2000 ............................................\n",
      "[CV] ............................. C=450, max_iter=2000, total=   0.0s\n",
      "[CV] C=450, max_iter=2000 ............................................\n",
      "[CV] ............................. C=450, max_iter=2000, total=   0.0s\n",
      "[CV] C=450, max_iter=2000 ............................................\n",
      "[CV] ............................. C=450, max_iter=2000, total=   0.0s\n",
      "[CV] C=450, max_iter=2000 ............................................\n",
      "[CV] ............................. C=450, max_iter=2000, total=   0.0s\n",
      "[CV] C=450, max_iter=2000 ............................................\n",
      "[CV] ............................. C=450, max_iter=2000, total=   0.0s\n",
      "[CV] C=450, max_iter=2000 ............................................\n",
      "[CV] ............................. C=450, max_iter=2000, total=   0.0s\n",
      "[CV] C=450, max_iter=2000 ............................................\n",
      "[CV] ............................. C=450, max_iter=2000, total=   0.0s\n",
      "[CV] C=450, max_iter=2000 ............................................\n",
      "[CV] ............................. C=450, max_iter=2000, total=   0.0s\n",
      "[CV] C=10, max_iter=100 ..............................................\n",
      "[CV] ............................... C=10, max_iter=100, total=   0.0s\n",
      "[CV] C=10, max_iter=100 ..............................................\n",
      "[CV] ............................... C=10, max_iter=100, total=   0.0s\n",
      "[CV] C=10, max_iter=100 ..............................................\n",
      "[CV] ............................... C=10, max_iter=100, total=   0.0s\n",
      "[CV] C=10, max_iter=100 ..............................................\n",
      "[CV] ............................... C=10, max_iter=100, total=   0.0s\n",
      "[CV] C=10, max_iter=100 ..............................................\n",
      "[CV] ............................... C=10, max_iter=100, total=   0.0s\n",
      "[CV] C=10, max_iter=100 ..............................................\n",
      "[CV] ............................... C=10, max_iter=100, total=   0.0s\n",
      "[CV] C=10, max_iter=100 ..............................................\n",
      "[CV] ............................... C=10, max_iter=100, total=   0.0s\n",
      "[CV] C=10, max_iter=100 ..............................................\n",
      "[CV] ............................... C=10, max_iter=100, total=   0.0s\n",
      "[CV] C=10, max_iter=100 ..............................................\n",
      "[CV] ............................... C=10, max_iter=100, total=   0.0s\n",
      "[CV] C=10, max_iter=100 ..............................................\n",
      "[CV] ............................... C=10, max_iter=100, total=   0.0s\n",
      "[CV] C=10, max_iter=1000 .............................................\n"
     ]
    },
    {
     "name": "stdout",
     "output_type": "stream",
     "text": [
      "[CV] .............................. C=10, max_iter=1000, total=   0.0s\n",
      "[CV] C=10, max_iter=1000 .............................................\n",
      "[CV] .............................. C=10, max_iter=1000, total=   0.0s\n",
      "[CV] C=10, max_iter=1000 .............................................\n",
      "[CV] .............................. C=10, max_iter=1000, total=   0.0s\n",
      "[CV] C=10, max_iter=1000 .............................................\n",
      "[CV] .............................. C=10, max_iter=1000, total=   0.0s\n",
      "[CV] C=10, max_iter=1000 .............................................\n",
      "[CV] .............................. C=10, max_iter=1000, total=   0.0s\n",
      "[CV] C=10, max_iter=1000 .............................................\n",
      "[CV] .............................. C=10, max_iter=1000, total=   0.0s\n",
      "[CV] C=10, max_iter=1000 .............................................\n",
      "[CV] .............................. C=10, max_iter=1000, total=   0.0s\n",
      "[CV] C=10, max_iter=1000 .............................................\n",
      "[CV] .............................. C=10, max_iter=1000, total=   0.0s\n",
      "[CV] C=10, max_iter=1000 .............................................\n",
      "[CV] .............................. C=10, max_iter=1000, total=   0.0s\n",
      "[CV] C=10, max_iter=1000 .............................................\n",
      "[CV] .............................. C=10, max_iter=1000, total=   0.0s\n",
      "[CV] C=10, max_iter=2000 .............................................\n",
      "[CV] .............................. C=10, max_iter=2000, total=   0.0s\n",
      "[CV] C=10, max_iter=2000 .............................................\n",
      "[CV] .............................. C=10, max_iter=2000, total=   0.0s\n",
      "[CV] C=10, max_iter=2000 .............................................\n",
      "[CV] .............................. C=10, max_iter=2000, total=   0.0s\n",
      "[CV] C=10, max_iter=2000 .............................................\n",
      "[CV] .............................. C=10, max_iter=2000, total=   0.0s\n",
      "[CV] C=10, max_iter=2000 .............................................\n",
      "[CV] .............................. C=10, max_iter=2000, total=   0.0s\n",
      "[CV] C=10, max_iter=2000 .............................................\n",
      "[CV] .............................. C=10, max_iter=2000, total=   0.0s\n",
      "[CV] C=10, max_iter=2000 .............................................\n",
      "[CV] .............................. C=10, max_iter=2000, total=   0.0s\n",
      "[CV] C=10, max_iter=2000 .............................................\n",
      "[CV] .............................. C=10, max_iter=2000, total=   0.0s\n",
      "[CV] C=10, max_iter=2000 .............................................\n",
      "[CV] .............................. C=10, max_iter=2000, total=   0.0s\n",
      "[CV] C=10, max_iter=2000 .............................................\n",
      "[CV] .............................. C=10, max_iter=2000, total=   0.0s\n",
      "{'C': 850, 'max_iter': 100}\n",
      "0.822671156004\n"
     ]
    },
    {
     "name": "stderr",
     "output_type": "stream",
     "text": [
      "[Parallel(n_jobs=1)]: Done 150 out of 150 | elapsed:    2.3s finished\n"
     ]
    }
   ],
   "source": [
    "params = {'C':[4000, 850, 600, 450, 10], 'max_iter':[100, 1000, 2000]}\n",
    "lr = LogisticRegression(random_state=0, class_weight='balanced')\n",
    "clf_lr = GridSearchCV(lr, params, cv=StratifiedKFold(n_splits=10, shuffle=True, random_state=100), verbose=2)\n",
    "\n",
    "clf_lr.fit(X_train_normalized, y_train)\n",
    "print(clf_lr.best_params_)\n",
    "print(clf_lr.best_score_)"
   ]
  },
  {
   "cell_type": "code",
   "execution_count": 285,
   "metadata": {},
   "outputs": [],
   "source": [
    "from sklearn.ensemble import AdaBoostClassifier"
   ]
  },
  {
   "cell_type": "code",
   "execution_count": 286,
   "metadata": {},
   "outputs": [
    {
     "name": "stdout",
     "output_type": "stream",
     "text": [
      "Fitting 10 folds for each of 16 candidates, totalling 160 fits\n",
      "[CV] learning_rate=0.001, n_estimators=10000 .........................\n",
      "[CV] learning_rate=0.001, n_estimators=10000 .........................\n",
      "[CV] .......... learning_rate=0.001, n_estimators=10000, total=  38.0s\n",
      "[CV] learning_rate=0.001, n_estimators=10000 .........................\n",
      "[CV] .......... learning_rate=0.001, n_estimators=10000, total=  38.7s\n",
      "[CV] learning_rate=0.001, n_estimators=10000 .........................\n",
      "[CV] .......... learning_rate=0.001, n_estimators=10000, total=  40.1s\n",
      "[CV] learning_rate=0.001, n_estimators=10000 .........................\n",
      "[CV] .......... learning_rate=0.001, n_estimators=10000, total=  39.6s\n",
      "[CV] learning_rate=0.001, n_estimators=10000 .........................\n",
      "[CV] .......... learning_rate=0.001, n_estimators=10000, total=  40.2s\n",
      "[CV] learning_rate=0.001, n_estimators=10000 .........................\n",
      "[CV] .......... learning_rate=0.001, n_estimators=10000, total=  40.7s\n",
      "[CV] learning_rate=0.001, n_estimators=10000 .........................\n",
      "[CV] .......... learning_rate=0.001, n_estimators=10000, total=  39.8s\n",
      "[CV] learning_rate=0.001, n_estimators=10000 .........................\n",
      "[CV] .......... learning_rate=0.001, n_estimators=10000, total=  40.5s\n",
      "[CV] learning_rate=0.001, n_estimators=10000 .........................\n",
      "[CV] .......... learning_rate=0.001, n_estimators=10000, total=  46.1s\n",
      "[CV] learning_rate=0.001, n_estimators=8000 ..........................\n",
      "[CV] .......... learning_rate=0.001, n_estimators=10000, total=  45.1s\n",
      "[CV] learning_rate=0.001, n_estimators=8000 ..........................\n",
      "[CV] ........... learning_rate=0.001, n_estimators=8000, total=  32.8s\n",
      "[CV] learning_rate=0.001, n_estimators=8000 ..........................\n",
      "[CV] ........... learning_rate=0.001, n_estimators=8000, total=  33.0s\n",
      "[CV] learning_rate=0.001, n_estimators=8000 ..........................\n",
      "[CV] ........... learning_rate=0.001, n_estimators=8000, total=  32.1s\n",
      "[CV] learning_rate=0.001, n_estimators=8000 ..........................\n",
      "[CV] ........... learning_rate=0.001, n_estimators=8000, total=  32.5s\n",
      "[CV] learning_rate=0.001, n_estimators=8000 ..........................\n",
      "[CV] ........... learning_rate=0.001, n_estimators=8000, total=  32.1s\n",
      "[CV] learning_rate=0.001, n_estimators=8000 ..........................\n",
      "[CV] ........... learning_rate=0.001, n_estimators=8000, total=  32.5s\n",
      "[CV] learning_rate=0.001, n_estimators=8000 ..........................\n",
      "[CV] ........... learning_rate=0.001, n_estimators=8000, total=  33.4s\n",
      "[CV] learning_rate=0.001, n_estimators=8000 ..........................\n",
      "[CV] ........... learning_rate=0.001, n_estimators=8000, total=  33.3s\n",
      "[CV] learning_rate=0.001, n_estimators=8000 ..........................\n",
      "[CV] ........... learning_rate=0.001, n_estimators=8000, total=  29.8s\n",
      "[CV] learning_rate=0.001, n_estimators=5000 ..........................\n",
      "[CV] ........... learning_rate=0.001, n_estimators=8000, total=  30.2s\n",
      "[CV] learning_rate=0.001, n_estimators=5000 ..........................\n",
      "[CV] ........... learning_rate=0.001, n_estimators=5000, total=  19.7s\n",
      "[CV] learning_rate=0.001, n_estimators=5000 ..........................\n",
      "[CV] ........... learning_rate=0.001, n_estimators=5000, total=  19.4s\n",
      "[CV] learning_rate=0.001, n_estimators=5000 ..........................\n",
      "[CV] ........... learning_rate=0.001, n_estimators=5000, total=  20.3s\n",
      "[CV] learning_rate=0.001, n_estimators=5000 ..........................\n",
      "[CV] ........... learning_rate=0.001, n_estimators=5000, total=  19.6s\n",
      "[CV] learning_rate=0.001, n_estimators=5000 ..........................\n",
      "[CV] ........... learning_rate=0.001, n_estimators=5000, total=  20.1s\n",
      "[CV] learning_rate=0.001, n_estimators=5000 ..........................\n",
      "[CV] ........... learning_rate=0.001, n_estimators=5000, total=  19.5s\n",
      "[CV] learning_rate=0.001, n_estimators=5000 ..........................\n",
      "[CV] ........... learning_rate=0.001, n_estimators=5000, total=  20.7s\n",
      "[CV] learning_rate=0.001, n_estimators=5000 ..........................\n",
      "[CV] ........... learning_rate=0.001, n_estimators=5000, total=  20.5s\n",
      "[CV] learning_rate=0.001, n_estimators=5000 ..........................\n",
      "[CV] ........... learning_rate=0.001, n_estimators=5000, total=  19.1s\n",
      "[CV] learning_rate=0.001, n_estimators=1000 ..........................\n",
      "[CV] ........... learning_rate=0.001, n_estimators=5000, total=  19.2s\n",
      "[CV] learning_rate=0.001, n_estimators=1000 ..........................\n",
      "[CV] ........... learning_rate=0.001, n_estimators=1000, total=   3.9s\n",
      "[CV] learning_rate=0.001, n_estimators=1000 ..........................\n",
      "[CV] ........... learning_rate=0.001, n_estimators=1000, total=   4.1s\n",
      "[CV] learning_rate=0.001, n_estimators=1000 ..........................\n",
      "[CV] ........... learning_rate=0.001, n_estimators=1000, total=   4.0s\n",
      "[CV] learning_rate=0.001, n_estimators=1000 ..........................\n",
      "[CV] ........... learning_rate=0.001, n_estimators=1000, total=   4.1s\n",
      "[CV] learning_rate=0.001, n_estimators=1000 ..........................\n",
      "[CV] ........... learning_rate=0.001, n_estimators=1000, total=   4.4s\n",
      "[CV] learning_rate=0.001, n_estimators=1000 ..........................\n",
      "[CV] ........... learning_rate=0.001, n_estimators=1000, total=   4.1s\n",
      "[CV] learning_rate=0.001, n_estimators=1000 ..........................\n",
      "[CV] ........... learning_rate=0.001, n_estimators=1000, total=   4.0s\n",
      "[CV] learning_rate=0.001, n_estimators=1000 ..........................\n"
     ]
    },
    {
     "name": "stderr",
     "output_type": "stream",
     "text": [
      "[Parallel(n_jobs=2)]: Done  37 tasks      | elapsed:  8.9min\n"
     ]
    },
    {
     "name": "stdout",
     "output_type": "stream",
     "text": [
      "[CV] ........... learning_rate=0.001, n_estimators=1000, total=   4.1s\n",
      "[CV] learning_rate=0.001, n_estimators=1000 ..........................\n",
      "[CV] ........... learning_rate=0.001, n_estimators=1000, total=   3.9s\n",
      "[CV] learning_rate=0.01, n_estimators=10000 ..........................\n",
      "[CV] ........... learning_rate=0.001, n_estimators=1000, total=   3.8s\n",
      "[CV] learning_rate=0.01, n_estimators=10000 ..........................\n",
      "[CV] ........... learning_rate=0.01, n_estimators=10000, total=  40.0s\n",
      "[CV] learning_rate=0.01, n_estimators=10000 ..........................\n",
      "[CV] ........... learning_rate=0.01, n_estimators=10000, total=  41.0s\n",
      "[CV] learning_rate=0.01, n_estimators=10000 ..........................\n",
      "[CV] ........... learning_rate=0.01, n_estimators=10000, total=  40.9s\n",
      "[CV] learning_rate=0.01, n_estimators=10000 ..........................\n",
      "[CV] ........... learning_rate=0.01, n_estimators=10000, total=  39.6s\n",
      "[CV] learning_rate=0.01, n_estimators=10000 ..........................\n",
      "[CV] ........... learning_rate=0.01, n_estimators=10000, total=  41.1s\n",
      "[CV] learning_rate=0.01, n_estimators=10000 ..........................\n",
      "[CV] ........... learning_rate=0.01, n_estimators=10000, total=  39.3s\n",
      "[CV] learning_rate=0.01, n_estimators=10000 ..........................\n",
      "[CV] ........... learning_rate=0.01, n_estimators=10000, total=  39.3s\n",
      "[CV] learning_rate=0.01, n_estimators=10000 ..........................\n",
      "[CV] ........... learning_rate=0.01, n_estimators=10000, total=  40.6s\n",
      "[CV] learning_rate=0.01, n_estimators=10000 ..........................\n",
      "[CV] ........... learning_rate=0.01, n_estimators=10000, total=  41.4s\n",
      "[CV] learning_rate=0.01, n_estimators=8000 ...........................\n",
      "[CV] ........... learning_rate=0.01, n_estimators=10000, total=  41.1s\n",
      "[CV] learning_rate=0.01, n_estimators=8000 ...........................\n",
      "[CV] ............ learning_rate=0.01, n_estimators=8000, total=  33.0s\n",
      "[CV] learning_rate=0.01, n_estimators=8000 ...........................\n",
      "[CV] ............ learning_rate=0.01, n_estimators=8000, total=  33.1s\n",
      "[CV] learning_rate=0.01, n_estimators=8000 ...........................\n",
      "[CV] ............ learning_rate=0.01, n_estimators=8000, total=  30.4s\n",
      "[CV] learning_rate=0.01, n_estimators=8000 ...........................\n",
      "[CV] ............ learning_rate=0.01, n_estimators=8000, total=  31.0s\n",
      "[CV] learning_rate=0.01, n_estimators=8000 ...........................\n",
      "[CV] ............ learning_rate=0.01, n_estimators=8000, total=  33.0s\n",
      "[CV] learning_rate=0.01, n_estimators=8000 ...........................\n",
      "[CV] ............ learning_rate=0.01, n_estimators=8000, total=  32.8s\n",
      "[CV] learning_rate=0.01, n_estimators=8000 ...........................\n",
      "[CV] ............ learning_rate=0.01, n_estimators=8000, total=  32.5s\n",
      "[CV] learning_rate=0.01, n_estimators=8000 ...........................\n",
      "[CV] ............ learning_rate=0.01, n_estimators=8000, total=  32.4s\n",
      "[CV] learning_rate=0.01, n_estimators=8000 ...........................\n",
      "[CV] ............ learning_rate=0.01, n_estimators=8000, total=  32.5s\n",
      "[CV] learning_rate=0.01, n_estimators=5000 ...........................\n",
      "[CV] ............ learning_rate=0.01, n_estimators=8000, total=  32.0s\n",
      "[CV] learning_rate=0.01, n_estimators=5000 ...........................\n",
      "[CV] ............ learning_rate=0.01, n_estimators=5000, total=  19.9s\n",
      "[CV] learning_rate=0.01, n_estimators=5000 ...........................\n",
      "[CV] ............ learning_rate=0.01, n_estimators=5000, total=  19.1s\n",
      "[CV] learning_rate=0.01, n_estimators=5000 ...........................\n",
      "[CV] ............ learning_rate=0.01, n_estimators=5000, total=  19.6s\n",
      "[CV] learning_rate=0.01, n_estimators=5000 ...........................\n",
      "[CV] ............ learning_rate=0.01, n_estimators=5000, total=  20.2s\n",
      "[CV] learning_rate=0.01, n_estimators=5000 ...........................\n",
      "[CV] ............ learning_rate=0.01, n_estimators=5000, total=  19.8s\n",
      "[CV] learning_rate=0.01, n_estimators=5000 ...........................\n",
      "[CV] ............ learning_rate=0.01, n_estimators=5000, total=  19.8s\n",
      "[CV] learning_rate=0.01, n_estimators=5000 ...........................\n",
      "[CV] ............ learning_rate=0.01, n_estimators=5000, total=  19.7s\n",
      "[CV] learning_rate=0.01, n_estimators=5000 ...........................\n",
      "[CV] ............ learning_rate=0.01, n_estimators=5000, total=  20.0s\n",
      "[CV] learning_rate=0.01, n_estimators=5000 ...........................\n",
      "[CV] ............ learning_rate=0.01, n_estimators=5000, total=  18.9s\n",
      "[CV] learning_rate=0.01, n_estimators=1000 ...........................\n",
      "[CV] ............ learning_rate=0.01, n_estimators=5000, total=  19.2s\n",
      "[CV] learning_rate=0.01, n_estimators=1000 ...........................\n",
      "[CV] ............ learning_rate=0.01, n_estimators=1000, total=   4.8s\n",
      "[CV] learning_rate=0.01, n_estimators=1000 ...........................\n",
      "[CV] ............ learning_rate=0.01, n_estimators=1000, total=   4.7s\n",
      "[CV] learning_rate=0.01, n_estimators=1000 ...........................\n",
      "[CV] ............ learning_rate=0.01, n_estimators=1000, total=   4.1s\n",
      "[CV] learning_rate=0.01, n_estimators=1000 ...........................\n",
      "[CV] ............ learning_rate=0.01, n_estimators=1000, total=   4.0s\n",
      "[CV] learning_rate=0.01, n_estimators=1000 ...........................\n",
      "[CV] ............ learning_rate=0.01, n_estimators=1000, total=   4.1s\n",
      "[CV] learning_rate=0.01, n_estimators=1000 ...........................\n",
      "[CV] ............ learning_rate=0.01, n_estimators=1000, total=   4.2s\n",
      "[CV] learning_rate=0.01, n_estimators=1000 ...........................\n",
      "[CV] ............ learning_rate=0.01, n_estimators=1000, total=   4.0s\n",
      "[CV] learning_rate=0.01, n_estimators=1000 ...........................\n",
      "[CV] ............ learning_rate=0.01, n_estimators=1000, total=   4.0s\n",
      "[CV] learning_rate=0.01, n_estimators=1000 ...........................\n",
      "[CV] ............ learning_rate=0.01, n_estimators=1000, total=   3.9s\n",
      "[CV] learning_rate=0.1, n_estimators=10000 ...........................\n",
      "[CV] ............ learning_rate=0.01, n_estimators=1000, total=   3.7s\n",
      "[CV] learning_rate=0.1, n_estimators=10000 ...........................\n",
      "[CV] ............ learning_rate=0.1, n_estimators=10000, total=  39.6s\n",
      "[CV] learning_rate=0.1, n_estimators=10000 ...........................\n",
      "[CV] ............ learning_rate=0.1, n_estimators=10000, total=  39.0s\n",
      "[CV] learning_rate=0.1, n_estimators=10000 ...........................\n",
      "[CV] ............ learning_rate=0.1, n_estimators=10000, total=  39.7s\n",
      "[CV] learning_rate=0.1, n_estimators=10000 ...........................\n",
      "[CV] ............ learning_rate=0.1, n_estimators=10000, total=  41.2s\n",
      "[CV] learning_rate=0.1, n_estimators=10000 ...........................\n",
      "[CV] ............ learning_rate=0.1, n_estimators=10000, total=  38.7s\n",
      "[CV] learning_rate=0.1, n_estimators=10000 ...........................\n",
      "[CV] ............ learning_rate=0.1, n_estimators=10000, total=  40.9s\n",
      "[CV] learning_rate=0.1, n_estimators=10000 ...........................\n",
      "[CV] ............ learning_rate=0.1, n_estimators=10000, total=  40.4s\n",
      "[CV] learning_rate=0.1, n_estimators=10000 ...........................\n",
      "[CV] ............ learning_rate=0.1, n_estimators=10000, total=  39.2s\n",
      "[CV] learning_rate=0.1, n_estimators=10000 ...........................\n",
      "[CV] ............ learning_rate=0.1, n_estimators=10000, total=  41.5s\n",
      "[CV] learning_rate=0.1, n_estimators=8000 ............................\n",
      "[CV] ............ learning_rate=0.1, n_estimators=10000, total=  40.7s\n",
      "[CV] learning_rate=0.1, n_estimators=8000 ............................\n",
      "[CV] ............. learning_rate=0.1, n_estimators=8000, total=  32.1s\n",
      "[CV] learning_rate=0.1, n_estimators=8000 ............................\n",
      "[CV] ............. learning_rate=0.1, n_estimators=8000, total=  31.2s\n",
      "[CV] learning_rate=0.1, n_estimators=8000 ............................\n",
      "[CV] ............. learning_rate=0.1, n_estimators=8000, total=  31.9s\n",
      "[CV] learning_rate=0.1, n_estimators=8000 ............................\n",
      "[CV] ............. learning_rate=0.1, n_estimators=8000, total=  32.4s\n",
      "[CV] learning_rate=0.1, n_estimators=8000 ............................\n",
      "[CV] ............. learning_rate=0.1, n_estimators=8000, total= 1.3min\n",
      "[CV] learning_rate=0.1, n_estimators=8000 ............................\n"
     ]
    },
    {
     "name": "stdout",
     "output_type": "stream",
     "text": [
      "[CV] ............. learning_rate=0.1, n_estimators=8000, total= 1.3min\n",
      "[CV] learning_rate=0.1, n_estimators=8000 ............................\n",
      "[CV] ............. learning_rate=0.1, n_estimators=8000, total=  34.5s\n",
      "[CV] learning_rate=0.1, n_estimators=8000 ............................\n",
      "[CV] ............. learning_rate=0.1, n_estimators=8000, total=  34.4s\n",
      "[CV] learning_rate=0.1, n_estimators=8000 ............................\n",
      "[CV] ............. learning_rate=0.1, n_estimators=8000, total=  29.4s\n",
      "[CV] learning_rate=0.1, n_estimators=5000 ............................\n",
      "[CV] ............. learning_rate=0.1, n_estimators=8000, total=  30.0s\n",
      "[CV] learning_rate=0.1, n_estimators=5000 ............................\n",
      "[CV] ............. learning_rate=0.1, n_estimators=5000, total=  19.4s\n",
      "[CV] learning_rate=0.1, n_estimators=5000 ............................\n",
      "[CV] ............. learning_rate=0.1, n_estimators=5000, total=  19.9s\n",
      "[CV] learning_rate=0.1, n_estimators=5000 ............................\n",
      "[CV] ............. learning_rate=0.1, n_estimators=5000, total=  20.3s\n",
      "[CV] learning_rate=0.1, n_estimators=5000 ............................\n",
      "[CV] ............. learning_rate=0.1, n_estimators=5000, total=  20.3s\n",
      "[CV] learning_rate=0.1, n_estimators=5000 ............................\n",
      "[CV] ............. learning_rate=0.1, n_estimators=5000, total=  20.0s\n",
      "[CV] learning_rate=0.1, n_estimators=5000 ............................\n",
      "[CV] ............. learning_rate=0.1, n_estimators=5000, total=  19.7s\n",
      "[CV] learning_rate=0.1, n_estimators=5000 ............................\n",
      "[CV] ............. learning_rate=0.1, n_estimators=5000, total=  20.2s\n",
      "[CV] learning_rate=0.1, n_estimators=5000 ............................\n",
      "[CV] ............. learning_rate=0.1, n_estimators=5000, total=  20.0s\n",
      "[CV] learning_rate=0.1, n_estimators=5000 ............................\n",
      "[CV] ............. learning_rate=0.1, n_estimators=5000, total=  18.5s\n",
      "[CV] learning_rate=0.1, n_estimators=1000 ............................\n",
      "[CV] ............. learning_rate=0.1, n_estimators=5000, total=  18.2s\n",
      "[CV] learning_rate=0.1, n_estimators=1000 ............................\n",
      "[CV] ............. learning_rate=0.1, n_estimators=1000, total=   3.8s\n",
      "[CV] learning_rate=0.1, n_estimators=1000 ............................\n",
      "[CV] ............. learning_rate=0.1, n_estimators=1000, total=   4.1s\n",
      "[CV] learning_rate=0.1, n_estimators=1000 ............................\n",
      "[CV] ............. learning_rate=0.1, n_estimators=1000, total=   4.3s\n",
      "[CV] learning_rate=0.1, n_estimators=1000 ............................\n",
      "[CV] ............. learning_rate=0.1, n_estimators=1000, total=   4.1s\n",
      "[CV] learning_rate=0.1, n_estimators=1000 ............................\n",
      "[CV] ............. learning_rate=0.1, n_estimators=1000, total=   4.1s\n",
      "[CV] learning_rate=0.1, n_estimators=1000 ............................\n",
      "[CV] ............. learning_rate=0.1, n_estimators=1000, total=   4.1s\n",
      "[CV] learning_rate=0.1, n_estimators=1000 ............................\n",
      "[CV] ............. learning_rate=0.1, n_estimators=1000, total=   4.0s\n",
      "[CV] learning_rate=0.1, n_estimators=1000 ............................\n",
      "[CV] ............. learning_rate=0.1, n_estimators=1000, total=   4.0s\n",
      "[CV] learning_rate=0.1, n_estimators=1000 ............................\n",
      "[CV] ............. learning_rate=0.1, n_estimators=1000, total=   3.9s\n",
      "[CV] learning_rate=0.5, n_estimators=10000 ...........................\n",
      "[CV] ............. learning_rate=0.1, n_estimators=1000, total=   3.6s\n",
      "[CV] learning_rate=0.5, n_estimators=10000 ...........................\n",
      "[CV] ............ learning_rate=0.5, n_estimators=10000, total=  39.7s\n",
      "[CV] learning_rate=0.5, n_estimators=10000 ...........................\n",
      "[CV] ............ learning_rate=0.5, n_estimators=10000, total=  39.5s\n",
      "[CV] learning_rate=0.5, n_estimators=10000 ...........................\n",
      "[CV] ............ learning_rate=0.5, n_estimators=10000, total=  40.8s\n",
      "[CV] learning_rate=0.5, n_estimators=10000 ...........................\n",
      "[CV] ............ learning_rate=0.5, n_estimators=10000, total=  40.9s\n",
      "[CV] learning_rate=0.5, n_estimators=10000 ...........................\n",
      "[CV] ............ learning_rate=0.5, n_estimators=10000, total=  41.0s\n",
      "[CV] learning_rate=0.5, n_estimators=10000 ...........................\n",
      "[CV] ............ learning_rate=0.5, n_estimators=10000, total=  41.9s\n",
      "[CV] learning_rate=0.5, n_estimators=10000 ...........................\n",
      "[CV] ............ learning_rate=0.5, n_estimators=10000, total=  41.1s\n",
      "[CV] learning_rate=0.5, n_estimators=10000 ...........................\n",
      "[CV] ............ learning_rate=0.5, n_estimators=10000, total=  41.8s\n",
      "[CV] learning_rate=0.5, n_estimators=10000 ...........................\n",
      "[CV] ............ learning_rate=0.5, n_estimators=10000, total=  39.6s\n",
      "[CV] learning_rate=0.5, n_estimators=8000 ............................\n",
      "[CV] ............ learning_rate=0.5, n_estimators=10000, total=  39.9s\n",
      "[CV] learning_rate=0.5, n_estimators=8000 ............................\n",
      "[CV] ............. learning_rate=0.5, n_estimators=8000, total=  31.3s\n",
      "[CV] learning_rate=0.5, n_estimators=8000 ............................\n",
      "[CV] ............. learning_rate=0.5, n_estimators=8000, total=  30.8s\n",
      "[CV] learning_rate=0.5, n_estimators=8000 ............................\n",
      "[CV] ............. learning_rate=0.5, n_estimators=8000, total=  39.1s\n",
      "[CV] learning_rate=0.5, n_estimators=8000 ............................\n",
      "[CV] ............. learning_rate=0.5, n_estimators=8000, total=  39.6s\n",
      "[CV] learning_rate=0.5, n_estimators=8000 ............................\n",
      "[CV] ............. learning_rate=0.5, n_estimators=8000, total=  38.9s\n",
      "[CV] learning_rate=0.5, n_estimators=8000 ............................\n",
      "[CV] ............. learning_rate=0.5, n_estimators=8000, total=  37.8s\n",
      "[CV] learning_rate=0.5, n_estimators=8000 ............................\n",
      "[CV] ............. learning_rate=0.5, n_estimators=8000, total=  34.2s\n",
      "[CV] learning_rate=0.5, n_estimators=8000 ............................\n",
      "[CV] ............. learning_rate=0.5, n_estimators=8000, total=  33.1s\n",
      "[CV] learning_rate=0.5, n_estimators=8000 ............................\n",
      "[CV] ............. learning_rate=0.5, n_estimators=8000, total=  30.5s\n",
      "[CV] learning_rate=0.5, n_estimators=5000 ............................\n",
      "[CV] ............. learning_rate=0.5, n_estimators=8000, total=  30.5s\n",
      "[CV] learning_rate=0.5, n_estimators=5000 ............................\n",
      "[CV] ............. learning_rate=0.5, n_estimators=5000, total=  19.3s\n",
      "[CV] learning_rate=0.5, n_estimators=5000 ............................\n",
      "[CV] ............. learning_rate=0.5, n_estimators=5000, total=  18.8s\n",
      "[CV] learning_rate=0.5, n_estimators=5000 ............................\n",
      "[CV] ............. learning_rate=0.5, n_estimators=5000, total=  23.7s\n",
      "[CV] learning_rate=0.5, n_estimators=5000 ............................\n",
      "[CV] ............. learning_rate=0.5, n_estimators=5000, total=  24.1s\n",
      "[CV] learning_rate=0.5, n_estimators=5000 ............................\n",
      "[CV] ............. learning_rate=0.5, n_estimators=5000, total=  21.5s\n",
      "[CV] learning_rate=0.5, n_estimators=5000 ............................\n",
      "[CV] ............. learning_rate=0.5, n_estimators=5000, total=  20.8s\n",
      "[CV] learning_rate=0.5, n_estimators=5000 ............................\n",
      "[CV] ............. learning_rate=0.5, n_estimators=5000, total=  27.5s\n",
      "[CV] learning_rate=0.5, n_estimators=5000 ............................\n",
      "[CV] ............. learning_rate=0.5, n_estimators=5000, total=  29.8s\n",
      "[CV] learning_rate=0.5, n_estimators=5000 ............................\n",
      "[CV] ............. learning_rate=0.5, n_estimators=5000, total=  22.5s\n",
      "[CV] learning_rate=0.5, n_estimators=1000 ............................\n",
      "[CV] ............. learning_rate=0.5, n_estimators=5000, total=  26.0s\n",
      "[CV] learning_rate=0.5, n_estimators=1000 ............................\n",
      "[CV] ............. learning_rate=0.5, n_estimators=1000, total=  10.6s\n",
      "[CV] learning_rate=0.5, n_estimators=1000 ............................\n",
      "[CV] ............. learning_rate=0.5, n_estimators=1000, total=  11.0s\n",
      "[CV] learning_rate=0.5, n_estimators=1000 ............................\n",
      "[CV] ............. learning_rate=0.5, n_estimators=1000, total=  11.0s\n",
      "[CV] learning_rate=0.5, n_estimators=1000 ............................\n"
     ]
    },
    {
     "name": "stdout",
     "output_type": "stream",
     "text": [
      "[CV] ............. learning_rate=0.5, n_estimators=1000, total=  10.8s\n",
      "[CV] learning_rate=0.5, n_estimators=1000 ............................\n",
      "[CV] ............. learning_rate=0.5, n_estimators=1000, total=  11.4s\n",
      "[CV] learning_rate=0.5, n_estimators=1000 ............................\n",
      "[CV] ............. learning_rate=0.5, n_estimators=1000, total=   9.8s\n",
      "[CV] learning_rate=0.5, n_estimators=1000 ............................\n",
      "[CV] ............. learning_rate=0.5, n_estimators=1000, total=  10.8s\n",
      "[CV] learning_rate=0.5, n_estimators=1000 ............................\n",
      "[CV] ............. learning_rate=0.5, n_estimators=1000, total=   9.7s\n",
      "[CV] learning_rate=0.5, n_estimators=1000 ............................\n",
      "[CV] ............. learning_rate=0.5, n_estimators=1000, total=   8.6s\n",
      "[CV] ............. learning_rate=0.5, n_estimators=1000, total=   7.4s\n"
     ]
    },
    {
     "name": "stderr",
     "output_type": "stream",
     "text": [
      "[Parallel(n_jobs=2)]: Done 160 out of 160 | elapsed: 37.8min finished\n"
     ]
    },
    {
     "name": "stdout",
     "output_type": "stream",
     "text": [
      "{'learning_rate': 0.001, 'n_estimators': 10000}\n",
      "0.83164983165\n"
     ]
    }
   ],
   "source": [
    "params = {'n_estimators':[10000, 8000, 5000, 1000], 'learning_rate':[0.001, 0.01, 0.1, 0.5]}\n",
    "ada = AdaBoostClassifier(random_state=0)\n",
    "clf_ada = GridSearchCV(ada, params,\n",
    "                       cv=StratifiedKFold(n_splits=10, shuffle=True, random_state=1000),\n",
    "                       scoring='accuracy', n_jobs=2, verbose=2)\n",
    "\n",
    "clf_ada.fit(X_train, y_train)\n",
    "print(clf_ada.best_params_)\n",
    "print(clf_ada.best_score_)"
   ]
  },
  {
   "cell_type": "code",
   "execution_count": 287,
   "metadata": {
    "scrolled": true
   },
   "outputs": [
    {
     "data": {
      "text/plain": [
       "ada    0.041200\n",
       "rf1    0.067642\n",
       "rf2    0.068529\n",
       "Name: AgeGroup, dtype: float64"
      ]
     },
     "execution_count": 287,
     "metadata": {},
     "output_type": "execute_result"
    }
   ],
   "source": [
    "feature_df = pd.DataFrame(index=cols)\n",
    "feature_df['ada'] = clf_ada.best_estimator_.feature_importances_\n",
    "feature_df['rf1'] = clf_rf1.best_estimator_.feature_importances_\n",
    "feature_df['rf2'] = clf_rf2.best_estimator_.feature_importances_\n",
    "feature_df.loc['AgeGroup']"
   ]
  },
  {
   "cell_type": "code",
   "execution_count": 288,
   "metadata": {},
   "outputs": [],
   "source": [
    "skf = StratifiedKFold(n_splits=10, shuffle=True, random_state=0)\n",
    "#clfs = [clf_rf.best_estimator_, clf_svc.best_estimator_, clf_lr.best_estimator_, clf_ada.best_estimator_]\n",
    "y_predict = []\n",
    "for train_index, test_index in skf.split(X_train, y_train):\n",
    "    clf_rf1.best_estimator_.fit(X_train[train_index], y_train[train_index])\n",
    "    clf_rf2.best_estimator_.fit(X_train[train_index], y_train[train_index])\n",
    "    clf_svc.best_estimator_.fit(X_train_normalized[train_index], y_train[train_index])\n",
    "    clf_lr.best_estimator_.fit(X_train_normalized[train_index], y_train[train_index])\n",
    "    clf_ada.best_estimator_.fit(X_train[train_index], y_train[train_index])\n",
    "    y_predict.append([clf_rf1.best_estimator_.predict_proba(X_train[test_index]),\n",
    "                      clf_rf2.best_estimator_.predict_proba(X_train[test_index]),\n",
    "                      clf_svc.best_estimator_.predict_proba(normalizer.transform(X_train[test_index])),\n",
    "                      clf_lr.best_estimator_.predict_proba(normalizer.transform(X_train[test_index])),\n",
    "                      clf_ada.best_estimator_.predict_proba(X_train[test_index]),\n",
    "                      y_train[test_index]])"
   ]
  },
  {
   "cell_type": "code",
   "execution_count": 289,
   "metadata": {},
   "outputs": [],
   "source": [
    "X2_train = np.vstack([np.vstack([y[:, 1] for y in yy if y.ndim==2]).T for yy in y_predict])\n",
    "#X2_train = np.hstack([X_train, X2_train])\n",
    "y2_train = np.hstack([y[5] for y in y_predict])"
   ]
  },
  {
   "cell_type": "code",
   "execution_count": 290,
   "metadata": {},
   "outputs": [],
   "source": [
    "from sklearn.ensemble import GradientBoostingClassifier"
   ]
  },
  {
   "cell_type": "code",
   "execution_count": 291,
   "metadata": {},
   "outputs": [
    {
     "name": "stdout",
     "output_type": "stream",
     "text": [
      "Fitting 10 folds for each of 12 candidates, totalling 120 fits\n",
      "[CV] learning_rate=0.001, max_features=log2, n_estimators=2000 .......\n",
      "[CV] learning_rate=0.001, max_features=log2, n_estimators=2000 .......\n",
      "[CV]  learning_rate=0.001, max_features=log2, n_estimators=2000, total=   3.2s\n",
      "[CV]  learning_rate=0.001, max_features=log2, n_estimators=2000, total=   3.2s\n",
      "[CV] learning_rate=0.001, max_features=log2, n_estimators=2000 .......\n",
      "[CV] learning_rate=0.001, max_features=log2, n_estimators=2000 .......\n",
      "[CV]  learning_rate=0.001, max_features=log2, n_estimators=2000, total=   2.8s\n",
      "[CV]  learning_rate=0.001, max_features=log2, n_estimators=2000, total=   2.9s\n",
      "[CV] learning_rate=0.001, max_features=log2, n_estimators=2000 .......\n",
      "[CV] learning_rate=0.001, max_features=log2, n_estimators=2000 .......\n",
      "[CV]  learning_rate=0.001, max_features=log2, n_estimators=2000, total=   3.0s\n",
      "[CV] learning_rate=0.001, max_features=log2, n_estimators=2000 .......\n",
      "[CV]  learning_rate=0.001, max_features=log2, n_estimators=2000, total=   3.0s\n",
      "[CV] learning_rate=0.001, max_features=log2, n_estimators=2000 .......\n",
      "[CV]  learning_rate=0.001, max_features=log2, n_estimators=2000, total=   2.8s\n",
      "[CV] learning_rate=0.001, max_features=log2, n_estimators=2000 .......\n",
      "[CV]  learning_rate=0.001, max_features=log2, n_estimators=2000, total=   2.8s\n",
      "[CV] learning_rate=0.001, max_features=log2, n_estimators=2000 .......\n",
      "[CV]  learning_rate=0.001, max_features=log2, n_estimators=2000, total=   2.7s\n",
      "[CV] learning_rate=0.001, max_features=log2, n_estimators=700 ........\n",
      "[CV]  learning_rate=0.001, max_features=log2, n_estimators=2000, total=   2.8s\n",
      "[CV] learning_rate=0.001, max_features=log2, n_estimators=700 ........\n",
      "[CV]  learning_rate=0.001, max_features=log2, n_estimators=700, total=   1.1s\n",
      "[CV] learning_rate=0.001, max_features=log2, n_estimators=700 ........\n",
      "[CV]  learning_rate=0.001, max_features=log2, n_estimators=700, total=   1.1s\n",
      "[CV] learning_rate=0.001, max_features=log2, n_estimators=700 ........\n",
      "[CV]  learning_rate=0.001, max_features=log2, n_estimators=700, total=   1.1s\n",
      "[CV] learning_rate=0.001, max_features=log2, n_estimators=700 ........\n",
      "[CV]  learning_rate=0.001, max_features=log2, n_estimators=700, total=   1.1s\n",
      "[CV] learning_rate=0.001, max_features=log2, n_estimators=700 ........\n",
      "[CV]  learning_rate=0.001, max_features=log2, n_estimators=700, total=   1.1s\n",
      "[CV] learning_rate=0.001, max_features=log2, n_estimators=700 ........\n",
      "[CV]  learning_rate=0.001, max_features=log2, n_estimators=700, total=   1.1s\n",
      "[CV] learning_rate=0.001, max_features=log2, n_estimators=700 ........\n",
      "[CV]  learning_rate=0.001, max_features=log2, n_estimators=700, total=   1.1s\n",
      "[CV] learning_rate=0.001, max_features=log2, n_estimators=700 ........\n",
      "[CV]  learning_rate=0.001, max_features=log2, n_estimators=700, total=   1.1s\n",
      "[CV] learning_rate=0.001, max_features=log2, n_estimators=700 ........\n",
      "[CV]  learning_rate=0.001, max_features=log2, n_estimators=700, total=   1.3s\n",
      "[CV] learning_rate=0.001, max_features=log2, n_estimators=600 ........\n",
      "[CV]  learning_rate=0.001, max_features=log2, n_estimators=700, total=   1.3s\n",
      "[CV] learning_rate=0.001, max_features=log2, n_estimators=600 ........\n",
      "[CV]  learning_rate=0.001, max_features=log2, n_estimators=600, total=   0.9s\n",
      "[CV] learning_rate=0.001, max_features=log2, n_estimators=600 ........\n",
      "[CV]  learning_rate=0.001, max_features=log2, n_estimators=600, total=   1.0s\n",
      "[CV] learning_rate=0.001, max_features=log2, n_estimators=600 ........\n",
      "[CV]  learning_rate=0.001, max_features=log2, n_estimators=600, total=   1.1s\n",
      "[CV] learning_rate=0.001, max_features=log2, n_estimators=600 ........\n",
      "[CV]  learning_rate=0.001, max_features=log2, n_estimators=600, total=   1.0s\n",
      "[CV] learning_rate=0.001, max_features=log2, n_estimators=600 ........\n",
      "[CV]  learning_rate=0.001, max_features=log2, n_estimators=600, total=   0.9s\n",
      "[CV] learning_rate=0.001, max_features=log2, n_estimators=600 ........\n",
      "[CV]  learning_rate=0.001, max_features=log2, n_estimators=600, total=   0.9s\n",
      "[CV] learning_rate=0.001, max_features=log2, n_estimators=600 ........\n",
      "[CV]  learning_rate=0.001, max_features=log2, n_estimators=600, total=   1.0s\n",
      "[CV] learning_rate=0.001, max_features=log2, n_estimators=600 ........\n",
      "[CV]  learning_rate=0.001, max_features=log2, n_estimators=600, total=   1.0s\n",
      "[CV] learning_rate=0.001, max_features=log2, n_estimators=600 ........\n",
      "[CV]  learning_rate=0.001, max_features=log2, n_estimators=600, total=   1.1s\n",
      "[CV] learning_rate=0.001, max_features=log2, n_estimators=400 ........\n",
      "[CV]  learning_rate=0.001, max_features=log2, n_estimators=600, total=   1.1s\n",
      "[CV] learning_rate=0.001, max_features=log2, n_estimators=400 ........\n",
      "[CV]  learning_rate=0.001, max_features=log2, n_estimators=400, total=   0.7s\n",
      "[CV] learning_rate=0.001, max_features=log2, n_estimators=400 ........\n",
      "[CV]  learning_rate=0.001, max_features=log2, n_estimators=400, total=   0.8s\n",
      "[CV] learning_rate=0.001, max_features=log2, n_estimators=400 ........\n",
      "[CV]  learning_rate=0.001, max_features=log2, n_estimators=400, total=   0.6s\n",
      "[CV] learning_rate=0.001, max_features=log2, n_estimators=400 ........\n",
      "[CV]  learning_rate=0.001, max_features=log2, n_estimators=400, total=   0.8s\n",
      "[CV] learning_rate=0.001, max_features=log2, n_estimators=400 ........\n",
      "[CV]  learning_rate=0.001, max_features=log2, n_estimators=400, total=   0.7s\n",
      "[CV] learning_rate=0.001, max_features=log2, n_estimators=400 ........\n",
      "[CV]  learning_rate=0.001, max_features=log2, n_estimators=400, total=   0.7s\n",
      "[CV] learning_rate=0.001, max_features=log2, n_estimators=400 ........\n",
      "[CV]  learning_rate=0.001, max_features=log2, n_estimators=400, total=   0.8s\n",
      "[CV] learning_rate=0.001, max_features=log2, n_estimators=400 ........\n",
      "[CV]  learning_rate=0.001, max_features=log2, n_estimators=400, total=   0.6s\n",
      "[CV] learning_rate=0.001, max_features=log2, n_estimators=400 ........\n"
     ]
    },
    {
     "name": "stderr",
     "output_type": "stream",
     "text": [
      "[Parallel(n_jobs=2)]: Done  37 tasks      | elapsed:   28.7s\n"
     ]
    },
    {
     "name": "stdout",
     "output_type": "stream",
     "text": [
      "[CV]  learning_rate=0.001, max_features=log2, n_estimators=400, total=   0.7s\n",
      "[CV] learning_rate=0.01, max_features=log2, n_estimators=2000 ........\n",
      "[CV]  learning_rate=0.001, max_features=log2, n_estimators=400, total=   0.8s\n",
      "[CV] learning_rate=0.01, max_features=log2, n_estimators=2000 ........\n",
      "[CV]  learning_rate=0.01, max_features=log2, n_estimators=2000, total=   2.8s\n",
      "[CV] learning_rate=0.01, max_features=log2, n_estimators=2000 ........\n",
      "[CV]  learning_rate=0.01, max_features=log2, n_estimators=2000, total=   2.8s\n",
      "[CV] learning_rate=0.01, max_features=log2, n_estimators=2000 ........\n",
      "[CV]  learning_rate=0.01, max_features=log2, n_estimators=2000, total=   2.7s\n",
      "[CV] learning_rate=0.01, max_features=log2, n_estimators=2000 ........\n",
      "[CV]  learning_rate=0.01, max_features=log2, n_estimators=2000, total=   2.8s\n",
      "[CV] learning_rate=0.01, max_features=log2, n_estimators=2000 ........\n",
      "[CV]  learning_rate=0.01, max_features=log2, n_estimators=2000, total=   2.7s\n",
      "[CV] learning_rate=0.01, max_features=log2, n_estimators=2000 ........\n",
      "[CV]  learning_rate=0.01, max_features=log2, n_estimators=2000, total=   2.8s\n",
      "[CV] learning_rate=0.01, max_features=log2, n_estimators=2000 ........\n",
      "[CV]  learning_rate=0.01, max_features=log2, n_estimators=2000, total=   2.8s\n",
      "[CV] learning_rate=0.01, max_features=log2, n_estimators=2000 ........\n",
      "[CV]  learning_rate=0.01, max_features=log2, n_estimators=2000, total=   2.8s\n",
      "[CV] learning_rate=0.01, max_features=log2, n_estimators=2000 ........\n",
      "[CV]  learning_rate=0.01, max_features=log2, n_estimators=2000, total=   2.8s\n",
      "[CV] learning_rate=0.01, max_features=log2, n_estimators=700 .........\n",
      "[CV]  learning_rate=0.01, max_features=log2, n_estimators=2000, total=   2.9s\n",
      "[CV] learning_rate=0.01, max_features=log2, n_estimators=700 .........\n",
      "[CV]  learning_rate=0.01, max_features=log2, n_estimators=700, total=   1.1s\n",
      "[CV] learning_rate=0.01, max_features=log2, n_estimators=700 .........\n",
      "[CV]  learning_rate=0.01, max_features=log2, n_estimators=700, total=   1.2s\n",
      "[CV] learning_rate=0.01, max_features=log2, n_estimators=700 .........\n",
      "[CV]  learning_rate=0.01, max_features=log2, n_estimators=700, total=   1.1s\n",
      "[CV] learning_rate=0.01, max_features=log2, n_estimators=700 .........\n",
      "[CV]  learning_rate=0.01, max_features=log2, n_estimators=700, total=   1.0s\n",
      "[CV] learning_rate=0.01, max_features=log2, n_estimators=700 .........\n",
      "[CV]  learning_rate=0.01, max_features=log2, n_estimators=700, total=   1.0s\n",
      "[CV] learning_rate=0.01, max_features=log2, n_estimators=700 .........\n",
      "[CV]  learning_rate=0.01, max_features=log2, n_estimators=700, total=   1.1s\n",
      "[CV] learning_rate=0.01, max_features=log2, n_estimators=700 .........\n",
      "[CV]  learning_rate=0.01, max_features=log2, n_estimators=700, total=   1.1s\n",
      "[CV] learning_rate=0.01, max_features=log2, n_estimators=700 .........\n",
      "[CV]  learning_rate=0.01, max_features=log2, n_estimators=700, total=   1.1s\n",
      "[CV] learning_rate=0.01, max_features=log2, n_estimators=700 .........\n",
      "[CV]  learning_rate=0.01, max_features=log2, n_estimators=700, total=   1.0s\n",
      "[CV] learning_rate=0.01, max_features=log2, n_estimators=600 .........\n",
      "[CV]  learning_rate=0.01, max_features=log2, n_estimators=700, total=   1.1s\n",
      "[CV] learning_rate=0.01, max_features=log2, n_estimators=600 .........\n",
      "[CV]  learning_rate=0.01, max_features=log2, n_estimators=600, total=   0.9s\n",
      "[CV] learning_rate=0.01, max_features=log2, n_estimators=600 .........\n",
      "[CV]  learning_rate=0.01, max_features=log2, n_estimators=600, total=   0.9s\n",
      "[CV] learning_rate=0.01, max_features=log2, n_estimators=600 .........\n",
      "[CV]  learning_rate=0.01, max_features=log2, n_estimators=600, total=   0.9s\n",
      "[CV] learning_rate=0.01, max_features=log2, n_estimators=600 .........\n",
      "[CV]  learning_rate=0.01, max_features=log2, n_estimators=600, total=   1.0s\n",
      "[CV] learning_rate=0.01, max_features=log2, n_estimators=600 .........\n",
      "[CV]  learning_rate=0.01, max_features=log2, n_estimators=600, total=   0.9s\n",
      "[CV] learning_rate=0.01, max_features=log2, n_estimators=600 .........\n",
      "[CV]  learning_rate=0.01, max_features=log2, n_estimators=600, total=   0.9s\n",
      "[CV] learning_rate=0.01, max_features=log2, n_estimators=600 .........\n",
      "[CV]  learning_rate=0.01, max_features=log2, n_estimators=600, total=   1.0s\n",
      "[CV] learning_rate=0.01, max_features=log2, n_estimators=600 .........\n",
      "[CV]  learning_rate=0.01, max_features=log2, n_estimators=600, total=   1.0s\n",
      "[CV] learning_rate=0.01, max_features=log2, n_estimators=600 .........\n",
      "[CV]  learning_rate=0.01, max_features=log2, n_estimators=600, total=   1.0s\n",
      "[CV] learning_rate=0.01, max_features=log2, n_estimators=400 .........\n",
      "[CV]  learning_rate=0.01, max_features=log2, n_estimators=400, total=   0.6s\n",
      "[CV] learning_rate=0.01, max_features=log2, n_estimators=400 .........\n",
      "[CV]  learning_rate=0.01, max_features=log2, n_estimators=600, total=   1.0s\n",
      "[CV] learning_rate=0.01, max_features=log2, n_estimators=400 .........\n",
      "[CV]  learning_rate=0.01, max_features=log2, n_estimators=400, total=   0.7s\n",
      "[CV] learning_rate=0.01, max_features=log2, n_estimators=400 .........\n",
      "[CV]  learning_rate=0.01, max_features=log2, n_estimators=400, total=   0.6s\n",
      "[CV] learning_rate=0.01, max_features=log2, n_estimators=400 .........\n",
      "[CV]  learning_rate=0.01, max_features=log2, n_estimators=400, total=   0.6s\n",
      "[CV] learning_rate=0.01, max_features=log2, n_estimators=400 .........\n",
      "[CV]  learning_rate=0.01, max_features=log2, n_estimators=400, total=   0.6s\n",
      "[CV] learning_rate=0.01, max_features=log2, n_estimators=400 .........\n",
      "[CV]  learning_rate=0.01, max_features=log2, n_estimators=400, total=   0.6s\n",
      "[CV] learning_rate=0.01, max_features=log2, n_estimators=400 .........\n",
      "[CV]  learning_rate=0.01, max_features=log2, n_estimators=400, total=   0.6s\n",
      "[CV] learning_rate=0.01, max_features=log2, n_estimators=400 .........\n",
      "[CV]  learning_rate=0.01, max_features=log2, n_estimators=400, total=   0.6s\n",
      "[CV] learning_rate=0.01, max_features=log2, n_estimators=400 .........\n",
      "[CV]  learning_rate=0.01, max_features=log2, n_estimators=400, total=   0.7s\n",
      "[CV] learning_rate=0.1, max_features=log2, n_estimators=2000 .........\n",
      "[CV]  learning_rate=0.01, max_features=log2, n_estimators=400, total=   0.7s\n",
      "[CV] learning_rate=0.1, max_features=log2, n_estimators=2000 .........\n",
      "[CV]  learning_rate=0.1, max_features=log2, n_estimators=2000, total=   2.8s\n",
      "[CV] learning_rate=0.1, max_features=log2, n_estimators=2000 .........\n",
      "[CV]  learning_rate=0.1, max_features=log2, n_estimators=2000, total=   2.8s\n",
      "[CV] learning_rate=0.1, max_features=log2, n_estimators=2000 .........\n",
      "[CV]  learning_rate=0.1, max_features=log2, n_estimators=2000, total=   2.8s\n",
      "[CV] learning_rate=0.1, max_features=log2, n_estimators=2000 .........\n",
      "[CV]  learning_rate=0.1, max_features=log2, n_estimators=2000, total=   2.7s\n",
      "[CV] learning_rate=0.1, max_features=log2, n_estimators=2000 .........\n",
      "[CV]  learning_rate=0.1, max_features=log2, n_estimators=2000, total=   2.7s\n",
      "[CV] learning_rate=0.1, max_features=log2, n_estimators=2000 .........\n",
      "[CV]  learning_rate=0.1, max_features=log2, n_estimators=2000, total=   2.9s\n",
      "[CV] learning_rate=0.1, max_features=log2, n_estimators=2000 .........\n",
      "[CV]  learning_rate=0.1, max_features=log2, n_estimators=2000, total=   2.7s\n",
      "[CV] learning_rate=0.1, max_features=log2, n_estimators=2000 .........\n",
      "[CV]  learning_rate=0.1, max_features=log2, n_estimators=2000, total=   2.8s\n",
      "[CV] learning_rate=0.1, max_features=log2, n_estimators=2000 .........\n",
      "[CV]  learning_rate=0.1, max_features=log2, n_estimators=2000, total=   2.9s\n",
      "[CV] learning_rate=0.1, max_features=log2, n_estimators=700 ..........\n",
      "[CV]  learning_rate=0.1, max_features=log2, n_estimators=2000, total=   2.9s\n",
      "[CV] learning_rate=0.1, max_features=log2, n_estimators=700 ..........\n",
      "[CV]  learning_rate=0.1, max_features=log2, n_estimators=700, total=   1.1s\n",
      "[CV] learning_rate=0.1, max_features=log2, n_estimators=700 ..........\n",
      "[CV]  learning_rate=0.1, max_features=log2, n_estimators=700, total=   1.1s\n",
      "[CV] learning_rate=0.1, max_features=log2, n_estimators=700 ..........\n",
      "[CV]  learning_rate=0.1, max_features=log2, n_estimators=700, total=   1.1s\n",
      "[CV] learning_rate=0.1, max_features=log2, n_estimators=700 ..........\n",
      "[CV]  learning_rate=0.1, max_features=log2, n_estimators=700, total=   1.2s\n"
     ]
    },
    {
     "name": "stdout",
     "output_type": "stream",
     "text": [
      "[CV] learning_rate=0.1, max_features=log2, n_estimators=700 ..........\n",
      "[CV]  learning_rate=0.1, max_features=log2, n_estimators=700, total=   1.0s\n",
      "[CV] learning_rate=0.1, max_features=log2, n_estimators=700 ..........\n",
      "[CV]  learning_rate=0.1, max_features=log2, n_estimators=700, total=   1.1s\n",
      "[CV] learning_rate=0.1, max_features=log2, n_estimators=700 ..........\n",
      "[CV]  learning_rate=0.1, max_features=log2, n_estimators=700, total=   1.0s\n",
      "[CV] learning_rate=0.1, max_features=log2, n_estimators=700 ..........\n",
      "[CV]  learning_rate=0.1, max_features=log2, n_estimators=700, total=   1.3s\n",
      "[CV] learning_rate=0.1, max_features=log2, n_estimators=700 ..........\n",
      "[CV]  learning_rate=0.1, max_features=log2, n_estimators=700, total=   1.4s\n",
      "[CV] learning_rate=0.1, max_features=log2, n_estimators=600 ..........\n",
      "[CV]  learning_rate=0.1, max_features=log2, n_estimators=600, total=   0.9s\n",
      "[CV] learning_rate=0.1, max_features=log2, n_estimators=600 ..........\n",
      "[CV]  learning_rate=0.1, max_features=log2, n_estimators=700, total=   1.1s\n",
      "[CV] learning_rate=0.1, max_features=log2, n_estimators=600 ..........\n",
      "[CV]  learning_rate=0.1, max_features=log2, n_estimators=600, total=   1.0s\n",
      "[CV] learning_rate=0.1, max_features=log2, n_estimators=600 ..........\n",
      "[CV]  learning_rate=0.1, max_features=log2, n_estimators=600, total=   1.0s\n",
      "[CV] learning_rate=0.1, max_features=log2, n_estimators=600 ..........\n",
      "[CV]  learning_rate=0.1, max_features=log2, n_estimators=600, total=   1.0s\n",
      "[CV] learning_rate=0.1, max_features=log2, n_estimators=600 ..........\n",
      "[CV]  learning_rate=0.1, max_features=log2, n_estimators=600, total=   1.0s\n",
      "[CV] learning_rate=0.1, max_features=log2, n_estimators=600 ..........\n",
      "[CV]  learning_rate=0.1, max_features=log2, n_estimators=600, total=   0.8s\n",
      "[CV] learning_rate=0.1, max_features=log2, n_estimators=600 ..........\n",
      "[CV]  learning_rate=0.1, max_features=log2, n_estimators=600, total=   0.9s\n",
      "[CV] learning_rate=0.1, max_features=log2, n_estimators=600 ..........\n",
      "[CV]  learning_rate=0.1, max_features=log2, n_estimators=600, total=   0.9s\n",
      "[CV] learning_rate=0.1, max_features=log2, n_estimators=600 ..........\n",
      "[CV]  learning_rate=0.1, max_features=log2, n_estimators=600, total=   1.0s\n",
      "[CV] learning_rate=0.1, max_features=log2, n_estimators=400 ..........\n",
      "[CV]  learning_rate=0.1, max_features=log2, n_estimators=400, total=   0.6s\n",
      "[CV] learning_rate=0.1, max_features=log2, n_estimators=400 ..........\n",
      "[CV]  learning_rate=0.1, max_features=log2, n_estimators=600, total=   1.0s\n",
      "[CV] learning_rate=0.1, max_features=log2, n_estimators=400 ..........\n",
      "[CV]  learning_rate=0.1, max_features=log2, n_estimators=400, total=   0.7s\n",
      "[CV]  learning_rate=0.1, max_features=log2, n_estimators=400, total=   0.6s\n",
      "[CV] learning_rate=0.1, max_features=log2, n_estimators=400 ..........\n",
      "[CV] learning_rate=0.1, max_features=log2, n_estimators=400 ..........\n",
      "[CV]  learning_rate=0.1, max_features=log2, n_estimators=400, total=   0.6s\n",
      "[CV] learning_rate=0.1, max_features=log2, n_estimators=400 ..........\n",
      "[CV]  learning_rate=0.1, max_features=log2, n_estimators=400, total=   0.7s\n",
      "[CV] learning_rate=0.1, max_features=log2, n_estimators=400 ..........\n",
      "[CV]  learning_rate=0.1, max_features=log2, n_estimators=400, total=   0.6s\n",
      "[CV] learning_rate=0.1, max_features=log2, n_estimators=400 ..........\n",
      "[CV]  learning_rate=0.1, max_features=log2, n_estimators=400, total=   0.7s\n",
      "[CV] learning_rate=0.1, max_features=log2, n_estimators=400 ..........\n",
      "[CV]  learning_rate=0.1, max_features=log2, n_estimators=400, total=   0.8s\n",
      "[CV] learning_rate=0.1, max_features=log2, n_estimators=400 ..........\n",
      "[CV]  learning_rate=0.1, max_features=log2, n_estimators=400, total=   0.7s\n",
      "[CV]  learning_rate=0.1, max_features=log2, n_estimators=400, total=   0.6s\n"
     ]
    },
    {
     "name": "stderr",
     "output_type": "stream",
     "text": [
      "[Parallel(n_jobs=2)]: Done 120 out of 120 | elapsed:  1.4min finished\n"
     ]
    },
    {
     "name": "stdout",
     "output_type": "stream",
     "text": [
      "{'learning_rate': 0.001, 'max_features': 'log2', 'n_estimators': 2000}\n",
      "0.846240179574\n"
     ]
    }
   ],
   "source": [
    "params = {'n_estimators':[2000, 700, 600, 400],\n",
    "          'learning_rate':[0.001, 0.01, 0.1],\n",
    "          'max_features':['log2']}\n",
    "gb = GradientBoostingClassifier(random_state=0)\n",
    "clf_gb = GridSearchCV(gb, params,\n",
    "                      cv=StratifiedKFold(n_splits=10, shuffle=True, random_state=999),\n",
    "                      scoring='accuracy', n_jobs=2, verbose=2)\n",
    "\n",
    "clf_gb.fit(X2_train, y2_train)\n",
    "print(clf_gb.best_params_)\n",
    "print(clf_gb.best_score_)"
   ]
  },
  {
   "cell_type": "markdown",
   "metadata": {},
   "source": [
    "## Submit"
   ]
  },
  {
   "cell_type": "code",
   "execution_count": 292,
   "metadata": {},
   "outputs": [],
   "source": [
    "X_test = df[df['Survived'].isnull()][cols].values\n",
    "y_index = df[df['Survived'].isnull()]['PassengerId'].values\n",
    "X_test = np.ascontiguousarray(X_test, dtype=np.float32)"
   ]
  },
  {
   "cell_type": "code",
   "execution_count": 293,
   "metadata": {},
   "outputs": [],
   "source": [
    "X_test_normalized = normalizer.transform(X_test)\n",
    "X_test_normalized = np.ascontiguousarray(X_test_normalized, dtype=np.float32)"
   ]
  },
  {
   "cell_type": "code",
   "execution_count": 294,
   "metadata": {},
   "outputs": [
    {
     "data": {
      "text/plain": [
       "AdaBoostClassifier(algorithm='SAMME.R', base_estimator=None,\n",
       "          learning_rate=0.001, n_estimators=10000, random_state=0)"
      ]
     },
     "execution_count": 294,
     "metadata": {},
     "output_type": "execute_result"
    }
   ],
   "source": [
    "clf_rf1.best_estimator_.fit(X_train, y_train)\n",
    "clf_rf2.best_estimator_.fit(X_train, y_train)\n",
    "clf_svc.best_estimator_.fit(X_train_normalized, y_train)\n",
    "clf_lr.best_estimator_.fit(X_train_normalized, y_train)\n",
    "clf_ada.best_estimator_.fit(X_train, y_train)"
   ]
  },
  {
   "cell_type": "code",
   "execution_count": 295,
   "metadata": {},
   "outputs": [],
   "source": [
    "y_predict = [clf_rf1.best_estimator_.predict_proba(X_test),\n",
    "             clf_rf2.best_estimator_.predict_proba(X_test),\n",
    "             clf_svc.best_estimator_.predict_proba(X_test_normalized),\n",
    "             clf_lr.best_estimator_.predict_proba(X_test_normalized),\n",
    "             clf_ada.best_estimator_.predict_proba(X_test)]"
   ]
  },
  {
   "cell_type": "code",
   "execution_count": 296,
   "metadata": {},
   "outputs": [],
   "source": [
    "X2_test = np.vstack([y[:, 1] for y in y_predict]).T\n",
    "#X2_test = np.hstack([X_test, X2_test])\n",
    "final = clf_gb.best_estimator_.predict(X2_test)"
   ]
  },
  {
   "cell_type": "code",
   "execution_count": 297,
   "metadata": {},
   "outputs": [],
   "source": [
    "df_submit = pd.DataFrame(y_index, columns=['PassengerId'])\n",
    "df_submit['Survived'] = final.astype(int)\n",
    "df_submit.to_csv('submit.csv', index=False)"
   ]
  },
  {
   "cell_type": "code",
   "execution_count": null,
   "metadata": {},
   "outputs": [],
   "source": []
  }
 ],
 "metadata": {
  "kernelspec": {
   "display_name": "Python 3",
   "language": "python",
   "name": "python3"
  },
  "language_info": {
   "codemirror_mode": {
    "name": "ipython",
    "version": 3
   },
   "file_extension": ".py",
   "mimetype": "text/x-python",
   "name": "python",
   "nbconvert_exporter": "python",
   "pygments_lexer": "ipython3",
   "version": "3.6.4"
  }
 },
 "nbformat": 4,
 "nbformat_minor": 2
}
